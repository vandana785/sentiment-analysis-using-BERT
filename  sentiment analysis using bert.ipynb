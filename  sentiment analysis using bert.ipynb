{
 "cells": [
  {
   "cell_type": "code",
   "execution_count": 1,
   "id": "e249c31a",
   "metadata": {
    "scrolled": true
   },
   "outputs": [],
   "source": [
    "import pandas as pd\n",
    "import numpy as np\n",
    "from sklearn.feature_extraction.text import TfidfVectorizer\n",
    "from sklearn.preprocessing import MinMaxScaler\n",
    "from sklearn.model_selection import train_test_split\n",
    "from sklearn.linear_model import LogisticRegression\n",
    "from sklearn.metrics import confusion_matrix, classification_report\n",
    "from sklearn.metrics import auc\n",
    "from sklearn.metrics import accuracy_score, precision_score, recall_score, roc_curve, auc\n",
    "import matplotlib.pyplot as plt\n",
    "from sklearn.svm import SVC\n",
    "from sklearn.naive_bayes import GaussianNB\n",
    "from sklearn.naive_bayes import MultinomialNB\n",
    "from sklearn.metrics import roc_curve, roc_auc_score, precision_score, recall_score\n",
    "from sklearn.metrics import accuracy_score, classification_report\n",
    "from sklearn.preprocessing import StandardScaler\n",
    "from transformers import BertTokenizer, BertForSequenceClassification\n",
    "import torch\n",
    "from torch.utils.data import TensorDataset, DataLoader, random_split\n",
    "from torch.optim import AdamW\n",
    "import torch.nn.functional as F\n"
   ]
  },
  {
   "cell_type": "code",
   "execution_count": 2,
   "id": "5236b52c",
   "metadata": {},
   "outputs": [],
   "source": [
    "# Filtering out the warnings\n",
    "\n",
    "import warnings\n",
    "\n",
    "warnings.filterwarnings('ignore')"
   ]
  },
  {
   "cell_type": "code",
   "execution_count": 3,
   "id": "6d52d7c0",
   "metadata": {},
   "outputs": [
    {
     "data": {
      "text/html": [
       "<div>\n",
       "<style scoped>\n",
       "    .dataframe tbody tr th:only-of-type {\n",
       "        vertical-align: middle;\n",
       "    }\n",
       "\n",
       "    .dataframe tbody tr th {\n",
       "        vertical-align: top;\n",
       "    }\n",
       "\n",
       "    .dataframe thead th {\n",
       "        text-align: right;\n",
       "    }\n",
       "</style>\n",
       "<table border=\"1\" class=\"dataframe\">\n",
       "  <thead>\n",
       "    <tr style=\"text-align: right;\">\n",
       "      <th></th>\n",
       "      <th>Movies_name</th>\n",
       "      <th>Movies_url</th>\n",
       "      <th>Movies_Time (in minutes)</th>\n",
       "      <th>Movies_Content_Type</th>\n",
       "      <th>Movies_Director</th>\n",
       "      <th>Movies_Ratings</th>\n",
       "      <th>Movies_Votes</th>\n",
       "      <th>Movies_User_Reviews</th>\n",
       "      <th>Movies_Critic_reviews</th>\n",
       "      <th>Movies_Writers</th>\n",
       "      <th>Movies_Release_Date</th>\n",
       "      <th>Movies_Origin_Country</th>\n",
       "      <th>Movies_ProductionCompany</th>\n",
       "      <th>Movies_Budget</th>\n",
       "      <th>Movies_Gross</th>\n",
       "    </tr>\n",
       "  </thead>\n",
       "  <tbody>\n",
       "    <tr>\n",
       "      <th>0</th>\n",
       "      <td>Eternals</td>\n",
       "      <td>https://www.imdb.com/title/tt9032400/?ref_=adv...</td>\n",
       "      <td>156 min</td>\n",
       "      <td>Action, Adventure, Fantasy</td>\n",
       "      <td>ChloÃ© Zhao</td>\n",
       "      <td>6.5</td>\n",
       "      <td>2,19,680</td>\n",
       "      <td>2.9KUser reviews</td>\n",
       "      <td>312Critic reviews</td>\n",
       "      <td>Ryan Firpo</td>\n",
       "      <td>November 5, 2021 (United States)</td>\n",
       "      <td>United States</td>\n",
       "      <td>Marvel Studios</td>\n",
       "      <td>$200,000,000 (estimated)</td>\n",
       "      <td>$164,866,810</td>\n",
       "    </tr>\n",
       "    <tr>\n",
       "      <th>1</th>\n",
       "      <td>Encanto</td>\n",
       "      <td>https://www.imdb.com/title/tt2953050/?ref_=adv...</td>\n",
       "      <td>102 min</td>\n",
       "      <td>Animation, Adventure, Comedy</td>\n",
       "      <td>Jared Bush</td>\n",
       "      <td>7.3</td>\n",
       "      <td>1,11,263</td>\n",
       "      <td>812User reviews</td>\n",
       "      <td>190Critic reviews</td>\n",
       "      <td>Byron Howard</td>\n",
       "      <td>November 24, 2021 (United States)</td>\n",
       "      <td>NaN</td>\n",
       "      <td>NaN</td>\n",
       "      <td>$50,000,000 (estimated)</td>\n",
       "      <td>$93,444,336</td>\n",
       "    </tr>\n",
       "    <tr>\n",
       "      <th>2</th>\n",
       "      <td>Spider-Man: No Way Home</td>\n",
       "      <td>https://www.imdb.com/title/tt10872600/?ref_=ad...</td>\n",
       "      <td>148 min</td>\n",
       "      <td>Action, Adventure, Fantasy</td>\n",
       "      <td>Jon Watts</td>\n",
       "      <td>8.7</td>\n",
       "      <td>4,17,069</td>\n",
       "      <td>4.8KUser reviews</td>\n",
       "      <td>334Critic reviews</td>\n",
       "      <td>Stan Lee</td>\n",
       "      <td>December 17, 2021 (United States)</td>\n",
       "      <td>NaN</td>\n",
       "      <td>Marvel Studios</td>\n",
       "      <td>$200,000,000 (estimated)</td>\n",
       "      <td>$721,865,255</td>\n",
       "    </tr>\n",
       "    <tr>\n",
       "      <th>3</th>\n",
       "      <td>Don't Look Up</td>\n",
       "      <td>https://www.imdb.com/title/tt11286314/?ref_=ad...</td>\n",
       "      <td>138 min</td>\n",
       "      <td>Comedy, Drama, Sci-Fi</td>\n",
       "      <td>Adam McKay</td>\n",
       "      <td>7.3</td>\n",
       "      <td>3,84,415</td>\n",
       "      <td>4KUser reviews</td>\n",
       "      <td>254Critic reviews</td>\n",
       "      <td>NaN</td>\n",
       "      <td>December 24, 2021 (United States)</td>\n",
       "      <td>NaN</td>\n",
       "      <td>Bluegrass Films</td>\n",
       "      <td>$784,681</td>\n",
       "      <td>NaN</td>\n",
       "    </tr>\n",
       "    <tr>\n",
       "      <th>4</th>\n",
       "      <td>Sing 2</td>\n",
       "      <td>https://www.imdb.com/title/tt6467266/?ref_=adv...</td>\n",
       "      <td>110 min</td>\n",
       "      <td>Animation, Adventure, Comedy</td>\n",
       "      <td>Garth Jennings</td>\n",
       "      <td>7.6</td>\n",
       "      <td>22,928</td>\n",
       "      <td>242User reviews</td>\n",
       "      <td>90Critic reviews</td>\n",
       "      <td>NaN</td>\n",
       "      <td>December 22, 2021 (United States)</td>\n",
       "      <td>Color</td>\n",
       "      <td>Universal Pictures</td>\n",
       "      <td>$85,000,000 (estimated)</td>\n",
       "      <td>$128,733,195</td>\n",
       "    </tr>\n",
       "  </tbody>\n",
       "</table>\n",
       "</div>"
      ],
      "text/plain": [
       "               Movies_name                                         Movies_url  \\\n",
       "0                 Eternals  https://www.imdb.com/title/tt9032400/?ref_=adv...   \n",
       "1                  Encanto  https://www.imdb.com/title/tt2953050/?ref_=adv...   \n",
       "2  Spider-Man: No Way Home  https://www.imdb.com/title/tt10872600/?ref_=ad...   \n",
       "3            Don't Look Up  https://www.imdb.com/title/tt11286314/?ref_=ad...   \n",
       "4                   Sing 2  https://www.imdb.com/title/tt6467266/?ref_=adv...   \n",
       "\n",
       "  Movies_Time (in minutes)           Movies_Content_Type Movies_Director  \\\n",
       "0                  156 min    Action, Adventure, Fantasy     ChloÃ© Zhao   \n",
       "1                  102 min  Animation, Adventure, Comedy      Jared Bush   \n",
       "2                  148 min    Action, Adventure, Fantasy       Jon Watts   \n",
       "3                  138 min         Comedy, Drama, Sci-Fi      Adam McKay   \n",
       "4                  110 min  Animation, Adventure, Comedy  Garth Jennings   \n",
       "\n",
       "   Movies_Ratings Movies_Votes Movies_User_Reviews Movies_Critic_reviews  \\\n",
       "0             6.5     2,19,680    2.9KUser reviews     312Critic reviews   \n",
       "1             7.3     1,11,263     812User reviews     190Critic reviews   \n",
       "2             8.7     4,17,069    4.8KUser reviews     334Critic reviews   \n",
       "3             7.3     3,84,415      4KUser reviews     254Critic reviews   \n",
       "4             7.6       22,928     242User reviews      90Critic reviews   \n",
       "\n",
       "  Movies_Writers                Movies_Release_Date Movies_Origin_Country  \\\n",
       "0     Ryan Firpo   November 5, 2021 (United States)         United States   \n",
       "1   Byron Howard  November 24, 2021 (United States)                   NaN   \n",
       "2       Stan Lee  December 17, 2021 (United States)                   NaN   \n",
       "3            NaN  December 24, 2021 (United States)                   NaN   \n",
       "4            NaN  December 22, 2021 (United States)                 Color   \n",
       "\n",
       "  Movies_ProductionCompany             Movies_Budget  Movies_Gross  \n",
       "0           Marvel Studios  $200,000,000 (estimated)  $164,866,810  \n",
       "1                      NaN   $50,000,000 (estimated)   $93,444,336  \n",
       "2           Marvel Studios  $200,000,000 (estimated)  $721,865,255  \n",
       "3          Bluegrass Films                  $784,681           NaN  \n",
       "4       Universal Pictures   $85,000,000 (estimated)  $128,733,195  "
      ]
     },
     "execution_count": 3,
     "metadata": {},
     "output_type": "execute_result"
    }
   ],
   "source": [
    "IMDB_Movies_df = pd.read_csv(\"C:\\\\Users\\\\dixit\\\\OneDrive\\\\Desktop\\\\imdbdataset.csv\")\n",
    "IMDB_Movies_df.head()"
   ]
  },
  {
   "cell_type": "code",
   "execution_count": 4,
   "id": "9bf0626f",
   "metadata": {},
   "outputs": [
    {
     "name": "stdout",
     "output_type": "stream",
     "text": [
      "<class 'pandas.core.frame.DataFrame'>\n",
      "RangeIndex: 12310 entries, 0 to 12309\n",
      "Data columns (total 15 columns):\n",
      " #   Column                    Non-Null Count  Dtype  \n",
      "---  ------                    --------------  -----  \n",
      " 0   Movies_name               12310 non-null  object \n",
      " 1   Movies_url                12310 non-null  object \n",
      " 2   Movies_Time (in minutes)  7818 non-null   object \n",
      " 3   Movies_Content_Type       11517 non-null  object \n",
      " 4   Movies_Director           12223 non-null  object \n",
      " 5   Movies_Ratings            5245 non-null   float64\n",
      " 6   Movies_Votes              5251 non-null   object \n",
      " 7   Movies_User_Reviews       418 non-null    object \n",
      " 8   Movies_Critic_reviews     418 non-null    object \n",
      " 9   Movies_Writers            1394 non-null   object \n",
      " 10  Movies_Release_Date       11923 non-null  object \n",
      " 11  Movies_Origin_Country     262 non-null    object \n",
      " 12  Movies_ProductionCompany  725 non-null    object \n",
      " 13  Movies_Budget             4771 non-null   object \n",
      " 14  Movies_Gross              344 non-null    object \n",
      "dtypes: float64(1), object(14)\n",
      "memory usage: 1.4+ MB\n"
     ]
    }
   ],
   "source": [
    "# Info of IMDB_Movies\n",
    "IMDB_Movies_df.info()"
   ]
  },
  {
   "cell_type": "code",
   "execution_count": 5,
   "id": "4283ca17",
   "metadata": {},
   "outputs": [
    {
     "data": {
      "text/plain": [
       "(12310, 15)"
      ]
     },
     "execution_count": 5,
     "metadata": {},
     "output_type": "execute_result"
    }
   ],
   "source": [
    "#check shape of IMDB\n",
    "IMDB_Movies_df.shape"
   ]
  },
  {
   "cell_type": "code",
   "execution_count": 6,
   "id": "a131f8a8",
   "metadata": {},
   "outputs": [
    {
     "data": {
      "text/html": [
       "<div>\n",
       "<style scoped>\n",
       "    .dataframe tbody tr th:only-of-type {\n",
       "        vertical-align: middle;\n",
       "    }\n",
       "\n",
       "    .dataframe tbody tr th {\n",
       "        vertical-align: top;\n",
       "    }\n",
       "\n",
       "    .dataframe thead th {\n",
       "        text-align: right;\n",
       "    }\n",
       "</style>\n",
       "<table border=\"1\" class=\"dataframe\">\n",
       "  <thead>\n",
       "    <tr style=\"text-align: right;\">\n",
       "      <th></th>\n",
       "      <th>Movies_Ratings</th>\n",
       "    </tr>\n",
       "  </thead>\n",
       "  <tbody>\n",
       "    <tr>\n",
       "      <th>count</th>\n",
       "      <td>5245.000000</td>\n",
       "    </tr>\n",
       "    <tr>\n",
       "      <th>mean</th>\n",
       "      <td>6.169514</td>\n",
       "    </tr>\n",
       "    <tr>\n",
       "      <th>std</th>\n",
       "      <td>1.633794</td>\n",
       "    </tr>\n",
       "    <tr>\n",
       "      <th>min</th>\n",
       "      <td>1.000000</td>\n",
       "    </tr>\n",
       "    <tr>\n",
       "      <th>25%</th>\n",
       "      <td>5.200000</td>\n",
       "    </tr>\n",
       "    <tr>\n",
       "      <th>50%</th>\n",
       "      <td>6.300000</td>\n",
       "    </tr>\n",
       "    <tr>\n",
       "      <th>75%</th>\n",
       "      <td>7.300000</td>\n",
       "    </tr>\n",
       "    <tr>\n",
       "      <th>max</th>\n",
       "      <td>10.000000</td>\n",
       "    </tr>\n",
       "  </tbody>\n",
       "</table>\n",
       "</div>"
      ],
      "text/plain": [
       "       Movies_Ratings\n",
       "count     5245.000000\n",
       "mean         6.169514\n",
       "std          1.633794\n",
       "min          1.000000\n",
       "25%          5.200000\n",
       "50%          6.300000\n",
       "75%          7.300000\n",
       "max         10.000000"
      ]
     },
     "execution_count": 6,
     "metadata": {},
     "output_type": "execute_result"
    }
   ],
   "source": [
    "# Describe on IMDB_Movies\n",
    "IMDB_Movies_df.describe()"
   ]
  },
  {
   "cell_type": "code",
   "execution_count": 7,
   "id": "0e079c9d",
   "metadata": {},
   "outputs": [
    {
     "data": {
      "text/html": [
       "<div>\n",
       "<style scoped>\n",
       "    .dataframe tbody tr th:only-of-type {\n",
       "        vertical-align: middle;\n",
       "    }\n",
       "\n",
       "    .dataframe tbody tr th {\n",
       "        vertical-align: top;\n",
       "    }\n",
       "\n",
       "    .dataframe thead th {\n",
       "        text-align: right;\n",
       "    }\n",
       "</style>\n",
       "<table border=\"1\" class=\"dataframe\">\n",
       "  <thead>\n",
       "    <tr style=\"text-align: right;\">\n",
       "      <th></th>\n",
       "      <th>Movies_Ratings</th>\n",
       "    </tr>\n",
       "  </thead>\n",
       "  <tbody>\n",
       "    <tr>\n",
       "      <th>count</th>\n",
       "      <td>5245.000000</td>\n",
       "    </tr>\n",
       "    <tr>\n",
       "      <th>mean</th>\n",
       "      <td>6.169514</td>\n",
       "    </tr>\n",
       "    <tr>\n",
       "      <th>std</th>\n",
       "      <td>1.633794</td>\n",
       "    </tr>\n",
       "    <tr>\n",
       "      <th>min</th>\n",
       "      <td>1.000000</td>\n",
       "    </tr>\n",
       "    <tr>\n",
       "      <th>25%</th>\n",
       "      <td>5.200000</td>\n",
       "    </tr>\n",
       "    <tr>\n",
       "      <th>50%</th>\n",
       "      <td>6.300000</td>\n",
       "    </tr>\n",
       "    <tr>\n",
       "      <th>75%</th>\n",
       "      <td>7.300000</td>\n",
       "    </tr>\n",
       "    <tr>\n",
       "      <th>85%</th>\n",
       "      <td>7.800000</td>\n",
       "    </tr>\n",
       "    <tr>\n",
       "      <th>95%</th>\n",
       "      <td>8.700000</td>\n",
       "    </tr>\n",
       "    <tr>\n",
       "      <th>99%</th>\n",
       "      <td>9.400000</td>\n",
       "    </tr>\n",
       "    <tr>\n",
       "      <th>max</th>\n",
       "      <td>10.000000</td>\n",
       "    </tr>\n",
       "  </tbody>\n",
       "</table>\n",
       "</div>"
      ],
      "text/plain": [
       "       Movies_Ratings\n",
       "count     5245.000000\n",
       "mean         6.169514\n",
       "std          1.633794\n",
       "min          1.000000\n",
       "25%          5.200000\n",
       "50%          6.300000\n",
       "75%          7.300000\n",
       "85%          7.800000\n",
       "95%          8.700000\n",
       "99%          9.400000\n",
       "max         10.000000"
      ]
     },
     "execution_count": 7,
     "metadata": {},
     "output_type": "execute_result"
    }
   ],
   "source": [
    "# Checking outliers at 25%, 50%, 75%, 90%, 95% and 99%\n",
    "IMDB_Movies_df.describe(percentiles=[.25, .5, .75, .85, .95, .99])"
   ]
  },
  {
   "cell_type": "code",
   "execution_count": 8,
   "id": "67f9de5b",
   "metadata": {},
   "outputs": [
    {
     "data": {
      "text/plain": [
       "Movies_name                 12094\n",
       "Movies_url                  12310\n",
       "Movies_Time (in minutes)      213\n",
       "Movies_Content_Type           451\n",
       "Movies_Director             10356\n",
       "Movies_Ratings                 90\n",
       "Movies_Votes                 1429\n",
       "Movies_User_Reviews           246\n",
       "Movies_Critic_reviews         181\n",
       "Movies_Writers               1354\n",
       "Movies_Release_Date          4086\n",
       "Movies_Origin_Country           7\n",
       "Movies_ProductionCompany      675\n",
       "Movies_Budget                2167\n",
       "Movies_Gross                  228\n",
       "dtype: int64"
      ]
     },
     "execution_count": 8,
     "metadata": {},
     "output_type": "execute_result"
    }
   ],
   "source": [
    "# checking Unique values\n",
    "IMDB_Movies_df.nunique()"
   ]
  },
  {
   "cell_type": "code",
   "execution_count": 9,
   "id": "f592dcf7",
   "metadata": {},
   "outputs": [
    {
     "data": {
      "text/html": [
       "<div>\n",
       "<style scoped>\n",
       "    .dataframe tbody tr th:only-of-type {\n",
       "        vertical-align: middle;\n",
       "    }\n",
       "\n",
       "    .dataframe tbody tr th {\n",
       "        vertical-align: top;\n",
       "    }\n",
       "\n",
       "    .dataframe thead th {\n",
       "        text-align: right;\n",
       "    }\n",
       "</style>\n",
       "<table border=\"1\" class=\"dataframe\">\n",
       "  <thead>\n",
       "    <tr style=\"text-align: right;\">\n",
       "      <th></th>\n",
       "      <th>Movies_name</th>\n",
       "      <th>Movies_url</th>\n",
       "      <th>Movies_Time (in minutes)</th>\n",
       "      <th>Movies_Content_Type</th>\n",
       "      <th>Movies_Director</th>\n",
       "      <th>Movies_Ratings</th>\n",
       "      <th>Movies_Votes</th>\n",
       "      <th>Movies_User_Reviews</th>\n",
       "      <th>Movies_Critic_reviews</th>\n",
       "      <th>Movies_Writers</th>\n",
       "      <th>Movies_Release_Date</th>\n",
       "      <th>Movies_Origin_Country</th>\n",
       "      <th>Movies_ProductionCompany</th>\n",
       "      <th>Movies_Budget</th>\n",
       "      <th>Movies_Gross</th>\n",
       "    </tr>\n",
       "  </thead>\n",
       "  <tbody>\n",
       "    <tr>\n",
       "      <th>0</th>\n",
       "      <td>False</td>\n",
       "      <td>False</td>\n",
       "      <td>False</td>\n",
       "      <td>False</td>\n",
       "      <td>False</td>\n",
       "      <td>False</td>\n",
       "      <td>False</td>\n",
       "      <td>False</td>\n",
       "      <td>False</td>\n",
       "      <td>False</td>\n",
       "      <td>False</td>\n",
       "      <td>False</td>\n",
       "      <td>False</td>\n",
       "      <td>False</td>\n",
       "      <td>False</td>\n",
       "    </tr>\n",
       "    <tr>\n",
       "      <th>1</th>\n",
       "      <td>False</td>\n",
       "      <td>False</td>\n",
       "      <td>False</td>\n",
       "      <td>False</td>\n",
       "      <td>False</td>\n",
       "      <td>False</td>\n",
       "      <td>False</td>\n",
       "      <td>False</td>\n",
       "      <td>False</td>\n",
       "      <td>False</td>\n",
       "      <td>False</td>\n",
       "      <td>True</td>\n",
       "      <td>True</td>\n",
       "      <td>False</td>\n",
       "      <td>False</td>\n",
       "    </tr>\n",
       "    <tr>\n",
       "      <th>2</th>\n",
       "      <td>False</td>\n",
       "      <td>False</td>\n",
       "      <td>False</td>\n",
       "      <td>False</td>\n",
       "      <td>False</td>\n",
       "      <td>False</td>\n",
       "      <td>False</td>\n",
       "      <td>False</td>\n",
       "      <td>False</td>\n",
       "      <td>False</td>\n",
       "      <td>False</td>\n",
       "      <td>True</td>\n",
       "      <td>False</td>\n",
       "      <td>False</td>\n",
       "      <td>False</td>\n",
       "    </tr>\n",
       "    <tr>\n",
       "      <th>3</th>\n",
       "      <td>False</td>\n",
       "      <td>False</td>\n",
       "      <td>False</td>\n",
       "      <td>False</td>\n",
       "      <td>False</td>\n",
       "      <td>False</td>\n",
       "      <td>False</td>\n",
       "      <td>False</td>\n",
       "      <td>False</td>\n",
       "      <td>True</td>\n",
       "      <td>False</td>\n",
       "      <td>True</td>\n",
       "      <td>False</td>\n",
       "      <td>False</td>\n",
       "      <td>True</td>\n",
       "    </tr>\n",
       "    <tr>\n",
       "      <th>4</th>\n",
       "      <td>False</td>\n",
       "      <td>False</td>\n",
       "      <td>False</td>\n",
       "      <td>False</td>\n",
       "      <td>False</td>\n",
       "      <td>False</td>\n",
       "      <td>False</td>\n",
       "      <td>False</td>\n",
       "      <td>False</td>\n",
       "      <td>True</td>\n",
       "      <td>False</td>\n",
       "      <td>False</td>\n",
       "      <td>False</td>\n",
       "      <td>False</td>\n",
       "      <td>False</td>\n",
       "    </tr>\n",
       "    <tr>\n",
       "      <th>...</th>\n",
       "      <td>...</td>\n",
       "      <td>...</td>\n",
       "      <td>...</td>\n",
       "      <td>...</td>\n",
       "      <td>...</td>\n",
       "      <td>...</td>\n",
       "      <td>...</td>\n",
       "      <td>...</td>\n",
       "      <td>...</td>\n",
       "      <td>...</td>\n",
       "      <td>...</td>\n",
       "      <td>...</td>\n",
       "      <td>...</td>\n",
       "      <td>...</td>\n",
       "      <td>...</td>\n",
       "    </tr>\n",
       "    <tr>\n",
       "      <th>12305</th>\n",
       "      <td>False</td>\n",
       "      <td>False</td>\n",
       "      <td>False</td>\n",
       "      <td>False</td>\n",
       "      <td>False</td>\n",
       "      <td>True</td>\n",
       "      <td>True</td>\n",
       "      <td>True</td>\n",
       "      <td>True</td>\n",
       "      <td>True</td>\n",
       "      <td>False</td>\n",
       "      <td>True</td>\n",
       "      <td>True</td>\n",
       "      <td>False</td>\n",
       "      <td>True</td>\n",
       "    </tr>\n",
       "    <tr>\n",
       "      <th>12306</th>\n",
       "      <td>False</td>\n",
       "      <td>False</td>\n",
       "      <td>False</td>\n",
       "      <td>False</td>\n",
       "      <td>False</td>\n",
       "      <td>True</td>\n",
       "      <td>True</td>\n",
       "      <td>True</td>\n",
       "      <td>True</td>\n",
       "      <td>True</td>\n",
       "      <td>False</td>\n",
       "      <td>True</td>\n",
       "      <td>True</td>\n",
       "      <td>True</td>\n",
       "      <td>True</td>\n",
       "    </tr>\n",
       "    <tr>\n",
       "      <th>12307</th>\n",
       "      <td>False</td>\n",
       "      <td>False</td>\n",
       "      <td>True</td>\n",
       "      <td>False</td>\n",
       "      <td>False</td>\n",
       "      <td>True</td>\n",
       "      <td>True</td>\n",
       "      <td>True</td>\n",
       "      <td>True</td>\n",
       "      <td>True</td>\n",
       "      <td>False</td>\n",
       "      <td>True</td>\n",
       "      <td>True</td>\n",
       "      <td>True</td>\n",
       "      <td>True</td>\n",
       "    </tr>\n",
       "    <tr>\n",
       "      <th>12308</th>\n",
       "      <td>False</td>\n",
       "      <td>False</td>\n",
       "      <td>True</td>\n",
       "      <td>False</td>\n",
       "      <td>False</td>\n",
       "      <td>True</td>\n",
       "      <td>True</td>\n",
       "      <td>True</td>\n",
       "      <td>True</td>\n",
       "      <td>True</td>\n",
       "      <td>False</td>\n",
       "      <td>True</td>\n",
       "      <td>True</td>\n",
       "      <td>True</td>\n",
       "      <td>True</td>\n",
       "    </tr>\n",
       "    <tr>\n",
       "      <th>12309</th>\n",
       "      <td>False</td>\n",
       "      <td>False</td>\n",
       "      <td>True</td>\n",
       "      <td>True</td>\n",
       "      <td>False</td>\n",
       "      <td>True</td>\n",
       "      <td>True</td>\n",
       "      <td>True</td>\n",
       "      <td>True</td>\n",
       "      <td>True</td>\n",
       "      <td>True</td>\n",
       "      <td>True</td>\n",
       "      <td>True</td>\n",
       "      <td>True</td>\n",
       "      <td>True</td>\n",
       "    </tr>\n",
       "  </tbody>\n",
       "</table>\n",
       "<p>12310 rows × 15 columns</p>\n",
       "</div>"
      ],
      "text/plain": [
       "       Movies_name  Movies_url  Movies_Time (in minutes)  Movies_Content_Type  \\\n",
       "0            False       False                     False                False   \n",
       "1            False       False                     False                False   \n",
       "2            False       False                     False                False   \n",
       "3            False       False                     False                False   \n",
       "4            False       False                     False                False   \n",
       "...            ...         ...                       ...                  ...   \n",
       "12305        False       False                     False                False   \n",
       "12306        False       False                     False                False   \n",
       "12307        False       False                      True                False   \n",
       "12308        False       False                      True                False   \n",
       "12309        False       False                      True                 True   \n",
       "\n",
       "       Movies_Director  Movies_Ratings  Movies_Votes  Movies_User_Reviews  \\\n",
       "0                False           False         False                False   \n",
       "1                False           False         False                False   \n",
       "2                False           False         False                False   \n",
       "3                False           False         False                False   \n",
       "4                False           False         False                False   \n",
       "...                ...             ...           ...                  ...   \n",
       "12305            False            True          True                 True   \n",
       "12306            False            True          True                 True   \n",
       "12307            False            True          True                 True   \n",
       "12308            False            True          True                 True   \n",
       "12309            False            True          True                 True   \n",
       "\n",
       "       Movies_Critic_reviews  Movies_Writers  Movies_Release_Date  \\\n",
       "0                      False           False                False   \n",
       "1                      False           False                False   \n",
       "2                      False           False                False   \n",
       "3                      False            True                False   \n",
       "4                      False            True                False   \n",
       "...                      ...             ...                  ...   \n",
       "12305                   True            True                False   \n",
       "12306                   True            True                False   \n",
       "12307                   True            True                False   \n",
       "12308                   True            True                False   \n",
       "12309                   True            True                 True   \n",
       "\n",
       "       Movies_Origin_Country  Movies_ProductionCompany  Movies_Budget  \\\n",
       "0                      False                     False          False   \n",
       "1                       True                      True          False   \n",
       "2                       True                     False          False   \n",
       "3                       True                     False          False   \n",
       "4                      False                     False          False   \n",
       "...                      ...                       ...            ...   \n",
       "12305                   True                      True          False   \n",
       "12306                   True                      True           True   \n",
       "12307                   True                      True           True   \n",
       "12308                   True                      True           True   \n",
       "12309                   True                      True           True   \n",
       "\n",
       "       Movies_Gross  \n",
       "0             False  \n",
       "1             False  \n",
       "2             False  \n",
       "3              True  \n",
       "4             False  \n",
       "...             ...  \n",
       "12305          True  \n",
       "12306          True  \n",
       "12307          True  \n",
       "12308          True  \n",
       "12309          True  \n",
       "\n",
       "[12310 rows x 15 columns]"
      ]
     },
     "execution_count": 9,
     "metadata": {},
     "output_type": "execute_result"
    }
   ],
   "source": [
    "# Checking the number of null values in each column:\n",
    "IMDB_Movies_df.isnull()"
   ]
  },
  {
   "cell_type": "code",
   "execution_count": 10,
   "id": "69f1a4a5",
   "metadata": {},
   "outputs": [
    {
     "data": {
      "text/plain": [
       "Movies_Origin_Country       12048\n",
       "Movies_Gross                11966\n",
       "Movies_User_Reviews         11892\n",
       "Movies_Critic_reviews       11892\n",
       "Movies_ProductionCompany    11585\n",
       "Movies_Writers              10916\n",
       "Movies_Budget                7539\n",
       "Movies_Ratings               7065\n",
       "Movies_Votes                 7059\n",
       "Movies_Time (in minutes)     4492\n",
       "Movies_Content_Type           793\n",
       "Movies_Release_Date           387\n",
       "Movies_Director                87\n",
       "Movies_name                     0\n",
       "Movies_url                      0\n",
       "dtype: int64"
      ]
     },
     "execution_count": 10,
     "metadata": {},
     "output_type": "execute_result"
    }
   ],
   "source": [
    "IMDB_Movies_df.isnull().sum().sort_values(ascending=False)"
   ]
  },
  {
   "cell_type": "code",
   "execution_count": 11,
   "id": "8085c7df",
   "metadata": {},
   "outputs": [
    {
     "data": {
      "text/plain": [
       "Movies_name                  0.00\n",
       "Movies_url                   0.00\n",
       "Movies_Time (in minutes)    36.49\n",
       "Movies_Content_Type          6.44\n",
       "Movies_Director              0.71\n",
       "Movies_Ratings              57.39\n",
       "Movies_Votes                57.34\n",
       "Movies_User_Reviews         96.60\n",
       "Movies_Critic_reviews       96.60\n",
       "Movies_Writers              88.68\n",
       "Movies_Release_Date          3.14\n",
       "Movies_Origin_Country       97.87\n",
       "Movies_ProductionCompany    94.11\n",
       "Movies_Budget               61.24\n",
       "Movies_Gross                97.21\n",
       "dtype: float64"
      ]
     },
     "execution_count": 11,
     "metadata": {},
     "output_type": "execute_result"
    }
   ],
   "source": [
    "# checking for the percentage of null values in each column \n",
    "\n",
    "round((IMDB_Movies_df.isnull().sum(axis = 0)/ len(IMDB_Movies_df.index))*100 , 2)"
   ]
  },
  {
   "cell_type": "code",
   "execution_count": 12,
   "id": "97226a2d",
   "metadata": {},
   "outputs": [],
   "source": [
    "IMDB_Movies_df['Movies_Ratings'] = pd.to_numeric(IMDB_Movies_df['Movies_Ratings'], errors='coerce')\n",
    "IMDB_Movies_df['Movies_Ratings'] = IMDB_Movies_df['Movies_Ratings'].round()\n"
   ]
  },
  {
   "cell_type": "code",
   "execution_count": 13,
   "id": "5b4843d8",
   "metadata": {},
   "outputs": [
    {
     "data": {
      "text/html": [
       "<div>\n",
       "<style scoped>\n",
       "    .dataframe tbody tr th:only-of-type {\n",
       "        vertical-align: middle;\n",
       "    }\n",
       "\n",
       "    .dataframe tbody tr th {\n",
       "        vertical-align: top;\n",
       "    }\n",
       "\n",
       "    .dataframe thead th {\n",
       "        text-align: right;\n",
       "    }\n",
       "</style>\n",
       "<table border=\"1\" class=\"dataframe\">\n",
       "  <thead>\n",
       "    <tr style=\"text-align: right;\">\n",
       "      <th></th>\n",
       "      <th>Movies_name</th>\n",
       "      <th>Movies_url</th>\n",
       "      <th>Movies_Time (in minutes)</th>\n",
       "      <th>Movies_Content_Type</th>\n",
       "      <th>Movies_Director</th>\n",
       "      <th>Movies_Ratings</th>\n",
       "      <th>Movies_Votes</th>\n",
       "      <th>Movies_User_Reviews</th>\n",
       "      <th>Movies_Critic_reviews</th>\n",
       "      <th>Movies_Writers</th>\n",
       "      <th>Movies_Release_Date</th>\n",
       "      <th>Movies_Origin_Country</th>\n",
       "      <th>Movies_ProductionCompany</th>\n",
       "      <th>Movies_Budget</th>\n",
       "      <th>Movies_Gross</th>\n",
       "    </tr>\n",
       "  </thead>\n",
       "  <tbody>\n",
       "    <tr>\n",
       "      <th>0</th>\n",
       "      <td>Eternals</td>\n",
       "      <td>https://www.imdb.com/title/tt9032400/?ref_=adv...</td>\n",
       "      <td>156 min</td>\n",
       "      <td>Action, Adventure, Fantasy</td>\n",
       "      <td>ChloÃ© Zhao</td>\n",
       "      <td>6.0</td>\n",
       "      <td>2,19,680</td>\n",
       "      <td>2.9KUser reviews</td>\n",
       "      <td>312Critic reviews</td>\n",
       "      <td>Ryan Firpo</td>\n",
       "      <td>November 5, 2021 (United States)</td>\n",
       "      <td>United States</td>\n",
       "      <td>Marvel Studios</td>\n",
       "      <td>$200,000,000 (estimated)</td>\n",
       "      <td>$164,866,810</td>\n",
       "    </tr>\n",
       "    <tr>\n",
       "      <th>1</th>\n",
       "      <td>Encanto</td>\n",
       "      <td>https://www.imdb.com/title/tt2953050/?ref_=adv...</td>\n",
       "      <td>102 min</td>\n",
       "      <td>Animation, Adventure, Comedy</td>\n",
       "      <td>Jared Bush</td>\n",
       "      <td>7.0</td>\n",
       "      <td>1,11,263</td>\n",
       "      <td>812User reviews</td>\n",
       "      <td>190Critic reviews</td>\n",
       "      <td>Byron Howard</td>\n",
       "      <td>November 24, 2021 (United States)</td>\n",
       "      <td>NaN</td>\n",
       "      <td>NaN</td>\n",
       "      <td>$50,000,000 (estimated)</td>\n",
       "      <td>$93,444,336</td>\n",
       "    </tr>\n",
       "    <tr>\n",
       "      <th>2</th>\n",
       "      <td>Spider-Man: No Way Home</td>\n",
       "      <td>https://www.imdb.com/title/tt10872600/?ref_=ad...</td>\n",
       "      <td>148 min</td>\n",
       "      <td>Action, Adventure, Fantasy</td>\n",
       "      <td>Jon Watts</td>\n",
       "      <td>9.0</td>\n",
       "      <td>4,17,069</td>\n",
       "      <td>4.8KUser reviews</td>\n",
       "      <td>334Critic reviews</td>\n",
       "      <td>Stan Lee</td>\n",
       "      <td>December 17, 2021 (United States)</td>\n",
       "      <td>NaN</td>\n",
       "      <td>Marvel Studios</td>\n",
       "      <td>$200,000,000 (estimated)</td>\n",
       "      <td>$721,865,255</td>\n",
       "    </tr>\n",
       "    <tr>\n",
       "      <th>3</th>\n",
       "      <td>Don't Look Up</td>\n",
       "      <td>https://www.imdb.com/title/tt11286314/?ref_=ad...</td>\n",
       "      <td>138 min</td>\n",
       "      <td>Comedy, Drama, Sci-Fi</td>\n",
       "      <td>Adam McKay</td>\n",
       "      <td>7.0</td>\n",
       "      <td>3,84,415</td>\n",
       "      <td>4KUser reviews</td>\n",
       "      <td>254Critic reviews</td>\n",
       "      <td>NaN</td>\n",
       "      <td>December 24, 2021 (United States)</td>\n",
       "      <td>NaN</td>\n",
       "      <td>Bluegrass Films</td>\n",
       "      <td>$784,681</td>\n",
       "      <td>NaN</td>\n",
       "    </tr>\n",
       "    <tr>\n",
       "      <th>4</th>\n",
       "      <td>Sing 2</td>\n",
       "      <td>https://www.imdb.com/title/tt6467266/?ref_=adv...</td>\n",
       "      <td>110 min</td>\n",
       "      <td>Animation, Adventure, Comedy</td>\n",
       "      <td>Garth Jennings</td>\n",
       "      <td>8.0</td>\n",
       "      <td>22,928</td>\n",
       "      <td>242User reviews</td>\n",
       "      <td>90Critic reviews</td>\n",
       "      <td>NaN</td>\n",
       "      <td>December 22, 2021 (United States)</td>\n",
       "      <td>Color</td>\n",
       "      <td>Universal Pictures</td>\n",
       "      <td>$85,000,000 (estimated)</td>\n",
       "      <td>$128,733,195</td>\n",
       "    </tr>\n",
       "  </tbody>\n",
       "</table>\n",
       "</div>"
      ],
      "text/plain": [
       "               Movies_name                                         Movies_url  \\\n",
       "0                 Eternals  https://www.imdb.com/title/tt9032400/?ref_=adv...   \n",
       "1                  Encanto  https://www.imdb.com/title/tt2953050/?ref_=adv...   \n",
       "2  Spider-Man: No Way Home  https://www.imdb.com/title/tt10872600/?ref_=ad...   \n",
       "3            Don't Look Up  https://www.imdb.com/title/tt11286314/?ref_=ad...   \n",
       "4                   Sing 2  https://www.imdb.com/title/tt6467266/?ref_=adv...   \n",
       "\n",
       "  Movies_Time (in minutes)           Movies_Content_Type Movies_Director  \\\n",
       "0                  156 min    Action, Adventure, Fantasy     ChloÃ© Zhao   \n",
       "1                  102 min  Animation, Adventure, Comedy      Jared Bush   \n",
       "2                  148 min    Action, Adventure, Fantasy       Jon Watts   \n",
       "3                  138 min         Comedy, Drama, Sci-Fi      Adam McKay   \n",
       "4                  110 min  Animation, Adventure, Comedy  Garth Jennings   \n",
       "\n",
       "   Movies_Ratings Movies_Votes Movies_User_Reviews Movies_Critic_reviews  \\\n",
       "0             6.0     2,19,680    2.9KUser reviews     312Critic reviews   \n",
       "1             7.0     1,11,263     812User reviews     190Critic reviews   \n",
       "2             9.0     4,17,069    4.8KUser reviews     334Critic reviews   \n",
       "3             7.0     3,84,415      4KUser reviews     254Critic reviews   \n",
       "4             8.0       22,928     242User reviews      90Critic reviews   \n",
       "\n",
       "  Movies_Writers                Movies_Release_Date Movies_Origin_Country  \\\n",
       "0     Ryan Firpo   November 5, 2021 (United States)         United States   \n",
       "1   Byron Howard  November 24, 2021 (United States)                   NaN   \n",
       "2       Stan Lee  December 17, 2021 (United States)                   NaN   \n",
       "3            NaN  December 24, 2021 (United States)                   NaN   \n",
       "4            NaN  December 22, 2021 (United States)                 Color   \n",
       "\n",
       "  Movies_ProductionCompany             Movies_Budget  Movies_Gross  \n",
       "0           Marvel Studios  $200,000,000 (estimated)  $164,866,810  \n",
       "1                      NaN   $50,000,000 (estimated)   $93,444,336  \n",
       "2           Marvel Studios  $200,000,000 (estimated)  $721,865,255  \n",
       "3          Bluegrass Films                  $784,681           NaN  \n",
       "4       Universal Pictures   $85,000,000 (estimated)  $128,733,195  "
      ]
     },
     "execution_count": 13,
     "metadata": {},
     "output_type": "execute_result"
    }
   ],
   "source": [
    "IMDB_Movies_df['Movies_Ratings'].fillna(IMDB_Movies_df['Movies_Ratings'].median(), inplace=True)\n",
    "IMDB_Movies_df.head()"
   ]
  },
  {
   "cell_type": "code",
   "execution_count": 14,
   "id": "075217bb",
   "metadata": {},
   "outputs": [],
   "source": [
    "IMDB_Movies_df['Movies_Votes'] = pd.to_numeric(IMDB_Movies_df['Movies_Votes'].replace('[\\$,]', '', regex=True), errors='coerce')"
   ]
  },
  {
   "cell_type": "code",
   "execution_count": 15,
   "id": "f83af8ee",
   "metadata": {},
   "outputs": [
    {
     "data": {
      "text/html": [
       "<div>\n",
       "<style scoped>\n",
       "    .dataframe tbody tr th:only-of-type {\n",
       "        vertical-align: middle;\n",
       "    }\n",
       "\n",
       "    .dataframe tbody tr th {\n",
       "        vertical-align: top;\n",
       "    }\n",
       "\n",
       "    .dataframe thead th {\n",
       "        text-align: right;\n",
       "    }\n",
       "</style>\n",
       "<table border=\"1\" class=\"dataframe\">\n",
       "  <thead>\n",
       "    <tr style=\"text-align: right;\">\n",
       "      <th></th>\n",
       "      <th>Movies_name</th>\n",
       "      <th>Movies_url</th>\n",
       "      <th>Movies_Time (in minutes)</th>\n",
       "      <th>Movies_Content_Type</th>\n",
       "      <th>Movies_Director</th>\n",
       "      <th>Movies_Ratings</th>\n",
       "      <th>Movies_Votes</th>\n",
       "      <th>Movies_User_Reviews</th>\n",
       "      <th>Movies_Critic_reviews</th>\n",
       "      <th>Movies_Writers</th>\n",
       "      <th>Movies_Release_Date</th>\n",
       "      <th>Movies_Origin_Country</th>\n",
       "      <th>Movies_ProductionCompany</th>\n",
       "      <th>Movies_Budget</th>\n",
       "      <th>Movies_Gross</th>\n",
       "    </tr>\n",
       "  </thead>\n",
       "  <tbody>\n",
       "    <tr>\n",
       "      <th>0</th>\n",
       "      <td>Eternals</td>\n",
       "      <td>https://www.imdb.com/title/tt9032400/?ref_=adv...</td>\n",
       "      <td>156 min</td>\n",
       "      <td>Action, Adventure, Fantasy</td>\n",
       "      <td>ChloÃ© Zhao</td>\n",
       "      <td>6.0</td>\n",
       "      <td>219680.0</td>\n",
       "      <td>2.9KUser reviews</td>\n",
       "      <td>312Critic reviews</td>\n",
       "      <td>Ryan Firpo</td>\n",
       "      <td>November 5, 2021 (United States)</td>\n",
       "      <td>United States</td>\n",
       "      <td>Marvel Studios</td>\n",
       "      <td>$200,000,000 (estimated)</td>\n",
       "      <td>$164,866,810</td>\n",
       "    </tr>\n",
       "    <tr>\n",
       "      <th>1</th>\n",
       "      <td>Encanto</td>\n",
       "      <td>https://www.imdb.com/title/tt2953050/?ref_=adv...</td>\n",
       "      <td>102 min</td>\n",
       "      <td>Animation, Adventure, Comedy</td>\n",
       "      <td>Jared Bush</td>\n",
       "      <td>7.0</td>\n",
       "      <td>111263.0</td>\n",
       "      <td>812User reviews</td>\n",
       "      <td>190Critic reviews</td>\n",
       "      <td>Byron Howard</td>\n",
       "      <td>November 24, 2021 (United States)</td>\n",
       "      <td>NaN</td>\n",
       "      <td>NaN</td>\n",
       "      <td>$50,000,000 (estimated)</td>\n",
       "      <td>$93,444,336</td>\n",
       "    </tr>\n",
       "    <tr>\n",
       "      <th>2</th>\n",
       "      <td>Spider-Man: No Way Home</td>\n",
       "      <td>https://www.imdb.com/title/tt10872600/?ref_=ad...</td>\n",
       "      <td>148 min</td>\n",
       "      <td>Action, Adventure, Fantasy</td>\n",
       "      <td>Jon Watts</td>\n",
       "      <td>9.0</td>\n",
       "      <td>417069.0</td>\n",
       "      <td>4.8KUser reviews</td>\n",
       "      <td>334Critic reviews</td>\n",
       "      <td>Stan Lee</td>\n",
       "      <td>December 17, 2021 (United States)</td>\n",
       "      <td>NaN</td>\n",
       "      <td>Marvel Studios</td>\n",
       "      <td>$200,000,000 (estimated)</td>\n",
       "      <td>$721,865,255</td>\n",
       "    </tr>\n",
       "    <tr>\n",
       "      <th>3</th>\n",
       "      <td>Don't Look Up</td>\n",
       "      <td>https://www.imdb.com/title/tt11286314/?ref_=ad...</td>\n",
       "      <td>138 min</td>\n",
       "      <td>Comedy, Drama, Sci-Fi</td>\n",
       "      <td>Adam McKay</td>\n",
       "      <td>7.0</td>\n",
       "      <td>384415.0</td>\n",
       "      <td>4KUser reviews</td>\n",
       "      <td>254Critic reviews</td>\n",
       "      <td>NaN</td>\n",
       "      <td>December 24, 2021 (United States)</td>\n",
       "      <td>NaN</td>\n",
       "      <td>Bluegrass Films</td>\n",
       "      <td>$784,681</td>\n",
       "      <td>NaN</td>\n",
       "    </tr>\n",
       "    <tr>\n",
       "      <th>4</th>\n",
       "      <td>Sing 2</td>\n",
       "      <td>https://www.imdb.com/title/tt6467266/?ref_=adv...</td>\n",
       "      <td>110 min</td>\n",
       "      <td>Animation, Adventure, Comedy</td>\n",
       "      <td>Garth Jennings</td>\n",
       "      <td>8.0</td>\n",
       "      <td>22928.0</td>\n",
       "      <td>242User reviews</td>\n",
       "      <td>90Critic reviews</td>\n",
       "      <td>NaN</td>\n",
       "      <td>December 22, 2021 (United States)</td>\n",
       "      <td>Color</td>\n",
       "      <td>Universal Pictures</td>\n",
       "      <td>$85,000,000 (estimated)</td>\n",
       "      <td>$128,733,195</td>\n",
       "    </tr>\n",
       "  </tbody>\n",
       "</table>\n",
       "</div>"
      ],
      "text/plain": [
       "               Movies_name                                         Movies_url  \\\n",
       "0                 Eternals  https://www.imdb.com/title/tt9032400/?ref_=adv...   \n",
       "1                  Encanto  https://www.imdb.com/title/tt2953050/?ref_=adv...   \n",
       "2  Spider-Man: No Way Home  https://www.imdb.com/title/tt10872600/?ref_=ad...   \n",
       "3            Don't Look Up  https://www.imdb.com/title/tt11286314/?ref_=ad...   \n",
       "4                   Sing 2  https://www.imdb.com/title/tt6467266/?ref_=adv...   \n",
       "\n",
       "  Movies_Time (in minutes)           Movies_Content_Type Movies_Director  \\\n",
       "0                  156 min    Action, Adventure, Fantasy     ChloÃ© Zhao   \n",
       "1                  102 min  Animation, Adventure, Comedy      Jared Bush   \n",
       "2                  148 min    Action, Adventure, Fantasy       Jon Watts   \n",
       "3                  138 min         Comedy, Drama, Sci-Fi      Adam McKay   \n",
       "4                  110 min  Animation, Adventure, Comedy  Garth Jennings   \n",
       "\n",
       "   Movies_Ratings  Movies_Votes Movies_User_Reviews Movies_Critic_reviews  \\\n",
       "0             6.0      219680.0    2.9KUser reviews     312Critic reviews   \n",
       "1             7.0      111263.0     812User reviews     190Critic reviews   \n",
       "2             9.0      417069.0    4.8KUser reviews     334Critic reviews   \n",
       "3             7.0      384415.0      4KUser reviews     254Critic reviews   \n",
       "4             8.0       22928.0     242User reviews      90Critic reviews   \n",
       "\n",
       "  Movies_Writers                Movies_Release_Date Movies_Origin_Country  \\\n",
       "0     Ryan Firpo   November 5, 2021 (United States)         United States   \n",
       "1   Byron Howard  November 24, 2021 (United States)                   NaN   \n",
       "2       Stan Lee  December 17, 2021 (United States)                   NaN   \n",
       "3            NaN  December 24, 2021 (United States)                   NaN   \n",
       "4            NaN  December 22, 2021 (United States)                 Color   \n",
       "\n",
       "  Movies_ProductionCompany             Movies_Budget  Movies_Gross  \n",
       "0           Marvel Studios  $200,000,000 (estimated)  $164,866,810  \n",
       "1                      NaN   $50,000,000 (estimated)   $93,444,336  \n",
       "2           Marvel Studios  $200,000,000 (estimated)  $721,865,255  \n",
       "3          Bluegrass Films                  $784,681           NaN  \n",
       "4       Universal Pictures   $85,000,000 (estimated)  $128,733,195  "
      ]
     },
     "execution_count": 15,
     "metadata": {},
     "output_type": "execute_result"
    }
   ],
   "source": [
    "IMDB_Movies_df['Movies_Votes'].fillna(IMDB_Movies_df['Movies_Votes'].median(), inplace=True)\n",
    "IMDB_Movies_df.head()"
   ]
  },
  {
   "cell_type": "code",
   "execution_count": 16,
   "id": "a2729b64",
   "metadata": {},
   "outputs": [],
   "source": [
    "IMDB_text_columns = ['Movies_User_Reviews', 'Movies_Critic_reviews', 'Movies_Writers','Movies_Gross','Movies_Budget','Movies_ProductionCompany','Movies_Origin_Country','Movies_Director','Movies_Content_Type']"
   ]
  },
  {
   "cell_type": "code",
   "execution_count": 17,
   "id": "6603e2d6",
   "metadata": {},
   "outputs": [],
   "source": [
    "IMDB_Movies_df[IMDB_text_columns] = IMDB_Movies_df[IMDB_text_columns].fillna('Not Available')"
   ]
  },
  {
   "cell_type": "code",
   "execution_count": 18,
   "id": "20d9cbe6",
   "metadata": {},
   "outputs": [
    {
     "data": {
      "text/html": [
       "<div>\n",
       "<style scoped>\n",
       "    .dataframe tbody tr th:only-of-type {\n",
       "        vertical-align: middle;\n",
       "    }\n",
       "\n",
       "    .dataframe tbody tr th {\n",
       "        vertical-align: top;\n",
       "    }\n",
       "\n",
       "    .dataframe thead th {\n",
       "        text-align: right;\n",
       "    }\n",
       "</style>\n",
       "<table border=\"1\" class=\"dataframe\">\n",
       "  <thead>\n",
       "    <tr style=\"text-align: right;\">\n",
       "      <th></th>\n",
       "      <th>Movies_name</th>\n",
       "      <th>Movies_url</th>\n",
       "      <th>Movies_Time (in minutes)</th>\n",
       "      <th>Movies_Content_Type</th>\n",
       "      <th>Movies_Director</th>\n",
       "      <th>Movies_Ratings</th>\n",
       "      <th>Movies_Votes</th>\n",
       "      <th>Movies_User_Reviews</th>\n",
       "      <th>Movies_Critic_reviews</th>\n",
       "      <th>Movies_Writers</th>\n",
       "      <th>Movies_Release_Date</th>\n",
       "      <th>Movies_Origin_Country</th>\n",
       "      <th>Movies_ProductionCompany</th>\n",
       "      <th>Movies_Budget</th>\n",
       "      <th>Movies_Gross</th>\n",
       "    </tr>\n",
       "  </thead>\n",
       "  <tbody>\n",
       "    <tr>\n",
       "      <th>0</th>\n",
       "      <td>Eternals</td>\n",
       "      <td>https://www.imdb.com/title/tt9032400/?ref_=adv...</td>\n",
       "      <td>156 min</td>\n",
       "      <td>Action, Adventure, Fantasy</td>\n",
       "      <td>ChloÃ© Zhao</td>\n",
       "      <td>6.0</td>\n",
       "      <td>219680.0</td>\n",
       "      <td>2.9KUser reviews</td>\n",
       "      <td>312Critic reviews</td>\n",
       "      <td>Ryan Firpo</td>\n",
       "      <td>November 5, 2021 (United States)</td>\n",
       "      <td>United States</td>\n",
       "      <td>Marvel Studios</td>\n",
       "      <td>$200,000,000 (estimated)</td>\n",
       "      <td>$164,866,810</td>\n",
       "    </tr>\n",
       "    <tr>\n",
       "      <th>1</th>\n",
       "      <td>Encanto</td>\n",
       "      <td>https://www.imdb.com/title/tt2953050/?ref_=adv...</td>\n",
       "      <td>102 min</td>\n",
       "      <td>Animation, Adventure, Comedy</td>\n",
       "      <td>Jared Bush</td>\n",
       "      <td>7.0</td>\n",
       "      <td>111263.0</td>\n",
       "      <td>812User reviews</td>\n",
       "      <td>190Critic reviews</td>\n",
       "      <td>Byron Howard</td>\n",
       "      <td>November 24, 2021 (United States)</td>\n",
       "      <td>Not Available</td>\n",
       "      <td>Not Available</td>\n",
       "      <td>$50,000,000 (estimated)</td>\n",
       "      <td>$93,444,336</td>\n",
       "    </tr>\n",
       "    <tr>\n",
       "      <th>2</th>\n",
       "      <td>Spider-Man: No Way Home</td>\n",
       "      <td>https://www.imdb.com/title/tt10872600/?ref_=ad...</td>\n",
       "      <td>148 min</td>\n",
       "      <td>Action, Adventure, Fantasy</td>\n",
       "      <td>Jon Watts</td>\n",
       "      <td>9.0</td>\n",
       "      <td>417069.0</td>\n",
       "      <td>4.8KUser reviews</td>\n",
       "      <td>334Critic reviews</td>\n",
       "      <td>Stan Lee</td>\n",
       "      <td>December 17, 2021 (United States)</td>\n",
       "      <td>Not Available</td>\n",
       "      <td>Marvel Studios</td>\n",
       "      <td>$200,000,000 (estimated)</td>\n",
       "      <td>$721,865,255</td>\n",
       "    </tr>\n",
       "    <tr>\n",
       "      <th>3</th>\n",
       "      <td>Don't Look Up</td>\n",
       "      <td>https://www.imdb.com/title/tt11286314/?ref_=ad...</td>\n",
       "      <td>138 min</td>\n",
       "      <td>Comedy, Drama, Sci-Fi</td>\n",
       "      <td>Adam McKay</td>\n",
       "      <td>7.0</td>\n",
       "      <td>384415.0</td>\n",
       "      <td>4KUser reviews</td>\n",
       "      <td>254Critic reviews</td>\n",
       "      <td>Not Available</td>\n",
       "      <td>December 24, 2021 (United States)</td>\n",
       "      <td>Not Available</td>\n",
       "      <td>Bluegrass Films</td>\n",
       "      <td>$784,681</td>\n",
       "      <td>Not Available</td>\n",
       "    </tr>\n",
       "    <tr>\n",
       "      <th>4</th>\n",
       "      <td>Sing 2</td>\n",
       "      <td>https://www.imdb.com/title/tt6467266/?ref_=adv...</td>\n",
       "      <td>110 min</td>\n",
       "      <td>Animation, Adventure, Comedy</td>\n",
       "      <td>Garth Jennings</td>\n",
       "      <td>8.0</td>\n",
       "      <td>22928.0</td>\n",
       "      <td>242User reviews</td>\n",
       "      <td>90Critic reviews</td>\n",
       "      <td>Not Available</td>\n",
       "      <td>December 22, 2021 (United States)</td>\n",
       "      <td>Color</td>\n",
       "      <td>Universal Pictures</td>\n",
       "      <td>$85,000,000 (estimated)</td>\n",
       "      <td>$128,733,195</td>\n",
       "    </tr>\n",
       "  </tbody>\n",
       "</table>\n",
       "</div>"
      ],
      "text/plain": [
       "               Movies_name                                         Movies_url  \\\n",
       "0                 Eternals  https://www.imdb.com/title/tt9032400/?ref_=adv...   \n",
       "1                  Encanto  https://www.imdb.com/title/tt2953050/?ref_=adv...   \n",
       "2  Spider-Man: No Way Home  https://www.imdb.com/title/tt10872600/?ref_=ad...   \n",
       "3            Don't Look Up  https://www.imdb.com/title/tt11286314/?ref_=ad...   \n",
       "4                   Sing 2  https://www.imdb.com/title/tt6467266/?ref_=adv...   \n",
       "\n",
       "  Movies_Time (in minutes)           Movies_Content_Type Movies_Director  \\\n",
       "0                  156 min    Action, Adventure, Fantasy     ChloÃ© Zhao   \n",
       "1                  102 min  Animation, Adventure, Comedy      Jared Bush   \n",
       "2                  148 min    Action, Adventure, Fantasy       Jon Watts   \n",
       "3                  138 min         Comedy, Drama, Sci-Fi      Adam McKay   \n",
       "4                  110 min  Animation, Adventure, Comedy  Garth Jennings   \n",
       "\n",
       "   Movies_Ratings  Movies_Votes Movies_User_Reviews Movies_Critic_reviews  \\\n",
       "0             6.0      219680.0    2.9KUser reviews     312Critic reviews   \n",
       "1             7.0      111263.0     812User reviews     190Critic reviews   \n",
       "2             9.0      417069.0    4.8KUser reviews     334Critic reviews   \n",
       "3             7.0      384415.0      4KUser reviews     254Critic reviews   \n",
       "4             8.0       22928.0     242User reviews      90Critic reviews   \n",
       "\n",
       "  Movies_Writers                Movies_Release_Date Movies_Origin_Country  \\\n",
       "0     Ryan Firpo   November 5, 2021 (United States)         United States   \n",
       "1   Byron Howard  November 24, 2021 (United States)         Not Available   \n",
       "2       Stan Lee  December 17, 2021 (United States)         Not Available   \n",
       "3  Not Available  December 24, 2021 (United States)         Not Available   \n",
       "4  Not Available  December 22, 2021 (United States)                 Color   \n",
       "\n",
       "  Movies_ProductionCompany             Movies_Budget   Movies_Gross  \n",
       "0           Marvel Studios  $200,000,000 (estimated)   $164,866,810  \n",
       "1            Not Available   $50,000,000 (estimated)    $93,444,336  \n",
       "2           Marvel Studios  $200,000,000 (estimated)   $721,865,255  \n",
       "3          Bluegrass Films                  $784,681  Not Available  \n",
       "4       Universal Pictures   $85,000,000 (estimated)   $128,733,195  "
      ]
     },
     "execution_count": 18,
     "metadata": {},
     "output_type": "execute_result"
    }
   ],
   "source": [
    "#IMDB_Movies_df['Movies_Time (in minutes)'].fillna('NA', inplace=True)\n",
    "IMDB_Movies_df.head()"
   ]
  },
  {
   "cell_type": "code",
   "execution_count": 19,
   "id": "fc5231f0",
   "metadata": {},
   "outputs": [],
   "source": [
    "# Dropping column which not required for analysis:\n",
    "IMDB_columns_to_drop = ['Movies_url', 'Movies_Release_Date']"
   ]
  },
  {
   "cell_type": "code",
   "execution_count": 20,
   "id": "41c3a223",
   "metadata": {},
   "outputs": [
    {
     "data": {
      "text/plain": [
       "(12310, 13)"
      ]
     },
     "execution_count": 20,
     "metadata": {},
     "output_type": "execute_result"
    }
   ],
   "source": [
    "IMDB_Movies_df = IMDB_Movies_df.drop(columns=IMDB_columns_to_drop)\n",
    "IMDB_Movies_df.shape"
   ]
  },
  {
   "cell_type": "code",
   "execution_count": 21,
   "id": "42aac08d",
   "metadata": {},
   "outputs": [
    {
     "data": {
      "text/plain": [
       "Movies_Time (in minutes)    4492\n",
       "Movies_name                    0\n",
       "Movies_Content_Type            0\n",
       "Movies_Director                0\n",
       "Movies_Ratings                 0\n",
       "Movies_Votes                   0\n",
       "Movies_User_Reviews            0\n",
       "Movies_Critic_reviews          0\n",
       "Movies_Writers                 0\n",
       "Movies_Origin_Country          0\n",
       "Movies_ProductionCompany       0\n",
       "Movies_Budget                  0\n",
       "Movies_Gross                   0\n",
       "dtype: int64"
      ]
     },
     "execution_count": 21,
     "metadata": {},
     "output_type": "execute_result"
    }
   ],
   "source": [
    "# checking null values again:\n",
    "IMDB_Movies_df.isnull().sum().sort_values(ascending=False)"
   ]
  },
  {
   "cell_type": "code",
   "execution_count": 22,
   "id": "8399b33a",
   "metadata": {},
   "outputs": [],
   "source": [
    "IMDB_text_columns = ['Movies_name', 'Movies_Content_Type', 'Movies_Director', 'Movies_Writers', 'Movies_Origin_Country', 'Movies_ProductionCompany']"
   ]
  },
  {
   "cell_type": "code",
   "execution_count": 23,
   "id": "95a87d74",
   "metadata": {},
   "outputs": [
    {
     "data": {
      "text/html": [
       "<div>\n",
       "<style scoped>\n",
       "    .dataframe tbody tr th:only-of-type {\n",
       "        vertical-align: middle;\n",
       "    }\n",
       "\n",
       "    .dataframe tbody tr th {\n",
       "        vertical-align: top;\n",
       "    }\n",
       "\n",
       "    .dataframe thead th {\n",
       "        text-align: right;\n",
       "    }\n",
       "</style>\n",
       "<table border=\"1\" class=\"dataframe\">\n",
       "  <thead>\n",
       "    <tr style=\"text-align: right;\">\n",
       "      <th></th>\n",
       "      <th>Movies_name</th>\n",
       "      <th>Movies_Time (in minutes)</th>\n",
       "      <th>Movies_Content_Type</th>\n",
       "      <th>Movies_Director</th>\n",
       "      <th>Movies_Ratings</th>\n",
       "      <th>Movies_Votes</th>\n",
       "      <th>Movies_User_Reviews</th>\n",
       "      <th>Movies_Critic_reviews</th>\n",
       "      <th>Movies_Writers</th>\n",
       "      <th>Movies_Origin_Country</th>\n",
       "      <th>Movies_ProductionCompany</th>\n",
       "      <th>Movies_Budget</th>\n",
       "      <th>Movies_Gross</th>\n",
       "    </tr>\n",
       "  </thead>\n",
       "  <tbody>\n",
       "    <tr>\n",
       "      <th>0</th>\n",
       "      <td>eternals</td>\n",
       "      <td>156 min</td>\n",
       "      <td>action, adventure, fantasy</td>\n",
       "      <td>chloã© zhao</td>\n",
       "      <td>6.0</td>\n",
       "      <td>219680.0</td>\n",
       "      <td>2.9KUser reviews</td>\n",
       "      <td>312Critic reviews</td>\n",
       "      <td>ryan firpo</td>\n",
       "      <td>united states</td>\n",
       "      <td>marvel studios</td>\n",
       "      <td>$200,000,000 (estimated)</td>\n",
       "      <td>$164,866,810</td>\n",
       "    </tr>\n",
       "    <tr>\n",
       "      <th>1</th>\n",
       "      <td>encanto</td>\n",
       "      <td>102 min</td>\n",
       "      <td>animation, adventure, comedy</td>\n",
       "      <td>jared bush</td>\n",
       "      <td>7.0</td>\n",
       "      <td>111263.0</td>\n",
       "      <td>812User reviews</td>\n",
       "      <td>190Critic reviews</td>\n",
       "      <td>byron howard</td>\n",
       "      <td>not available</td>\n",
       "      <td>not available</td>\n",
       "      <td>$50,000,000 (estimated)</td>\n",
       "      <td>$93,444,336</td>\n",
       "    </tr>\n",
       "    <tr>\n",
       "      <th>2</th>\n",
       "      <td>spider-man: no way home</td>\n",
       "      <td>148 min</td>\n",
       "      <td>action, adventure, fantasy</td>\n",
       "      <td>jon watts</td>\n",
       "      <td>9.0</td>\n",
       "      <td>417069.0</td>\n",
       "      <td>4.8KUser reviews</td>\n",
       "      <td>334Critic reviews</td>\n",
       "      <td>stan lee</td>\n",
       "      <td>not available</td>\n",
       "      <td>marvel studios</td>\n",
       "      <td>$200,000,000 (estimated)</td>\n",
       "      <td>$721,865,255</td>\n",
       "    </tr>\n",
       "    <tr>\n",
       "      <th>3</th>\n",
       "      <td>don't look up</td>\n",
       "      <td>138 min</td>\n",
       "      <td>comedy, drama, sci-fi</td>\n",
       "      <td>adam mckay</td>\n",
       "      <td>7.0</td>\n",
       "      <td>384415.0</td>\n",
       "      <td>4KUser reviews</td>\n",
       "      <td>254Critic reviews</td>\n",
       "      <td>not available</td>\n",
       "      <td>not available</td>\n",
       "      <td>bluegrass films</td>\n",
       "      <td>$784,681</td>\n",
       "      <td>Not Available</td>\n",
       "    </tr>\n",
       "    <tr>\n",
       "      <th>4</th>\n",
       "      <td>sing 2</td>\n",
       "      <td>110 min</td>\n",
       "      <td>animation, adventure, comedy</td>\n",
       "      <td>garth jennings</td>\n",
       "      <td>8.0</td>\n",
       "      <td>22928.0</td>\n",
       "      <td>242User reviews</td>\n",
       "      <td>90Critic reviews</td>\n",
       "      <td>not available</td>\n",
       "      <td>color</td>\n",
       "      <td>universal pictures</td>\n",
       "      <td>$85,000,000 (estimated)</td>\n",
       "      <td>$128,733,195</td>\n",
       "    </tr>\n",
       "  </tbody>\n",
       "</table>\n",
       "</div>"
      ],
      "text/plain": [
       "               Movies_name Movies_Time (in minutes)  \\\n",
       "0                 eternals                  156 min   \n",
       "1                  encanto                  102 min   \n",
       "2  spider-man: no way home                  148 min   \n",
       "3            don't look up                  138 min   \n",
       "4                   sing 2                  110 min   \n",
       "\n",
       "            Movies_Content_Type Movies_Director  Movies_Ratings  Movies_Votes  \\\n",
       "0    action, adventure, fantasy     chloã© zhao             6.0      219680.0   \n",
       "1  animation, adventure, comedy      jared bush             7.0      111263.0   \n",
       "2    action, adventure, fantasy       jon watts             9.0      417069.0   \n",
       "3         comedy, drama, sci-fi      adam mckay             7.0      384415.0   \n",
       "4  animation, adventure, comedy  garth jennings             8.0       22928.0   \n",
       "\n",
       "  Movies_User_Reviews Movies_Critic_reviews Movies_Writers  \\\n",
       "0    2.9KUser reviews     312Critic reviews     ryan firpo   \n",
       "1     812User reviews     190Critic reviews   byron howard   \n",
       "2    4.8KUser reviews     334Critic reviews       stan lee   \n",
       "3      4KUser reviews     254Critic reviews  not available   \n",
       "4     242User reviews      90Critic reviews  not available   \n",
       "\n",
       "  Movies_Origin_Country Movies_ProductionCompany             Movies_Budget  \\\n",
       "0         united states           marvel studios  $200,000,000 (estimated)   \n",
       "1         not available            not available   $50,000,000 (estimated)   \n",
       "2         not available           marvel studios  $200,000,000 (estimated)   \n",
       "3         not available          bluegrass films                  $784,681   \n",
       "4                 color       universal pictures   $85,000,000 (estimated)   \n",
       "\n",
       "    Movies_Gross  \n",
       "0   $164,866,810  \n",
       "1    $93,444,336  \n",
       "2   $721,865,255  \n",
       "3  Not Available  \n",
       "4   $128,733,195  "
      ]
     },
     "execution_count": 23,
     "metadata": {},
     "output_type": "execute_result"
    }
   ],
   "source": [
    "IMDB_Movies_df[IMDB_text_columns] = IMDB_Movies_df[IMDB_text_columns].apply(lambda x: x.astype(str).str.lower())\n",
    "IMDB_Movies_df.head()\n"
   ]
  },
  {
   "cell_type": "code",
   "execution_count": 24,
   "id": "182eede7",
   "metadata": {},
   "outputs": [
    {
     "data": {
      "text/html": [
       "<div>\n",
       "<style scoped>\n",
       "    .dataframe tbody tr th:only-of-type {\n",
       "        vertical-align: middle;\n",
       "    }\n",
       "\n",
       "    .dataframe tbody tr th {\n",
       "        vertical-align: top;\n",
       "    }\n",
       "\n",
       "    .dataframe thead th {\n",
       "        text-align: right;\n",
       "    }\n",
       "</style>\n",
       "<table border=\"1\" class=\"dataframe\">\n",
       "  <thead>\n",
       "    <tr style=\"text-align: right;\">\n",
       "      <th></th>\n",
       "      <th>Movies_name</th>\n",
       "      <th>Movies_Time (in minutes)</th>\n",
       "      <th>Movies_Content_Type</th>\n",
       "      <th>Movies_Director</th>\n",
       "      <th>Movies_Ratings</th>\n",
       "      <th>Movies_Votes</th>\n",
       "      <th>Movies_User_Reviews</th>\n",
       "      <th>Movies_Critic_reviews</th>\n",
       "      <th>Movies_Writers</th>\n",
       "      <th>Movies_Origin_Country</th>\n",
       "      <th>Movies_ProductionCompany</th>\n",
       "      <th>Movies_Budget</th>\n",
       "      <th>Movies_Gross</th>\n",
       "    </tr>\n",
       "  </thead>\n",
       "  <tbody>\n",
       "    <tr>\n",
       "      <th>0</th>\n",
       "      <td>eternals</td>\n",
       "      <td>156.0</td>\n",
       "      <td>action, adventure, fantasy</td>\n",
       "      <td>chloã© zhao</td>\n",
       "      <td>6.0</td>\n",
       "      <td>219680.0</td>\n",
       "      <td>2.9KUser reviews</td>\n",
       "      <td>312Critic reviews</td>\n",
       "      <td>ryan firpo</td>\n",
       "      <td>united states</td>\n",
       "      <td>marvel studios</td>\n",
       "      <td>$200,000,000 (estimated)</td>\n",
       "      <td>$164,866,810</td>\n",
       "    </tr>\n",
       "    <tr>\n",
       "      <th>1</th>\n",
       "      <td>encanto</td>\n",
       "      <td>102.0</td>\n",
       "      <td>animation, adventure, comedy</td>\n",
       "      <td>jared bush</td>\n",
       "      <td>7.0</td>\n",
       "      <td>111263.0</td>\n",
       "      <td>812User reviews</td>\n",
       "      <td>190Critic reviews</td>\n",
       "      <td>byron howard</td>\n",
       "      <td>not available</td>\n",
       "      <td>not available</td>\n",
       "      <td>$50,000,000 (estimated)</td>\n",
       "      <td>$93,444,336</td>\n",
       "    </tr>\n",
       "    <tr>\n",
       "      <th>2</th>\n",
       "      <td>spider-man: no way home</td>\n",
       "      <td>148.0</td>\n",
       "      <td>action, adventure, fantasy</td>\n",
       "      <td>jon watts</td>\n",
       "      <td>9.0</td>\n",
       "      <td>417069.0</td>\n",
       "      <td>4.8KUser reviews</td>\n",
       "      <td>334Critic reviews</td>\n",
       "      <td>stan lee</td>\n",
       "      <td>not available</td>\n",
       "      <td>marvel studios</td>\n",
       "      <td>$200,000,000 (estimated)</td>\n",
       "      <td>$721,865,255</td>\n",
       "    </tr>\n",
       "    <tr>\n",
       "      <th>3</th>\n",
       "      <td>don't look up</td>\n",
       "      <td>138.0</td>\n",
       "      <td>comedy, drama, sci-fi</td>\n",
       "      <td>adam mckay</td>\n",
       "      <td>7.0</td>\n",
       "      <td>384415.0</td>\n",
       "      <td>4KUser reviews</td>\n",
       "      <td>254Critic reviews</td>\n",
       "      <td>not available</td>\n",
       "      <td>not available</td>\n",
       "      <td>bluegrass films</td>\n",
       "      <td>$784,681</td>\n",
       "      <td>Not Available</td>\n",
       "    </tr>\n",
       "    <tr>\n",
       "      <th>4</th>\n",
       "      <td>sing 2</td>\n",
       "      <td>110.0</td>\n",
       "      <td>animation, adventure, comedy</td>\n",
       "      <td>garth jennings</td>\n",
       "      <td>8.0</td>\n",
       "      <td>22928.0</td>\n",
       "      <td>242User reviews</td>\n",
       "      <td>90Critic reviews</td>\n",
       "      <td>not available</td>\n",
       "      <td>color</td>\n",
       "      <td>universal pictures</td>\n",
       "      <td>$85,000,000 (estimated)</td>\n",
       "      <td>$128,733,195</td>\n",
       "    </tr>\n",
       "  </tbody>\n",
       "</table>\n",
       "</div>"
      ],
      "text/plain": [
       "               Movies_name  Movies_Time (in minutes)  \\\n",
       "0                 eternals                     156.0   \n",
       "1                  encanto                     102.0   \n",
       "2  spider-man: no way home                     148.0   \n",
       "3            don't look up                     138.0   \n",
       "4                   sing 2                     110.0   \n",
       "\n",
       "            Movies_Content_Type Movies_Director  Movies_Ratings  Movies_Votes  \\\n",
       "0    action, adventure, fantasy     chloã© zhao             6.0      219680.0   \n",
       "1  animation, adventure, comedy      jared bush             7.0      111263.0   \n",
       "2    action, adventure, fantasy       jon watts             9.0      417069.0   \n",
       "3         comedy, drama, sci-fi      adam mckay             7.0      384415.0   \n",
       "4  animation, adventure, comedy  garth jennings             8.0       22928.0   \n",
       "\n",
       "  Movies_User_Reviews Movies_Critic_reviews Movies_Writers  \\\n",
       "0    2.9KUser reviews     312Critic reviews     ryan firpo   \n",
       "1     812User reviews     190Critic reviews   byron howard   \n",
       "2    4.8KUser reviews     334Critic reviews       stan lee   \n",
       "3      4KUser reviews     254Critic reviews  not available   \n",
       "4     242User reviews      90Critic reviews  not available   \n",
       "\n",
       "  Movies_Origin_Country Movies_ProductionCompany             Movies_Budget  \\\n",
       "0         united states           marvel studios  $200,000,000 (estimated)   \n",
       "1         not available            not available   $50,000,000 (estimated)   \n",
       "2         not available           marvel studios  $200,000,000 (estimated)   \n",
       "3         not available          bluegrass films                  $784,681   \n",
       "4                 color       universal pictures   $85,000,000 (estimated)   \n",
       "\n",
       "    Movies_Gross  \n",
       "0   $164,866,810  \n",
       "1    $93,444,336  \n",
       "2   $721,865,255  \n",
       "3  Not Available  \n",
       "4   $128,733,195  "
      ]
     },
     "execution_count": 24,
     "metadata": {},
     "output_type": "execute_result"
    }
   ],
   "source": [
    "# Replacing MIN and comma's\n",
    "if IMDB_Movies_df['Movies_Time (in minutes)'].dtype == 'O':\n",
    "    IMDB_Movies_df['Movies_Time (in minutes)'] = pd.to_numeric(IMDB_Movies_df['Movies_Time (in minutes)'].str.replace(' min', ''), errors='coerce')\n",
    "IMDB_Movies_df.head()"
   ]
  },
  {
   "cell_type": "code",
   "execution_count": 25,
   "id": "8e340541",
   "metadata": {},
   "outputs": [
    {
     "data": {
      "text/html": [
       "<div>\n",
       "<style scoped>\n",
       "    .dataframe tbody tr th:only-of-type {\n",
       "        vertical-align: middle;\n",
       "    }\n",
       "\n",
       "    .dataframe tbody tr th {\n",
       "        vertical-align: top;\n",
       "    }\n",
       "\n",
       "    .dataframe thead th {\n",
       "        text-align: right;\n",
       "    }\n",
       "</style>\n",
       "<table border=\"1\" class=\"dataframe\">\n",
       "  <thead>\n",
       "    <tr style=\"text-align: right;\">\n",
       "      <th></th>\n",
       "      <th>Movies_name</th>\n",
       "      <th>Movies_Time (in minutes)</th>\n",
       "      <th>Movies_Content_Type</th>\n",
       "      <th>Movies_Director</th>\n",
       "      <th>Movies_Ratings</th>\n",
       "      <th>Movies_Votes</th>\n",
       "      <th>Movies_User_Reviews</th>\n",
       "      <th>Movies_Critic_reviews</th>\n",
       "      <th>Movies_Writers</th>\n",
       "      <th>Movies_Origin_Country</th>\n",
       "      <th>Movies_ProductionCompany</th>\n",
       "      <th>Movies_Budget</th>\n",
       "      <th>Movies_Gross</th>\n",
       "    </tr>\n",
       "  </thead>\n",
       "  <tbody>\n",
       "    <tr>\n",
       "      <th>0</th>\n",
       "      <td>eternals</td>\n",
       "      <td>156.0</td>\n",
       "      <td>action, adventure, fantasy</td>\n",
       "      <td>chloã© zhao</td>\n",
       "      <td>6.0</td>\n",
       "      <td>219680.0</td>\n",
       "      <td>2.9KUser reviews</td>\n",
       "      <td>312Critic reviews</td>\n",
       "      <td>ryan firpo</td>\n",
       "      <td>united states</td>\n",
       "      <td>marvel studios</td>\n",
       "      <td>200.0</td>\n",
       "      <td>164.0</td>\n",
       "    </tr>\n",
       "    <tr>\n",
       "      <th>1</th>\n",
       "      <td>encanto</td>\n",
       "      <td>102.0</td>\n",
       "      <td>animation, adventure, comedy</td>\n",
       "      <td>jared bush</td>\n",
       "      <td>7.0</td>\n",
       "      <td>111263.0</td>\n",
       "      <td>812User reviews</td>\n",
       "      <td>190Critic reviews</td>\n",
       "      <td>byron howard</td>\n",
       "      <td>not available</td>\n",
       "      <td>not available</td>\n",
       "      <td>50.0</td>\n",
       "      <td>93.0</td>\n",
       "    </tr>\n",
       "    <tr>\n",
       "      <th>2</th>\n",
       "      <td>spider-man: no way home</td>\n",
       "      <td>148.0</td>\n",
       "      <td>action, adventure, fantasy</td>\n",
       "      <td>jon watts</td>\n",
       "      <td>9.0</td>\n",
       "      <td>417069.0</td>\n",
       "      <td>4.8KUser reviews</td>\n",
       "      <td>334Critic reviews</td>\n",
       "      <td>stan lee</td>\n",
       "      <td>not available</td>\n",
       "      <td>marvel studios</td>\n",
       "      <td>200.0</td>\n",
       "      <td>721.0</td>\n",
       "    </tr>\n",
       "    <tr>\n",
       "      <th>3</th>\n",
       "      <td>don't look up</td>\n",
       "      <td>138.0</td>\n",
       "      <td>comedy, drama, sci-fi</td>\n",
       "      <td>adam mckay</td>\n",
       "      <td>7.0</td>\n",
       "      <td>384415.0</td>\n",
       "      <td>4KUser reviews</td>\n",
       "      <td>254Critic reviews</td>\n",
       "      <td>not available</td>\n",
       "      <td>not available</td>\n",
       "      <td>bluegrass films</td>\n",
       "      <td>784.0</td>\n",
       "      <td>NaN</td>\n",
       "    </tr>\n",
       "    <tr>\n",
       "      <th>4</th>\n",
       "      <td>sing 2</td>\n",
       "      <td>110.0</td>\n",
       "      <td>animation, adventure, comedy</td>\n",
       "      <td>garth jennings</td>\n",
       "      <td>8.0</td>\n",
       "      <td>22928.0</td>\n",
       "      <td>242User reviews</td>\n",
       "      <td>90Critic reviews</td>\n",
       "      <td>not available</td>\n",
       "      <td>color</td>\n",
       "      <td>universal pictures</td>\n",
       "      <td>85.0</td>\n",
       "      <td>128.0</td>\n",
       "    </tr>\n",
       "  </tbody>\n",
       "</table>\n",
       "</div>"
      ],
      "text/plain": [
       "               Movies_name  Movies_Time (in minutes)  \\\n",
       "0                 eternals                     156.0   \n",
       "1                  encanto                     102.0   \n",
       "2  spider-man: no way home                     148.0   \n",
       "3            don't look up                     138.0   \n",
       "4                   sing 2                     110.0   \n",
       "\n",
       "            Movies_Content_Type Movies_Director  Movies_Ratings  Movies_Votes  \\\n",
       "0    action, adventure, fantasy     chloã© zhao             6.0      219680.0   \n",
       "1  animation, adventure, comedy      jared bush             7.0      111263.0   \n",
       "2    action, adventure, fantasy       jon watts             9.0      417069.0   \n",
       "3         comedy, drama, sci-fi      adam mckay             7.0      384415.0   \n",
       "4  animation, adventure, comedy  garth jennings             8.0       22928.0   \n",
       "\n",
       "  Movies_User_Reviews Movies_Critic_reviews Movies_Writers  \\\n",
       "0    2.9KUser reviews     312Critic reviews     ryan firpo   \n",
       "1     812User reviews     190Critic reviews   byron howard   \n",
       "2    4.8KUser reviews     334Critic reviews       stan lee   \n",
       "3      4KUser reviews     254Critic reviews  not available   \n",
       "4     242User reviews      90Critic reviews  not available   \n",
       "\n",
       "  Movies_Origin_Country Movies_ProductionCompany  Movies_Budget  Movies_Gross  \n",
       "0         united states           marvel studios          200.0         164.0  \n",
       "1         not available            not available           50.0          93.0  \n",
       "2         not available           marvel studios          200.0         721.0  \n",
       "3         not available          bluegrass films          784.0           NaN  \n",
       "4                 color       universal pictures           85.0         128.0  "
      ]
     },
     "execution_count": 25,
     "metadata": {},
     "output_type": "execute_result"
    }
   ],
   "source": [
    "IMDB_Movies_df['Movies_Budget'] = IMDB_Movies_df['Movies_Budget'].str.extract('(\\d+\\.\\d+|\\d+)').astype(float)\n",
    "IMDB_Movies_df['Movies_Gross'] = IMDB_Movies_df['Movies_Gross'].str.extract('(\\d+\\.\\d+|\\d+)').astype(float)\n",
    "IMDB_Movies_df.head()\n"
   ]
  },
  {
   "cell_type": "code",
   "execution_count": 26,
   "id": "65a72a13",
   "metadata": {},
   "outputs": [
    {
     "data": {
      "text/plain": [
       "Movies_name                  object\n",
       "Movies_Time (in minutes)    float64\n",
       "Movies_Content_Type          object\n",
       "Movies_Director              object\n",
       "Movies_Ratings              float64\n",
       "Movies_Votes                float64\n",
       "Movies_User_Reviews          object\n",
       "Movies_Critic_reviews        object\n",
       "Movies_Writers               object\n",
       "Movies_Origin_Country        object\n",
       "Movies_ProductionCompany     object\n",
       "Movies_Budget               float64\n",
       "Movies_Gross                float64\n",
       "dtype: object"
      ]
     },
     "execution_count": 26,
     "metadata": {},
     "output_type": "execute_result"
    }
   ],
   "source": [
    "#Checking types of data:\n",
    "IMDB_Movies_df.dtypes"
   ]
  },
  {
   "cell_type": "code",
   "execution_count": 27,
   "id": "e2e91aad",
   "metadata": {},
   "outputs": [
    {
     "data": {
      "text/html": [
       "<div>\n",
       "<style scoped>\n",
       "    .dataframe tbody tr th:only-of-type {\n",
       "        vertical-align: middle;\n",
       "    }\n",
       "\n",
       "    .dataframe tbody tr th {\n",
       "        vertical-align: top;\n",
       "    }\n",
       "\n",
       "    .dataframe thead th {\n",
       "        text-align: right;\n",
       "    }\n",
       "</style>\n",
       "<table border=\"1\" class=\"dataframe\">\n",
       "  <thead>\n",
       "    <tr style=\"text-align: right;\">\n",
       "      <th></th>\n",
       "      <th>Movies_name</th>\n",
       "      <th>Movies_Time (in minutes)</th>\n",
       "      <th>Movies_Content_Type</th>\n",
       "      <th>Movies_Director</th>\n",
       "      <th>Movies_Ratings</th>\n",
       "      <th>Movies_Votes</th>\n",
       "      <th>Movies_User_Reviews</th>\n",
       "      <th>Movies_Critic_reviews</th>\n",
       "      <th>Movies_Writers</th>\n",
       "      <th>Movies_Origin_Country</th>\n",
       "      <th>Movies_ProductionCompany</th>\n",
       "      <th>Movies_Budget</th>\n",
       "      <th>Movies_Gross</th>\n",
       "    </tr>\n",
       "  </thead>\n",
       "  <tbody>\n",
       "    <tr>\n",
       "      <th>0</th>\n",
       "      <td>eternals</td>\n",
       "      <td>156.0</td>\n",
       "      <td>action, adventure, fantasy</td>\n",
       "      <td>chloã© zhao</td>\n",
       "      <td>6.0</td>\n",
       "      <td>219680.0</td>\n",
       "      <td>2.9</td>\n",
       "      <td>312Critic reviews</td>\n",
       "      <td>ryan firpo</td>\n",
       "      <td>united states</td>\n",
       "      <td>marvel studios</td>\n",
       "      <td>200.0</td>\n",
       "      <td>164.0</td>\n",
       "    </tr>\n",
       "    <tr>\n",
       "      <th>1</th>\n",
       "      <td>encanto</td>\n",
       "      <td>102.0</td>\n",
       "      <td>animation, adventure, comedy</td>\n",
       "      <td>jared bush</td>\n",
       "      <td>7.0</td>\n",
       "      <td>111263.0</td>\n",
       "      <td>812.0</td>\n",
       "      <td>190Critic reviews</td>\n",
       "      <td>byron howard</td>\n",
       "      <td>not available</td>\n",
       "      <td>not available</td>\n",
       "      <td>50.0</td>\n",
       "      <td>93.0</td>\n",
       "    </tr>\n",
       "    <tr>\n",
       "      <th>2</th>\n",
       "      <td>spider-man: no way home</td>\n",
       "      <td>148.0</td>\n",
       "      <td>action, adventure, fantasy</td>\n",
       "      <td>jon watts</td>\n",
       "      <td>9.0</td>\n",
       "      <td>417069.0</td>\n",
       "      <td>4.8</td>\n",
       "      <td>334Critic reviews</td>\n",
       "      <td>stan lee</td>\n",
       "      <td>not available</td>\n",
       "      <td>marvel studios</td>\n",
       "      <td>200.0</td>\n",
       "      <td>721.0</td>\n",
       "    </tr>\n",
       "    <tr>\n",
       "      <th>3</th>\n",
       "      <td>don't look up</td>\n",
       "      <td>138.0</td>\n",
       "      <td>comedy, drama, sci-fi</td>\n",
       "      <td>adam mckay</td>\n",
       "      <td>7.0</td>\n",
       "      <td>384415.0</td>\n",
       "      <td>4.0</td>\n",
       "      <td>254Critic reviews</td>\n",
       "      <td>not available</td>\n",
       "      <td>not available</td>\n",
       "      <td>bluegrass films</td>\n",
       "      <td>784.0</td>\n",
       "      <td>NaN</td>\n",
       "    </tr>\n",
       "    <tr>\n",
       "      <th>4</th>\n",
       "      <td>sing 2</td>\n",
       "      <td>110.0</td>\n",
       "      <td>animation, adventure, comedy</td>\n",
       "      <td>garth jennings</td>\n",
       "      <td>8.0</td>\n",
       "      <td>22928.0</td>\n",
       "      <td>242.0</td>\n",
       "      <td>90Critic reviews</td>\n",
       "      <td>not available</td>\n",
       "      <td>color</td>\n",
       "      <td>universal pictures</td>\n",
       "      <td>85.0</td>\n",
       "      <td>128.0</td>\n",
       "    </tr>\n",
       "  </tbody>\n",
       "</table>\n",
       "</div>"
      ],
      "text/plain": [
       "               Movies_name  Movies_Time (in minutes)  \\\n",
       "0                 eternals                     156.0   \n",
       "1                  encanto                     102.0   \n",
       "2  spider-man: no way home                     148.0   \n",
       "3            don't look up                     138.0   \n",
       "4                   sing 2                     110.0   \n",
       "\n",
       "            Movies_Content_Type Movies_Director  Movies_Ratings  Movies_Votes  \\\n",
       "0    action, adventure, fantasy     chloã© zhao             6.0      219680.0   \n",
       "1  animation, adventure, comedy      jared bush             7.0      111263.0   \n",
       "2    action, adventure, fantasy       jon watts             9.0      417069.0   \n",
       "3         comedy, drama, sci-fi      adam mckay             7.0      384415.0   \n",
       "4  animation, adventure, comedy  garth jennings             8.0       22928.0   \n",
       "\n",
       "   Movies_User_Reviews Movies_Critic_reviews Movies_Writers  \\\n",
       "0                  2.9     312Critic reviews     ryan firpo   \n",
       "1                812.0     190Critic reviews   byron howard   \n",
       "2                  4.8     334Critic reviews       stan lee   \n",
       "3                  4.0     254Critic reviews  not available   \n",
       "4                242.0      90Critic reviews  not available   \n",
       "\n",
       "  Movies_Origin_Country Movies_ProductionCompany  Movies_Budget  Movies_Gross  \n",
       "0         united states           marvel studios          200.0         164.0  \n",
       "1         not available            not available           50.0          93.0  \n",
       "2         not available           marvel studios          200.0         721.0  \n",
       "3         not available          bluegrass films          784.0           NaN  \n",
       "4                 color       universal pictures           85.0         128.0  "
      ]
     },
     "execution_count": 27,
     "metadata": {},
     "output_type": "execute_result"
    }
   ],
   "source": [
    "IMDB_Movies_df['Movies_User_Reviews'] = IMDB_Movies_df['Movies_User_Reviews'].astype(str)\n",
    "IMDB_Movies_df['Movies_User_Reviews'] = IMDB_Movies_df['Movies_User_Reviews'].str.extract('(\\d+\\.\\d+|\\d+)').astype(float)\n",
    "IMDB_Movies_df.head()"
   ]
  },
  {
   "cell_type": "code",
   "execution_count": 28,
   "id": "caffd133",
   "metadata": {},
   "outputs": [
    {
     "data": {
      "text/html": [
       "<div>\n",
       "<style scoped>\n",
       "    .dataframe tbody tr th:only-of-type {\n",
       "        vertical-align: middle;\n",
       "    }\n",
       "\n",
       "    .dataframe tbody tr th {\n",
       "        vertical-align: top;\n",
       "    }\n",
       "\n",
       "    .dataframe thead th {\n",
       "        text-align: right;\n",
       "    }\n",
       "</style>\n",
       "<table border=\"1\" class=\"dataframe\">\n",
       "  <thead>\n",
       "    <tr style=\"text-align: right;\">\n",
       "      <th></th>\n",
       "      <th>Movies_name</th>\n",
       "      <th>Movies_Time (in minutes)</th>\n",
       "      <th>Movies_Content_Type</th>\n",
       "      <th>Movies_Director</th>\n",
       "      <th>Movies_Ratings</th>\n",
       "      <th>Movies_Votes</th>\n",
       "      <th>Movies_User_Reviews</th>\n",
       "      <th>Movies_Critic_reviews</th>\n",
       "      <th>Movies_Writers</th>\n",
       "      <th>Movies_Origin_Country</th>\n",
       "      <th>Movies_ProductionCompany</th>\n",
       "      <th>Movies_Budget</th>\n",
       "      <th>Movies_Gross</th>\n",
       "    </tr>\n",
       "  </thead>\n",
       "  <tbody>\n",
       "    <tr>\n",
       "      <th>0</th>\n",
       "      <td>eternals</td>\n",
       "      <td>156.0</td>\n",
       "      <td>action, adventure, fantasy</td>\n",
       "      <td>chloã© zhao</td>\n",
       "      <td>6.0</td>\n",
       "      <td>219680.0</td>\n",
       "      <td>2.9</td>\n",
       "      <td>312.0</td>\n",
       "      <td>ryan firpo</td>\n",
       "      <td>united states</td>\n",
       "      <td>marvel studios</td>\n",
       "      <td>200.0</td>\n",
       "      <td>164.0</td>\n",
       "    </tr>\n",
       "    <tr>\n",
       "      <th>1</th>\n",
       "      <td>encanto</td>\n",
       "      <td>102.0</td>\n",
       "      <td>animation, adventure, comedy</td>\n",
       "      <td>jared bush</td>\n",
       "      <td>7.0</td>\n",
       "      <td>111263.0</td>\n",
       "      <td>812.0</td>\n",
       "      <td>190.0</td>\n",
       "      <td>byron howard</td>\n",
       "      <td>not available</td>\n",
       "      <td>not available</td>\n",
       "      <td>50.0</td>\n",
       "      <td>93.0</td>\n",
       "    </tr>\n",
       "    <tr>\n",
       "      <th>2</th>\n",
       "      <td>spider-man: no way home</td>\n",
       "      <td>148.0</td>\n",
       "      <td>action, adventure, fantasy</td>\n",
       "      <td>jon watts</td>\n",
       "      <td>9.0</td>\n",
       "      <td>417069.0</td>\n",
       "      <td>4.8</td>\n",
       "      <td>334.0</td>\n",
       "      <td>stan lee</td>\n",
       "      <td>not available</td>\n",
       "      <td>marvel studios</td>\n",
       "      <td>200.0</td>\n",
       "      <td>721.0</td>\n",
       "    </tr>\n",
       "    <tr>\n",
       "      <th>3</th>\n",
       "      <td>don't look up</td>\n",
       "      <td>138.0</td>\n",
       "      <td>comedy, drama, sci-fi</td>\n",
       "      <td>adam mckay</td>\n",
       "      <td>7.0</td>\n",
       "      <td>384415.0</td>\n",
       "      <td>4.0</td>\n",
       "      <td>254.0</td>\n",
       "      <td>not available</td>\n",
       "      <td>not available</td>\n",
       "      <td>bluegrass films</td>\n",
       "      <td>784.0</td>\n",
       "      <td>NaN</td>\n",
       "    </tr>\n",
       "    <tr>\n",
       "      <th>4</th>\n",
       "      <td>sing 2</td>\n",
       "      <td>110.0</td>\n",
       "      <td>animation, adventure, comedy</td>\n",
       "      <td>garth jennings</td>\n",
       "      <td>8.0</td>\n",
       "      <td>22928.0</td>\n",
       "      <td>242.0</td>\n",
       "      <td>90.0</td>\n",
       "      <td>not available</td>\n",
       "      <td>color</td>\n",
       "      <td>universal pictures</td>\n",
       "      <td>85.0</td>\n",
       "      <td>128.0</td>\n",
       "    </tr>\n",
       "  </tbody>\n",
       "</table>\n",
       "</div>"
      ],
      "text/plain": [
       "               Movies_name  Movies_Time (in minutes)  \\\n",
       "0                 eternals                     156.0   \n",
       "1                  encanto                     102.0   \n",
       "2  spider-man: no way home                     148.0   \n",
       "3            don't look up                     138.0   \n",
       "4                   sing 2                     110.0   \n",
       "\n",
       "            Movies_Content_Type Movies_Director  Movies_Ratings  Movies_Votes  \\\n",
       "0    action, adventure, fantasy     chloã© zhao             6.0      219680.0   \n",
       "1  animation, adventure, comedy      jared bush             7.0      111263.0   \n",
       "2    action, adventure, fantasy       jon watts             9.0      417069.0   \n",
       "3         comedy, drama, sci-fi      adam mckay             7.0      384415.0   \n",
       "4  animation, adventure, comedy  garth jennings             8.0       22928.0   \n",
       "\n",
       "   Movies_User_Reviews  Movies_Critic_reviews Movies_Writers  \\\n",
       "0                  2.9                  312.0     ryan firpo   \n",
       "1                812.0                  190.0   byron howard   \n",
       "2                  4.8                  334.0       stan lee   \n",
       "3                  4.0                  254.0  not available   \n",
       "4                242.0                   90.0  not available   \n",
       "\n",
       "  Movies_Origin_Country Movies_ProductionCompany  Movies_Budget  Movies_Gross  \n",
       "0         united states           marvel studios          200.0         164.0  \n",
       "1         not available            not available           50.0          93.0  \n",
       "2         not available           marvel studios          200.0         721.0  \n",
       "3         not available          bluegrass films          784.0           NaN  \n",
       "4                 color       universal pictures           85.0         128.0  "
      ]
     },
     "execution_count": 28,
     "metadata": {},
     "output_type": "execute_result"
    }
   ],
   "source": [
    "IMDB_Movies_df['Movies_Critic_reviews'] = IMDB_Movies_df['Movies_Critic_reviews'].astype(str).str.extract('(\\d+\\.\\d+|\\d+)', expand=False).astype(float)\n",
    "IMDB_Movies_df.head()"
   ]
  },
  {
   "cell_type": "code",
   "execution_count": 29,
   "id": "fd8e9c68",
   "metadata": {},
   "outputs": [],
   "source": [
    "IMDB_Movies_df = pd.get_dummies(IMDB_Movies_df, columns=['Movies_Origin_Country', 'Movies_ProductionCompany'], prefix=['Origin_Country', 'ProductionCompany'])\n"
   ]
  },
  {
   "cell_type": "code",
   "execution_count": 30,
   "id": "3c7f5890",
   "metadata": {},
   "outputs": [],
   "source": [
    "# Select the numeric columns for scaling\n",
    "\n",
    "IMDB_numeric_columns = [ 'Movies_Ratings', 'Movies_Votes', 'Movies_User_Reviews', 'Movies_Critic_reviews']\n"
   ]
  },
  {
   "cell_type": "code",
   "execution_count": 31,
   "id": "8980db46",
   "metadata": {},
   "outputs": [],
   "source": [
    "# Fit and transform the selected numeric columns\n",
    "scaler = MinMaxScaler()\n",
    "IMDB_Movies_df[IMDB_numeric_columns] = scaler.fit_transform(IMDB_Movies_df[IMDB_numeric_columns])"
   ]
  },
  {
   "cell_type": "code",
   "execution_count": 32,
   "id": "8180f495",
   "metadata": {},
   "outputs": [],
   "source": [
    "# Split the dataset into features (X) and target variable (y)\n",
    "X = IMDB_Movies_df['Movies_User_Reviews']\n",
    "y = IMDB_Movies_df['Movies_Ratings']\n"
   ]
  },
  {
   "cell_type": "code",
   "execution_count": 33,
   "id": "06d845ea",
   "metadata": {},
   "outputs": [],
   "source": [
    "# Split the dataset into training and testing sets\n",
    "X_train, X_test, y_train, y_test = train_test_split(X, y, test_size=0.2, random_state=42)"
   ]
  },
  {
   "cell_type": "code",
   "execution_count": null,
   "id": "81306046",
   "metadata": {},
   "outputs": [],
   "source": []
  },
  {
   "cell_type": "code",
   "execution_count": 34,
   "id": "d60af9f7",
   "metadata": {},
   "outputs": [
    {
     "name": "stdout",
     "output_type": "stream",
     "text": [
      "Training set:\n",
      "8292    NaN\n",
      "3386    NaN\n",
      "4015    NaN\n",
      "10701   NaN\n",
      "549     NaN\n",
      "         ..\n",
      "11964   NaN\n",
      "5191    NaN\n",
      "5390    NaN\n",
      "860     NaN\n",
      "7270    NaN\n",
      "Name: Movies_User_Reviews, Length: 9848, dtype: float64\n",
      "8292     0.555556\n",
      "3386     0.555556\n",
      "4015     0.444444\n",
      "10701    0.555556\n",
      "549      0.444444\n",
      "           ...   \n",
      "11964    0.555556\n",
      "5191     0.555556\n",
      "5390     0.555556\n",
      "860      0.666667\n",
      "7270     0.555556\n",
      "Name: Movies_Ratings, Length: 9848, dtype: float64\n",
      "\n",
      "Testing set:\n",
      "7244    NaN\n",
      "8347    NaN\n",
      "12174   NaN\n",
      "9260    NaN\n",
      "7791    NaN\n",
      "         ..\n",
      "3088    NaN\n",
      "5265    NaN\n",
      "10393   NaN\n",
      "8115    NaN\n",
      "11509   NaN\n",
      "Name: Movies_User_Reviews, Length: 2462, dtype: float64\n",
      "7244     0.555556\n",
      "8347     0.555556\n",
      "12174    0.555556\n",
      "9260     0.555556\n",
      "7791     0.555556\n",
      "           ...   \n",
      "3088     0.888889\n",
      "5265     0.555556\n",
      "10393    0.555556\n",
      "8115     0.555556\n",
      "11509    0.555556\n",
      "Name: Movies_Ratings, Length: 2462, dtype: float64\n"
     ]
    }
   ],
   "source": [
    "print(\"Training set:\")\n",
    "print(X_train)\n",
    "print(y_train)\n",
    "\n",
    "print(\"\\nTesting set:\")\n",
    "print(X_test)\n",
    "print(y_test)"
   ]
  },
  {
   "cell_type": "markdown",
   "id": "814e4ba5",
   "metadata": {},
   "source": [
    "## Model 1 SVM"
   ]
  },
  {
   "cell_type": "code",
   "execution_count": 35,
   "id": "d666e174",
   "metadata": {},
   "outputs": [],
   "source": [
    "# Replace 'your_validation_data.csv' with the actual file name or correct path\n",
    "df_val = IMDB_Movies_df"
   ]
  },
  {
   "cell_type": "code",
   "execution_count": 36,
   "id": "628f84cc",
   "metadata": {},
   "outputs": [],
   "source": [
    "# Handle missing values\n",
    "# Replace NaN with 0 or any other strategy that suits your data\n",
    "df_val.fillna(0, inplace=True) "
   ]
  },
  {
   "cell_type": "code",
   "execution_count": 37,
   "id": "ff0d527a",
   "metadata": {},
   "outputs": [],
   "source": [
    "# Convert your text data to strings \n",
    "X_train = X_train.astype(str)\n",
    "X_test = X_test.astype(str)"
   ]
  },
  {
   "cell_type": "code",
   "execution_count": 38,
   "id": "fcd8ae15",
   "metadata": {},
   "outputs": [],
   "source": [
    "tfidf_vectorizer = TfidfVectorizer()\n",
    "X_train_tfidf = tfidf_vectorizer.fit_transform(X_train)\n",
    "X_test_tfidf = tfidf_vectorizer.transform(X_test)"
   ]
  },
  {
   "cell_type": "code",
   "execution_count": 39,
   "id": "f8b3ff7f",
   "metadata": {},
   "outputs": [
    {
     "name": "stdout",
     "output_type": "stream",
     "text": [
      "X_train_tfidf shape: (9848, 203)\n",
      "y_train shape: (9848,)\n"
     ]
    }
   ],
   "source": [
    "print(\"X_train_tfidf shape:\", X_train_tfidf.shape)\n",
    "print(\"y_train shape:\", y_train.shape)"
   ]
  },
  {
   "cell_type": "code",
   "execution_count": 40,
   "id": "5685c4ac",
   "metadata": {},
   "outputs": [],
   "source": [
    "# Assuming y_train is continuous, convert it to binary labels (0 and 1)\n",
    "threshold = 0.5  # set a threshold to classify as 0 or 1\n",
    "y_train_binary = (y_train > threshold).astype(int)\n"
   ]
  },
  {
   "cell_type": "code",
   "execution_count": 41,
   "id": "d00e190c",
   "metadata": {},
   "outputs": [],
   "source": [
    "# Convert test set labels to binary\n",
    "y_test_binary = (y_test > threshold).astype(int)"
   ]
  },
  {
   "cell_type": "code",
   "execution_count": 42,
   "id": "9568d7e6",
   "metadata": {},
   "outputs": [
    {
     "data": {
      "text/plain": [
       "SVC(kernel='linear')"
      ]
     },
     "execution_count": 42,
     "metadata": {},
     "output_type": "execute_result"
    }
   ],
   "source": [
    "# Create and train the SVM model\n",
    "svm_model = SVC(kernel='linear')\n",
    "svm_model.fit(X_train_tfidf, y_train_binary)"
   ]
  },
  {
   "cell_type": "code",
   "execution_count": 43,
   "id": "880ff2de",
   "metadata": {},
   "outputs": [],
   "source": [
    "# Predict on the test set\n",
    "y_pred_svm = svm_model.predict(X_test_tfidf)\n"
   ]
  },
  {
   "cell_type": "code",
   "execution_count": 44,
   "id": "1f5e8c30",
   "metadata": {
    "scrolled": true
   },
   "outputs": [
    {
     "name": "stdout",
     "output_type": "stream",
     "text": [
      "SVM Accuracy: 0.8643379366368806\n"
     ]
    }
   ],
   "source": [
    "# Evaluate the model\n",
    "accuracy_svm = accuracy_score(y_test_binary, y_pred_svm)\n",
    "print(\"SVM Accuracy:\", accuracy_svm)"
   ]
  },
  {
   "cell_type": "code",
   "execution_count": 45,
   "id": "41de1cd9",
   "metadata": {},
   "outputs": [],
   "source": [
    "# Assuming 'Movies_Content_Type' is the column containing your validation text data\n",
    "X_val = df_val['Movies_Content_Type']"
   ]
  },
  {
   "cell_type": "code",
   "execution_count": 46,
   "id": "c763148f",
   "metadata": {},
   "outputs": [],
   "source": [
    "# Convert your validation text data to strings\n",
    "X_val = X_val.astype(str)"
   ]
  },
  {
   "cell_type": "code",
   "execution_count": 47,
   "id": "bc4c3086",
   "metadata": {},
   "outputs": [],
   "source": [
    "# Transform validation set using the same TF-IDF vectorizer\n",
    "X_val_tfidf = tfidf_vectorizer.transform(X_val)\n"
   ]
  },
  {
   "cell_type": "code",
   "execution_count": 48,
   "id": "7b398183",
   "metadata": {},
   "outputs": [],
   "source": [
    "# Predict on the validation set\n",
    "y_pred_svm_val = svm_model.predict(X_val_tfidf)"
   ]
  },
  {
   "cell_type": "code",
   "execution_count": 49,
   "id": "336cf918",
   "metadata": {},
   "outputs": [],
   "source": [
    "# Predict on the validation set\n",
    "y_pred_svm_val = svm_model.predict(X_val_tfidf)"
   ]
  },
  {
   "cell_type": "code",
   "execution_count": 50,
   "id": "87d80055",
   "metadata": {},
   "outputs": [
    {
     "name": "stdout",
     "output_type": "stream",
     "text": [
      "SVM Predictions (Validation): [1 1 1 ... 1 1 1]\n"
     ]
    }
   ],
   "source": [
    "# Print SVM predictions\n",
    "print(\"SVM Predictions (Validation):\", y_pred_svm_val)"
   ]
  },
  {
   "cell_type": "code",
   "execution_count": 51,
   "id": "1f32c29f",
   "metadata": {},
   "outputs": [],
   "source": [
    "# Assuming'Movies_Ratings' is the column containing your binary labels for the validation set\n",
    "y_val_binary = df_val['Movies_Ratings']"
   ]
  },
  {
   "cell_type": "code",
   "execution_count": null,
   "id": "ac48c93c",
   "metadata": {},
   "outputs": [],
   "source": []
  },
  {
   "cell_type": "markdown",
   "id": "04d22239",
   "metadata": {},
   "source": [
    "# Model 2  Naive Bayes"
   ]
  },
  {
   "cell_type": "code",
   "execution_count": 52,
   "id": "a540a0d7",
   "metadata": {},
   "outputs": [
    {
     "data": {
      "text/plain": [
       "MultinomialNB()"
      ]
     },
     "execution_count": 52,
     "metadata": {},
     "output_type": "execute_result"
    }
   ],
   "source": [
    "# Create and train the Naive Bayes model\n",
    "nb_model = MultinomialNB()\n",
    "nb_model.fit(X_train_tfidf, y_train_binary)"
   ]
  },
  {
   "cell_type": "code",
   "execution_count": 53,
   "id": "67a991af",
   "metadata": {},
   "outputs": [],
   "source": [
    "# Predict on the test set\n",
    "y_pred_nb = nb_model.predict(X_test_tfidf)"
   ]
  },
  {
   "cell_type": "code",
   "execution_count": 54,
   "id": "70d6d100",
   "metadata": {},
   "outputs": [
    {
     "name": "stdout",
     "output_type": "stream",
     "text": [
      "Naive Bayes Accuracy: 0.8643379366368806\n"
     ]
    }
   ],
   "source": [
    "# Evaluate the Naive Bayes model\n",
    "accuracy_nb = accuracy_score(y_test_binary, y_pred_nb)\n",
    "print(\"Naive Bayes Accuracy:\", accuracy_nb)"
   ]
  },
  {
   "cell_type": "code",
   "execution_count": 55,
   "id": "dd046bbc",
   "metadata": {},
   "outputs": [],
   "source": [
    "# Predict on the validation set with Naive Bayes\n",
    "y_pred_nb_val = nb_model.predict(X_val_tfidf)"
   ]
  },
  {
   "cell_type": "code",
   "execution_count": 56,
   "id": "457a03fa",
   "metadata": {},
   "outputs": [
    {
     "name": "stdout",
     "output_type": "stream",
     "text": [
      "Naive Bayes Predictions (Validation): [1 1 1 ... 1 1 1]\n"
     ]
    }
   ],
   "source": [
    "print(\"Naive Bayes Predictions (Validation):\", y_pred_nb_val)"
   ]
  },
  {
   "cell_type": "code",
   "execution_count": null,
   "id": "40d7c505",
   "metadata": {},
   "outputs": [],
   "source": []
  },
  {
   "cell_type": "markdown",
   "id": "88e5d551",
   "metadata": {},
   "source": [
    "# Model 3 Logistic Regression"
   ]
  },
  {
   "cell_type": "code",
   "execution_count": 57,
   "id": "ed32b61c",
   "metadata": {},
   "outputs": [
    {
     "data": {
      "text/plain": [
       "LogisticRegression(max_iter=1000)"
      ]
     },
     "execution_count": 57,
     "metadata": {},
     "output_type": "execute_result"
    }
   ],
   "source": [
    "# Create and train the Logistic Regression model\n",
    "logreg_model = LogisticRegression(max_iter=1000)\n",
    "logreg_model.fit(X_train_tfidf, y_train_binary)"
   ]
  },
  {
   "cell_type": "code",
   "execution_count": 58,
   "id": "3122f850",
   "metadata": {},
   "outputs": [],
   "source": [
    "# Predict on the validation set with Logistic Regression\n",
    "y_pred_logreg = logreg_model.predict(X_test_tfidf)"
   ]
  },
  {
   "cell_type": "code",
   "execution_count": 59,
   "id": "23ad5471",
   "metadata": {},
   "outputs": [
    {
     "name": "stdout",
     "output_type": "stream",
     "text": [
      "Logistic Regression Accuracy: 0.8651502843216897\n"
     ]
    }
   ],
   "source": [
    "# Evaluate the Logistic Regression model\n",
    "accuracy_logreg = accuracy_score(y_test_binary, y_pred_logreg)\n",
    "print(\"Logistic Regression Accuracy:\", accuracy_logreg)"
   ]
  },
  {
   "cell_type": "code",
   "execution_count": 60,
   "id": "81a7df9b",
   "metadata": {},
   "outputs": [],
   "source": [
    "# Assuming 'Movies_Content_Type' is the column containing your test text data in df_val\n",
    "X_val = df_val['Movies_Content_Type']"
   ]
  },
  {
   "cell_type": "code",
   "execution_count": 61,
   "id": "237544cf",
   "metadata": {},
   "outputs": [],
   "source": [
    "# Convert your test text data to strings\n",
    "X_val = X_val.astype(str)"
   ]
  },
  {
   "cell_type": "code",
   "execution_count": 62,
   "id": "2903d504",
   "metadata": {},
   "outputs": [],
   "source": [
    "# Transform the test text data using the same TF-IDF vectorizer\n",
    "X_val_tfidf = tfidf_vectorizer.transform(X_val)"
   ]
  },
  {
   "cell_type": "code",
   "execution_count": 63,
   "id": "c2bb1a7a",
   "metadata": {},
   "outputs": [],
   "source": [
    "# Predict on the test set with Logistic Regression\n",
    "y_pred_logreg_val = logreg_model.predict(X_val_tfidf)"
   ]
  },
  {
   "cell_type": "code",
   "execution_count": 64,
   "id": "61caa059",
   "metadata": {},
   "outputs": [
    {
     "name": "stdout",
     "output_type": "stream",
     "text": [
      "Logistic Regression Test Predictions: [1 1 1 ... 1 1 1]\n"
     ]
    }
   ],
   "source": [
    "# Print the predictions\n",
    "print(\"Logistic Regression Test Predictions:\", y_pred_logreg_val)"
   ]
  },
  {
   "cell_type": "code",
   "execution_count": null,
   "id": "f28cd4e1",
   "metadata": {},
   "outputs": [],
   "source": []
  },
  {
   "cell_type": "markdown",
   "id": "275fdc81",
   "metadata": {},
   "source": [
    "# Model 4 Bert"
   ]
  },
  {
   "cell_type": "code",
   "execution_count": 65,
   "id": "89dca88a",
   "metadata": {},
   "outputs": [
    {
     "name": "stderr",
     "output_type": "stream",
     "text": [
      "Some weights of BertForSequenceClassification were not initialized from the model checkpoint at bert-base-uncased and are newly initialized: ['classifier.weight', 'classifier.bias']\n",
      "You should probably TRAIN this model on a down-stream task to be able to use it for predictions and inference.\n"
     ]
    }
   ],
   "source": [
    "# Load pre-trained BERT model and tokenizer\n",
    "tokenizer = BertTokenizer.from_pretrained('bert-base-uncased')\n",
    "model = BertForSequenceClassification.from_pretrained('bert-base-uncased', num_labels=2)"
   ]
  },
  {
   "cell_type": "code",
   "execution_count": 66,
   "id": "bc442958",
   "metadata": {},
   "outputs": [],
   "source": [
    "# Tokenize and encode the training text data\n",
    "X_train_tokens = tokenizer(X_train.tolist(), truncation=True, padding=True, max_length=512, return_tensors='pt')\n",
    "y_train_tensor = torch.tensor(y_train_binary.values)"
   ]
  },
  {
   "cell_type": "code",
   "execution_count": 67,
   "id": "9d0181f5",
   "metadata": {},
   "outputs": [],
   "source": [
    "# Create TensorDataset and DataLoader\n",
    "train_dataset = TensorDataset(X_train_tokens['input_ids'], X_train_tokens['attention_mask'], y_train_tensor)\n",
    "batch_size = 32\n",
    "train_dataloader = DataLoader(train_dataset, batch_size=batch_size, shuffle=True)"
   ]
  },
  {
   "cell_type": "code",
   "execution_count": 68,
   "id": "f7838ca7",
   "metadata": {},
   "outputs": [],
   "source": [
    "# Optimizer and learning rate scheduler\n",
    "optimizer = AdamW(model.parameters(), lr=2e-5, eps=1e-8)"
   ]
  },
  {
   "cell_type": "code",
   "execution_count": 69,
   "id": "bf53b914",
   "metadata": {},
   "outputs": [
    {
     "data": {
      "text/plain": [
       "BertForSequenceClassification(\n",
       "  (bert): BertModel(\n",
       "    (embeddings): BertEmbeddings(\n",
       "      (word_embeddings): Embedding(30522, 768, padding_idx=0)\n",
       "      (position_embeddings): Embedding(512, 768)\n",
       "      (token_type_embeddings): Embedding(2, 768)\n",
       "      (LayerNorm): LayerNorm((768,), eps=1e-12, elementwise_affine=True)\n",
       "      (dropout): Dropout(p=0.1, inplace=False)\n",
       "    )\n",
       "    (encoder): BertEncoder(\n",
       "      (layer): ModuleList(\n",
       "        (0-11): 12 x BertLayer(\n",
       "          (attention): BertAttention(\n",
       "            (self): BertSelfAttention(\n",
       "              (query): Linear(in_features=768, out_features=768, bias=True)\n",
       "              (key): Linear(in_features=768, out_features=768, bias=True)\n",
       "              (value): Linear(in_features=768, out_features=768, bias=True)\n",
       "              (dropout): Dropout(p=0.1, inplace=False)\n",
       "            )\n",
       "            (output): BertSelfOutput(\n",
       "              (dense): Linear(in_features=768, out_features=768, bias=True)\n",
       "              (LayerNorm): LayerNorm((768,), eps=1e-12, elementwise_affine=True)\n",
       "              (dropout): Dropout(p=0.1, inplace=False)\n",
       "            )\n",
       "          )\n",
       "          (intermediate): BertIntermediate(\n",
       "            (dense): Linear(in_features=768, out_features=3072, bias=True)\n",
       "            (intermediate_act_fn): GELUActivation()\n",
       "          )\n",
       "          (output): BertOutput(\n",
       "            (dense): Linear(in_features=3072, out_features=768, bias=True)\n",
       "            (LayerNorm): LayerNorm((768,), eps=1e-12, elementwise_affine=True)\n",
       "            (dropout): Dropout(p=0.1, inplace=False)\n",
       "          )\n",
       "        )\n",
       "      )\n",
       "    )\n",
       "    (pooler): BertPooler(\n",
       "      (dense): Linear(in_features=768, out_features=768, bias=True)\n",
       "      (activation): Tanh()\n",
       "    )\n",
       "  )\n",
       "  (dropout): Dropout(p=0.1, inplace=False)\n",
       "  (classifier): Linear(in_features=768, out_features=2, bias=True)\n",
       ")"
      ]
     },
     "execution_count": 69,
     "metadata": {},
     "output_type": "execute_result"
    }
   ],
   "source": [
    "# Move model to GPU if available\n",
    "device = torch.device(\"cuda\" if torch.cuda.is_available() else \"cpu\")\n",
    "model.to(device)"
   ]
  },
  {
   "cell_type": "code",
   "execution_count": 70,
   "id": "1a58e372",
   "metadata": {},
   "outputs": [],
   "source": [
    "# Assuming 'Movies_Content_Type' is the column containing your validation text data\n",
    "X_val = df_val['Movies_Content_Type']"
   ]
  },
  {
   "cell_type": "code",
   "execution_count": 71,
   "id": "88a75bf6",
   "metadata": {},
   "outputs": [],
   "source": [
    "# Flatten the list of lists into a single list of strings\n",
    "flattened_X_val = [str(text) for text in X_val]"
   ]
  },
  {
   "cell_type": "code",
   "execution_count": 72,
   "id": "0b1e7023",
   "metadata": {},
   "outputs": [],
   "source": [
    "# Tokenize and encode the validation text data\n",
    "X_val_tokens = tokenizer(flattened_X_val, truncation=True, padding=True, max_length=512, return_tensors='pt')"
   ]
  },
  {
   "cell_type": "code",
   "execution_count": 73,
   "id": "e2254370",
   "metadata": {},
   "outputs": [],
   "source": [
    "# Set a threshold for ratings\n",
    "rating_threshold = 7.0"
   ]
  },
  {
   "cell_type": "code",
   "execution_count": 74,
   "id": "74d47cb9",
   "metadata": {},
   "outputs": [],
   "source": [
    "# Create a new binary column 'Movies_Successful' based on the rating threshold\n",
    "df_val['Movies_Successful'] = (df_val['Movies_Ratings'] > rating_threshold).astype(int)"
   ]
  },
  {
   "cell_type": "code",
   "execution_count": 75,
   "id": "8d8c083d",
   "metadata": {},
   "outputs": [],
   "source": [
    "# Assuming 'Movies_Successful' is the correct column containing your binary labels\n",
    "y_val_binary = df_val['Movies_Successful']"
   ]
  },
  {
   "cell_type": "code",
   "execution_count": 76,
   "id": "947b6623",
   "metadata": {},
   "outputs": [],
   "source": [
    "# Tokenize and encode the validation text data\n",
    "X_val_tokens = tokenizer(flattened_X_val, truncation=True, padding=True, max_length=512, return_tensors='pt')\n",
    "\n",
    "# Create TensorDataset and DataLoader for validation set\n",
    "val_dataset = TensorDataset(X_val_tokens['input_ids'], X_val_tokens['attention_mask'], torch.tensor(y_val_binary.values))\n",
    "batch_size = 32\n",
    "val_dataloader = DataLoader(val_dataset, batch_size=batch_size, shuffle=False)"
   ]
  },
  {
   "cell_type": "code",
   "execution_count": 77,
   "id": "7535f310",
   "metadata": {},
   "outputs": [],
   "source": [
    "num_epochs = 3\n",
    "\n",
    "for epoch in range(num_epochs):\n",
    "    model.train()  \n",
    "    total_batches = len(train_dataloader)\n",
    "\n",
    "    for batch_idx, batch in enumerate(train_dataloader):\n",
    "        input_ids, attention_mask, labels = batch\n"
   ]
  },
  {
   "cell_type": "code",
   "execution_count": 78,
   "id": "b2c29aff",
   "metadata": {},
   "outputs": [
    {
     "name": "stdout",
     "output_type": "stream",
     "text": [
      "Epoch 3/3, Batch 308/308, Loss: 0.7292890548706055\n",
      "Training completed.\n"
     ]
    }
   ],
   "source": [
    "# Move data to GPU\n",
    "input_ids = input_ids.to(device)\n",
    "attention_mask = attention_mask.to(device)\n",
    "labels = labels.to(device).type(torch.LongTensor)\n",
    "\n",
    "optimizer.zero_grad()\n",
    "\n",
    "# Forward pass\n",
    "outputs = model(input_ids, attention_mask=attention_mask, labels=labels)\n",
    "loss = outputs.loss\n",
    "\n",
    "# Backward pass\n",
    "loss.backward()\n",
    "optimizer.step()\n",
    "\n",
    "# Print batch information\n",
    "if batch_idx % 100 == 0 or batch_idx == total_batches - 1:\n",
    "    print(f\"Epoch {epoch + 1}/{num_epochs}, Batch {batch_idx + 1}/{total_batches}, Loss: {loss.item()}\")\n",
    "\n",
    "# Release GPU memory at the end of each epoch\n",
    "torch.cuda.empty_cache()\n",
    "\n",
    "# Optional: Add a message to indicate the end of training\n",
    "print(\"Training completed.\")\n"
   ]
  },
  {
   "cell_type": "code",
   "execution_count": 79,
   "id": "86525a78",
   "metadata": {},
   "outputs": [],
   "source": [
    "# Validation loop\n",
    "model.eval()  # Set the model to evaluation mode\n",
    "val_predictions = []\n",
    "val_labels = []\n",
    "\n",
    "# Disable gradient calculation during validation\n",
    "with torch.no_grad():\n",
    "    for batch in val_dataloader:\n",
    "        # Unpack the batch\n",
    "        input_ids, attention_mask, labels = batch\n",
    "\n",
    "        # Move data to GPU\n",
    "        input_ids = input_ids.to(device)\n",
    "        attention_mask = attention_mask.to(device)\n",
    "        labels = labels.to(device)\n",
    "\n",
    "        # Forward pass for validation\n",
    "        outputs = model(input_ids, attention_mask=attention_mask)\n",
    "        logits = outputs['logits']\n",
    "\n",
    "        # Append predictions and labels\n",
    "        val_predictions.extend(logits.argmax(dim=1).cpu().numpy())\n",
    "        val_labels.extend(labels.cpu().numpy())"
   ]
  },
  {
   "cell_type": "code",
   "execution_count": 80,
   "id": "6490f75b",
   "metadata": {},
   "outputs": [],
   "source": [
    "# Validate lengths\n",
    "assert len(y_val_binary) == len(val_predictions), \"Length mismatch between y_val_binary and val_predictions\"\n"
   ]
  },
  {
   "cell_type": "code",
   "execution_count": 81,
   "id": "46afa86d",
   "metadata": {},
   "outputs": [
    {
     "name": "stdout",
     "output_type": "stream",
     "text": [
      "Length of y_val_binary: 12310\n",
      "Length of val_predictions: 12310\n"
     ]
    }
   ],
   "source": [
    "# Make sure the lengths of y_val_binary and val_predictions match\n",
    "print(\"Length of y_val_binary:\", len(y_val_binary))\n",
    "print(\"Length of val_predictions:\", len(val_predictions))"
   ]
  },
  {
   "cell_type": "code",
   "execution_count": 82,
   "id": "34af5aaa",
   "metadata": {},
   "outputs": [
    {
     "name": "stdout",
     "output_type": "stream",
     "text": [
      "Validation Accuracy: 83.97%\n"
     ]
    }
   ],
   "source": [
    "# Calculate accuracy on validation set\n",
    "accuracy = accuracy_score(val_labels, val_predictions)\n",
    "print(f\"Validation Accuracy: {accuracy * 100:.2f}%\")"
   ]
  },
  {
   "cell_type": "code",
   "execution_count": 83,
   "id": "df1d19fb",
   "metadata": {},
   "outputs": [],
   "source": [
    "# Assuming 'Movies_Content_Type' is the column containing your test text data in df_val\n",
    "X_test = df_val['Movies_Content_Type']\n"
   ]
  },
  {
   "cell_type": "code",
   "execution_count": 84,
   "id": "871773dc",
   "metadata": {},
   "outputs": [],
   "source": [
    "#flatten the list of lists into a single list of strings\n",
    "flattened_X_test = [str(text) for text in X_test]\n"
   ]
  },
  {
   "cell_type": "code",
   "execution_count": 85,
   "id": "efd91aa0",
   "metadata": {},
   "outputs": [],
   "source": [
    "# Tokenize and encode the test text data\n",
    "X_test_tokens = tokenizer(flattened_X_test, truncation=True, padding=True, max_length=512, return_tensors='pt')"
   ]
  },
  {
   "cell_type": "code",
   "execution_count": 86,
   "id": "50da0c13",
   "metadata": {},
   "outputs": [],
   "source": [
    "# Create TensorDataset and DataLoader for the test set\n",
    "test_dataset = TensorDataset(X_test_tokens['input_ids'], X_test_tokens['attention_mask'])\n",
    "test_dataloader = DataLoader(test_dataset, batch_size=batch_size, shuffle=False)"
   ]
  },
  {
   "cell_type": "code",
   "execution_count": 87,
   "id": "fb2d25f4",
   "metadata": {},
   "outputs": [],
   "source": [
    "# Test loop\n",
    "test_predictions = []\n",
    "\n",
    "# Disable gradient calculation during testing\n",
    "with torch.no_grad():\n",
    "    for batch in test_dataloader:\n",
    "        input_ids, attention_mask = batch\n",
    "\n",
    "        # Move data to GPU\n",
    "        input_ids = input_ids.to(device)\n",
    "        attention_mask = attention_mask.to(device)\n",
    "\n",
    "        # Forward pass for testing\n",
    "        outputs = model(input_ids, attention_mask=attention_mask)\n",
    "        logits = outputs.logits\n",
    "\n",
    "        # Append predictions\n",
    "        test_predictions.extend(logits.argmax(dim=1).cpu().numpy())"
   ]
  },
  {
   "cell_type": "code",
   "execution_count": 88,
   "id": "3c8d4104",
   "metadata": {},
   "outputs": [],
   "source": [
    "# Store the predictions for further evaluation\n",
    "predictions_bert = test_predictions"
   ]
  },
  {
   "cell_type": "code",
   "execution_count": 89,
   "id": "226e1572",
   "metadata": {},
   "outputs": [],
   "source": [
    "# Validate lengths\n",
    "assert len(y_val_binary) == len(test_predictions), \"Length mismatch between y_val_binary and test_predictions\""
   ]
  },
  {
   "cell_type": "code",
   "execution_count": 90,
   "id": "4cec7baa",
   "metadata": {},
   "outputs": [
    {
     "name": "stdout",
     "output_type": "stream",
     "text": [
      "SVM Accuracy: 0.8643379366368806\n",
      "Naive Bayes Accuracy: 0.8643379366368806\n",
      "Logistic Regression Accuracy: 0.8651502843216897\n",
      "Validation Accuracy: 83.97%\n",
      "BERT Test Predictions: [0, 0, 0, 0, 0, 0, 0, 0, 0, 0, 0, 0, 0, 0, 0, 0, 0, 0, 0, 0, 0, 0, 0, 0, 0, 0, 0, 0, 0, 0, 0, 0, 0, 0, 0, 0, 0, 0, 0, 0, 0, 0, 0, 0, 0, 0, 0, 0, 0, 0, 0, 0, 0, 0, 0, 0, 0, 0, 0, 0, 0, 0, 0, 0, 0, 0, 0, 0, 0, 0, 0, 0, 0, 0, 0, 0, 0, 0, 0, 0, 0, 0, 0, 0, 0, 0, 0, 0, 0, 0, 0, 1, 0, 0, 0, 0, 0, 0, 0, 0, 0, 0, 0, 0, 0, 0, 0, 0, 0, 0, 0, 1, 0, 0, 0, 0, 0, 0, 0, 0, 0, 0, 0, 0, 0, 0, 0, 0, 0, 0, 0, 0, 0, 0, 0, 0, 0, 0, 0, 0, 0, 0, 0, 0, 0, 0, 0, 0, 0, 0, 0, 0, 0, 0, 0, 0, 0, 0, 0, 0, 0, 0, 0, 0, 0, 0, 0, 0, 0, 0, 0, 0, 0, 0, 0, 0, 0, 0, 0, 0, 0, 0, 0, 0, 0, 0, 0, 0, 0, 0, 0, 0, 0, 0, 0, 0, 0, 0, 0, 0, 0, 0, 0, 0, 0, 0, 0, 0, 0, 0, 0, 0, 0, 0, 0, 0, 0, 0, 0, 0, 0, 0, 0, 0, 0, 0, 0, 0, 0, 0, 0, 0, 0, 0, 0, 0, 0, 0, 0, 0, 0, 0, 0, 0, 0, 0, 0, 0, 0, 0, 0, 0, 0, 1, 0, 0, 0, 1, 0, 0, 0, 0, 0, 0, 1, 0, 0, 0, 0, 0, 0, 1, 0, 0, 0, 0, 0, 0, 0, 0, 0, 0, 0, 0, 0, 0, 0, 0, 0, 0, 0, 0, 0, 0, 0, 0, 0, 0, 0, 0, 1, 0, 0, 0, 0, 0, 0, 1, 0, 0, 0, 0, 0, 0, 0, 0, 0, 0, 0, 0, 0, 0, 0, 0, 0, 0, 0, 0, 0, 0, 0, 0, 0, 0, 0, 0, 0, 0, 0, 0, 0, 0, 0, 0, 0, 0, 0, 0, 0, 1, 0, 0, 0, 0, 0, 0, 1, 0, 0, 0, 0, 0, 0, 0, 0, 0, 0, 0, 0, 1, 0, 0, 0, 0, 0, 0, 0, 0, 0, 0, 1, 0, 0, 0, 0, 0, 1, 0, 0, 0, 0, 0, 0, 0, 0, 0, 0, 0, 0, 0, 0, 0, 0, 0, 0, 0, 0, 0, 0, 0, 0, 0, 0, 0, 0, 0, 0, 0, 0, 0, 0, 0, 0, 0, 0, 0, 0, 0, 0, 0, 0, 0, 0, 0, 0, 0, 0, 0, 0, 0, 0, 0, 0, 0, 0, 0, 0, 0, 0, 0, 0, 0, 0, 0, 0, 0, 0, 0, 0, 0, 0, 0, 0, 0, 0, 0, 0, 0, 1, 0, 1, 1, 0, 0, 1, 0, 0, 0, 0, 0, 0, 0, 0, 0, 0, 0, 0, 0, 0, 0, 1, 0, 0, 0, 0, 0, 0, 1, 0, 0, 1, 0, 0, 1, 0, 0, 0, 0, 1, 0, 0, 0, 0, 0, 1, 0, 0, 0, 0, 0, 0, 0, 0, 0, 0, 0, 0, 0, 0, 0, 0, 0, 0, 0, 0, 0, 0, 0, 0, 0, 1, 0, 0, 0, 0, 0, 0, 0, 0, 0, 0, 0, 0, 0, 0, 0, 0, 0, 0, 0, 1, 0, 0, 0, 0, 0, 0, 0, 1, 0, 0, 0, 0, 0, 0, 0, 0, 0, 0, 0, 0, 0, 0, 0, 0, 0, 0, 0, 0, 0, 0, 0, 0, 0, 0, 0, 0, 0, 0, 0, 0, 0, 1, 0, 0, 0, 0, 0, 0, 0, 0, 0, 0, 0, 0, 0, 1, 0, 0, 0, 0, 0, 0, 0, 0, 0, 0, 0, 0, 0, 0, 0, 0, 0, 0, 0, 0, 0, 0, 0, 0, 0, 0, 0, 0, 0, 0, 0, 0, 0, 0, 0, 0, 0, 0, 1, 0, 0, 0, 0, 0, 1, 0, 0, 1, 0, 0, 0, 0, 0, 0, 1, 0, 0, 1, 0, 0, 0, 0, 0, 0, 0, 0, 0, 0, 0, 0, 0, 0, 0, 0, 0, 0, 1, 1, 0, 0, 0, 0, 0, 0, 0, 0, 0, 0, 1, 0, 0, 0, 0, 0, 0, 0, 0, 0, 0, 0, 0, 0, 1, 0, 1, 0, 0, 0, 0, 0, 0, 0, 0, 0, 0, 0, 0, 0, 0, 0, 0, 0, 0, 0, 0, 0, 0, 0, 0, 1, 1, 0, 0, 0, 0, 0, 0, 0, 0, 0, 0, 0, 0, 0, 0, 0, 1, 0, 0, 1, 0, 0, 0, 0, 0, 0, 0, 0, 0, 0, 0, 0, 0, 0, 0, 0, 0, 0, 0, 0, 0, 0, 0, 0, 0, 1, 1, 0, 0, 0, 0, 0, 0, 0, 1, 0, 0, 0, 1, 0, 0, 0, 0, 0, 0, 1, 0, 0, 0, 0, 1, 0, 0, 0, 0, 1, 0, 0, 0, 0, 0, 0, 0, 0, 0, 0, 0, 0, 0, 0, 0, 0, 1, 1, 0, 0, 0, 0, 0, 1, 0, 0, 0, 0, 0, 0, 0, 0, 0, 0, 0, 0, 0, 0, 0, 0, 1, 0, 0, 0, 0, 0, 0, 0, 0, 0, 0, 0, 0, 0, 1, 0, 0, 0, 0, 0, 0, 0, 0, 0, 1, 0, 0, 0, 0, 0, 0, 0, 0, 0, 0, 0, 0, 0, 1, 0, 0, 0, 0, 0, 0, 0, 0, 0, 0, 0, 1, 1, 0, 0, 0, 0, 0, 0, 1, 1, 0, 0, 0, 0, 0, 0, 0, 0, 0, 0, 0, 0, 0, 0, 0, 0, 0, 0, 0, 0, 0, 0, 0, 0, 0, 0, 0, 0, 0, 0, 0, 0, 0, 0, 1, 0, 0, 0, 0, 0, 0, 0, 0, 0, 1, 0, 0, 0, 0, 0, 0, 0, 0, 0, 0, 0, 0, 0, 0, 0, 0, 0, 0, 1, 1, 0, 0, 0, 0, 0, 0, 0, 0, 0, 0, 0, 0, 0, 0, 0, 0, 0, 0, 1, 0, 1, 0, 0, 0, 0, 0, 0, 1, 0, 0, 0, 0, 0, 0, 0, 0, 1, 0, 0, 0, 0, 0, 0, 0, 0, 0, 0, 0, 0, 0, 0, 0, 0, 0, 0, 0, 0, 0, 0, 0, 0, 0, 0, 0, 0, 0, 0, 0, 0, 0, 0, 0, 0, 1, 0, 0, 0, 0, 1, 0, 0, 0, 0, 0, 1, 0, 0, 0, 0, 0, 0, 0, 0, 0, 0, 0, 0, 1, 0, 0, 0, 0, 0, 0, 0, 0, 0, 0, 0, 0, 0, 0, 0, 0, 0, 0, 0, 0, 0, 0, 0, 0, 1, 0, 0, 0, 1, 0, 0, 0, 0, 0, 0, 0, 0, 0, 0, 0, 0, 0, 0, 0, 1, 0, 0, 0, 0, 0, 0, 0, 0, 0, 1, 0, 0, 0, 0, 0, 0, 0, 0, 0, 0, 0, 0, 0, 0, 0, 0, 0, 0, 0, 0, 0, 0, 0, 0, 0, 1, 1, 1, 0, 1, 0, 1, 0, 0, 0, 0, 0, 0, 0, 0, 0, 0, 0, 0, 0, 0, 0, 0, 0, 0, 0, 0, 0, 0, 0, 0, 0, 0, 1, 0, 0, 0, 0, 1, 1, 0, 0, 0, 0, 0, 0, 1, 0, 0, 0, 0, 0, 0, 0, 1, 0, 0, 0, 0, 0, 0, 0, 0, 0, 0, 0, 0, 0, 0, 0, 0, 1, 0, 0, 0, 0, 0, 1, 0, 0, 0, 0, 0, 0, 0, 0, 0, 0, 0, 0, 0, 0, 0, 0, 0, 0, 0, 0, 0, 0, 0, 0, 0, 0, 0, 0, 0, 0, 0, 0, 0, 0, 1, 1, 0, 0, 1, 0, 0, 0, 0, 0, 0, 0, 0, 0, 0, 0, 0, 0, 1, 0, 0, 0, 0, 1, 0, 0, 0, 0, 0, 0, 0, 0, 1, 1, 0, 0, 0, 1, 1, 0, 0, 0, 0, 1, 0, 0, 0, 0, 0, 0, 0, 1, 0, 1, 0, 0, 0, 0, 0, 0, 0, 0, 0, 0, 0, 0, 1, 0, 1, 0, 0, 0, 0, 0, 0, 0, 0, 0, 0, 0, 0, 0, 0, 0, 0, 0, 0, 0, 0, 1, 0, 0, 0, 0, 0, 0, 0, 0, 0, 0, 0, 0, 0, 0, 0, 0, 0, 0, 0, 0, 0, 0, 1, 0, 0, 0, 0, 0, 0, 0, 0, 0, 0, 0, 0, 0, 1, 0, 0, 0, 0, 0, 0, 0, 0, 0, 0, 0, 0, 0, 0, 1, 0, 1, 0, 0, 0, 0, 0, 0, 1, 0, 0, 1, 0, 0, 0, 0, 0, 0, 0, 0, 0, 0, 0, 0, 0, 0, 0, 0, 0, 0, 0, 1, 0, 0, 0, 0, 0, 0, 0, 0, 0, 0, 0, 0, 0, 0, 1, 0, 1, 0, 0, 0, 0, 0, 1, 0, 0, 0, 0, 0, 0, 0, 0, 0, 0, 0, 0, 1, 0, 0, 0, 1, 0, 0, 0, 1, 0, 0, 0, 0, 0, 0, 0, 0, 0, 1, 0, 0, 0, 0, 0, 0, 0, 1, 0, 0, 0, 0, 0, 0, 0, 0, 0, 0, 0, 0, 0, 0, 0, 1, 0, 1, 0, 0, 0, 0, 0, 0, 0, 0, 0, 0, 0, 0, 0, 0, 0, 0, 1, 0, 0, 0, 0, 0, 0, 0, 0, 0, 0, 0, 0, 0, 0, 1, 1, 0, 0, 0, 0, 0, 0, 0, 0, 0, 0, 0, 1, 0, 1, 0, 0, 0, 0, 0, 0, 0, 0, 0, 0, 0, 0, 0, 0, 0, 0, 0, 0, 0, 0, 0, 0, 0, 0, 1, 0, 0, 1, 0, 0, 0, 1, 0, 0, 0, 0, 0, 0, 1, 0, 0, 0, 0, 1, 0, 0, 0, 0, 0, 0, 0, 1, 0, 0, 0, 0, 0, 0, 0, 0, 0, 0, 0, 0, 0, 0, 0, 0, 0, 0, 0, 0, 1, 1, 0, 0, 0, 0, 0, 0, 0, 0, 0, 0, 0, 1, 0, 0, 0, 0, 0, 0, 0, 0, 0, 0, 1, 0, 0, 0, 0, 0, 1, 0, 1, 0, 0, 0, 0, 0, 0, 1, 0, 0, 0, 0, 0, 0, 0, 0, 0, 0, 0, 0, 0, 1, 0, 0, 0, 0, 0, 0, 0, 0, 0, 0, 1, 0, 0, 0, 0, 0, 0, 0, 0, 0, 0, 0, 0, 0, 0, 0, 0, 0, 0, 0, 0, 1, 0, 0, 0, 0, 0, 0, 1, 0, 0, 0, 0, 0, 0, 0, 1, 0, 0, 0, 0, 0, 0, 0, 0, 1, 0, 0, 0, 0, 1, 1, 0, 0, 1, 0, 0, 0, 0, 0, 1, 1, 0, 0, 0, 0, 0, 0, 1, 0, 0, 0, 0, 0, 1, 1, 0, 0, 0, 1, 1, 0, 0, 0, 0, 0, 0, 1, 0, 0, 0, 0, 0, 0, 0, 0, 0, 0, 0, 0, 0, 1, 0, 1, 1, 1, 0, 0, 0, 0, 0, 0, 0, 1, 0, 0, 0, 0, 0, 0, 0, 0, 0, 0, 1, 0, 0, 0, 0, 0, 0, 0, 0, 0, 0, 0, 0, 0, 0, 0, 0, 0, 0, 0, 0, 0, 0, 1, 0, 0, 0, 1, 0, 0, 1, 0, 0, 0, 0, 1, 0, 1, 0, 0, 0, 0, 1, 0, 0, 1, 0, 1, 0, 0, 1, 0, 1, 0, 0, 0, 0, 0, 0, 1, 0, 0, 0, 0, 1, 0, 0, 0, 0, 0, 0, 0, 0, 0, 0, 0, 0, 0, 0, 1, 0, 0, 0, 0, 0, 0, 0, 0, 0, 0, 0, 0, 0, 0, 0, 0, 0, 1, 0, 0, 0, 0, 0, 1, 1, 1, 1, 0, 1, 0, 0, 0, 0, 0, 1, 1, 0, 0, 0, 0, 0, 0, 0, 0, 1, 1, 0, 0, 0, 0, 0, 0, 0, 0, 0, 0, 0, 0, 0, 0, 0, 0, 0, 0, 0, 0, 1, 1, 1, 0, 0, 0, 0, 0, 0, 0, 0, 0, 0, 0, 0, 0, 0, 0, 0, 0, 0, 1, 0, 0, 1, 0, 0, 0, 0, 0, 0, 0, 0, 0, 0, 0, 0, 0, 0, 0, 0, 0, 0, 1, 0, 0, 0, 0, 0, 0, 0, 1, 0, 1, 0, 0, 0, 0, 0, 0, 0, 0, 0, 0, 0, 1, 0, 0, 0, 0, 0, 0, 0, 0, 0, 0, 0, 0, 0, 0, 0, 0, 0, 0, 0, 0, 1, 0, 0, 1, 0, 0, 1, 0, 0, 0, 0, 0, 0, 0, 0, 0, 0, 0, 0, 0, 0, 0, 0, 0, 0, 1, 0, 0, 0, 0, 1, 0, 0, 0, 0, 0, 0, 0, 0, 0, 0, 0, 1, 0, 0, 0, 0, 1, 0, 0, 0, 0, 1, 0, 0, 0, 0, 1, 0, 0, 0, 0, 0, 0, 0, 0, 0, 1, 0, 0, 0, 0, 0, 0, 0, 0, 0, 0, 0, 0, 0, 0, 0, 0, 1, 0, 0, 0, 1, 0, 0, 0, 0, 0, 0, 0, 0, 0, 0, 1, 0, 1, 0, 0, 0, 0, 0, 0, 0, 0, 0, 0, 0, 0, 0, 0, 0, 1, 1, 1, 0, 0, 0, 0, 0, 0, 0, 0, 0, 0, 0, 1, 0, 0, 0, 0, 0, 0, 1, 0, 0, 1, 0, 0, 0, 0, 0, 0, 0, 0, 0, 0, 0, 0, 0, 0, 0, 0, 0, 0, 0, 0, 1, 0, 1, 0, 1, 0, 0, 0, 0, 1, 0, 0, 0, 0, 0, 0, 0, 0, 1, 1, 0, 0, 0, 1, 1, 0, 1, 0, 0, 0, 0, 0, 0, 0, 0, 0, 0, 0, 0, 0, 0, 0, 0, 0, 0, 1, 0, 0, 0, 0, 0, 0, 0, 0, 0, 0, 0, 0, 0, 0, 1, 0, 0, 0, 0, 0, 0, 0, 0, 0, 0, 0, 0, 0, 0, 0, 0, 0, 0, 1, 0, 0, 0, 1, 0, 1, 0, 0, 1, 0, 0, 0, 0, 1, 0, 0, 0, 0, 0, 0, 0, 0, 0, 0, 1, 0, 0, 0, 0, 0, 0, 1, 0, 1, 0, 0, 0, 0, 0, 0, 0, 0, 0, 0, 0, 0, 0, 0, 0, 0, 0, 0, 0, 0, 0, 0, 0, 0, 0, 0, 0, 0, 0, 1, 0, 1, 0, 0, 0, 1, 0, 0, 1, 0, 0, 0, 0, 0, 0, 0, 0, 0, 0, 1, 0, 0, 0, 1, 0, 0, 0, 1, 0, 0, 1, 0, 0, 0, 1, 0, 1, 0, 0, 0, 0, 0, 0, 0, 0, 0, 0, 0, 0, 1, 0, 0, 0, 0, 0, 0, 1, 1, 0, 0, 0, 1, 0, 0, 1, 0, 0, 0, 0, 0, 1, 0, 0, 1, 0, 0, 0, 0, 0, 0, 1, 0, 0, 0, 0, 0, 0, 0, 0, 0, 0, 0, 0, 0, 1, 0, 0, 0, 0, 0, 0, 0, 0, 0, 0, 0, 0, 0, 0, 0, 0, 0, 0, 0, 0, 0, 0, 0, 0, 1, 0, 0, 0, 0, 0, 0, 0, 1, 1, 0, 0, 0, 0, 0, 0, 0, 0, 0, 0, 0, 0, 1, 0, 0, 0, 1, 0, 0, 0, 0, 0, 0, 1, 1, 0, 0, 0, 0, 1, 0, 0, 0, 0, 0, 0, 0, 0, 0, 0, 0, 1, 1, 1, 0, 0, 0, 0, 0, 0, 0, 0, 0, 0, 0, 0, 0, 0, 0, 1, 0, 0, 0, 1, 0, 0, 0, 0, 0, 0, 0, 1, 0, 0, 0, 0, 0, 0, 0, 0, 0, 0, 0, 1, 0, 0, 0, 1, 0, 0, 0, 0, 0, 0, 0, 0, 1, 0, 0, 0, 0, 0, 0, 1, 0, 0, 0, 0, 0, 0, 0, 0, 0, 0, 0, 0, 0, 0, 0, 0, 0, 0, 0, 0, 0, 0, 0, 1, 1, 0, 1, 0, 1, 0, 0, 0, 0, 0, 1, 1, 0, 1, 0, 0, 1, 0, 0, 0, 1, 0, 0, 0, 0, 1, 1, 0, 1, 0, 1, 1, 0, 0, 0, 0, 0, 1, 0, 0, 0, 0, 1, 1, 0, 0, 0, 0, 1, 0, 0, 0, 0, 0, 0, 0, 0, 0, 0, 0, 0, 0, 0, 0, 0, 1, 1, 0, 0, 0, 0, 0, 0, 1, 0, 0, 0, 0, 0, 0, 0, 0, 1, 1, 0, 0, 1, 1, 0, 0, 1, 0, 0, 1, 0, 0, 1, 0, 1, 0, 0, 0, 0, 1, 0, 0, 0, 0, 0, 0, 0, 0, 0, 0, 1, 1, 0, 0, 1, 0, 0, 0, 0, 0, 0, 1, 0, 0, 0, 0, 0, 0, 0, 0, 0, 0, 0, 0, 0, 1, 0, 0, 0, 0, 0, 0, 0, 0, 0, 0, 0, 0, 0, 0, 0, 0, 0, 0, 0, 0, 0, 0, 0, 1, 0, 0, 0, 1, 0, 0, 0, 0, 1, 0, 1, 0, 0, 1, 0, 0, 0, 0, 0, 0, 0, 0, 1, 0, 1, 1, 1, 0, 0, 0, 0, 0, 0, 0, 1, 0, 0, 0, 1, 0, 0, 0, 0, 1, 0, 0, 0, 0, 0, 0, 0, 0, 0, 0, 0, 0, 0, 0, 0, 1, 0, 0, 1, 1, 0, 1, 0, 0, 0, 0, 0, 0, 0, 0, 1, 0, 0, 0, 0, 0, 0, 0, 0, 0, 0, 0, 1, 0, 0, 0, 0, 0, 0, 0, 0, 0, 0, 0, 0, 0, 0, 0, 0, 1, 0, 1, 1, 0, 0, 0, 0, 0, 0, 0, 0, 0, 0, 0, 1, 0, 0, 0, 1, 0, 0, 0, 1, 0, 0, 0, 0, 0, 1, 0, 0, 0, 0, 0, 0, 0, 0, 0, 0, 0, 0, 0, 0, 0, 0, 0, 0, 1, 0, 0, 0, 1, 0, 0, 0, 0, 1, 0, 0, 0, 0, 0, 0, 0, 1, 0, 0, 0, 1, 0, 0, 0, 0, 1, 0, 0, 0, 0, 0, 1, 0, 1, 0, 0, 0, 0, 0, 0, 0, 0, 0, 0, 0, 0, 0, 0, 1, 0, 0, 0, 0, 0, 1, 0, 0, 0, 0, 0, 0, 0, 0, 0, 0, 0, 0, 0, 0, 0, 0, 0, 0, 0, 0, 0, 0, 0, 0, 0, 0, 0, 0, 0, 0, 1, 1, 1, 0, 0, 1, 0, 0, 1, 0, 0, 0, 0, 1, 0, 0, 0, 0, 0, 1, 0, 0, 0, 0, 0, 0, 0, 0, 0, 0, 0, 0, 0, 1, 1, 0, 0, 0, 0, 1, 0, 0, 0, 0, 0, 0, 0, 0, 0, 0, 0, 0, 0, 0, 0, 0, 0, 0, 0, 0, 0, 0, 0, 0, 0, 0, 0, 0, 0, 0, 0, 0, 0, 0, 1, 1, 0, 0, 0, 0, 0, 0, 0, 0, 0, 0, 0, 0, 0, 0, 0, 0, 0, 1, 0, 0, 0, 0, 0, 0, 0, 0, 0, 0, 0, 0, 0, 0, 0, 0, 1, 0, 1, 1, 0, 0, 0, 0, 0, 1, 0, 1, 1, 0, 0, 0, 0, 0, 0, 0, 0, 1, 0, 0, 0, 0, 0, 0, 0, 0, 0, 0, 0, 0, 0, 0, 0, 1, 0, 0, 0, 0, 0, 0, 0, 1, 0, 0, 0, 0, 0, 0, 0, 0, 1, 0, 0, 0, 0, 0, 0, 0, 0, 0, 0, 0, 0, 0, 0, 0, 0, 0, 0, 0, 0, 0, 0, 0, 0, 0, 1, 1, 0, 1, 0, 0, 1, 0, 1, 0, 0, 0, 0, 0, 0, 0, 0, 0, 0, 0, 1, 1, 0, 1, 0, 0, 0, 0, 0, 0, 0, 0, 0, 0, 0, 0, 0, 0, 1, 0, 0, 0, 0, 0, 0, 0, 0, 0, 0, 0, 0, 0, 0, 0, 0, 1, 1, 0, 0, 0, 0, 1, 0, 0, 0, 0, 0, 0, 1, 0, 1, 0, 0, 0, 0, 1, 1, 0, 0, 0, 0, 0, 0, 0, 0, 0, 0, 0, 1, 0, 0, 1, 0, 0, 0, 0, 0, 0, 0, 0, 0, 0, 0, 0, 0, 0, 1, 0, 0, 0, 0, 0, 0, 0, 0, 0, 0, 1, 0, 0, 0, 1, 0, 0, 0, 0, 0, 0, 1, 0, 0, 1, 1, 0, 0, 0, 0, 0, 1, 1, 1, 0, 0, 1, 0, 0, 0, 1, 0, 1, 0, 0, 1, 0, 1, 0, 0, 0, 0, 0, 1, 0, 0, 0, 0, 0, 1, 0, 1, 0, 0, 0, 0, 0, 0, 1, 0, 0, 0, 0, 1, 0, 0, 0, 0, 0, 0, 0, 1, 0, 0, 0, 0, 0, 0, 0, 1, 1, 0, 0, 0, 0, 0, 0, 0, 0, 0, 0, 0, 0, 0, 0, 0, 0, 0, 0, 1, 1, 1, 0, 0, 0, 1, 0, 0, 0, 0, 0, 0, 0, 0, 0, 0, 0, 0, 0, 0, 0, 0, 0, 0, 1, 0, 0, 0, 0, 0, 0, 1, 0, 0, 0, 0, 0, 0, 0, 0, 1, 0, 1, 0, 0, 0, 1, 0, 0, 0, 0, 0, 1, 0, 0, 0, 0, 0, 0, 0, 0, 0, 0, 0, 1, 0, 0, 1, 1, 0, 0, 1, 1, 0, 0, 0, 0, 0, 0, 0, 1, 1, 0, 0, 0, 1, 1, 0, 0, 0, 0, 0, 0, 0, 0, 0, 0, 1, 1, 0, 0, 0, 0, 0, 0, 0, 1, 0, 0, 0, 0, 0, 0, 0, 1, 0, 0, 0, 0, 0, 0, 0, 0, 0, 1, 0, 0, 0, 0, 0, 0, 0, 0, 1, 0, 1, 0, 1, 0, 1, 0, 0, 0, 0, 0, 0, 0, 0, 0, 0, 0, 0, 0, 0, 0, 0, 0, 0, 0, 0, 0, 1, 0, 0, 0, 0, 0, 0, 0, 0, 1, 0, 0, 0, 0, 0, 1, 0, 1, 1, 0, 1, 0, 0, 1, 0, 0, 0, 0, 0, 0, 0, 0, 0, 0, 0, 0, 0, 0, 0, 0, 0, 0, 0, 0, 0, 0, 0, 0, 0, 0, 0, 0, 0, 0, 0, 0, 0, 0, 0, 0, 0, 0, 1, 0, 0, 1, 0, 0, 0, 0, 0, 0, 0, 0, 0, 0, 1, 0, 0, 0, 0, 1, 1, 0, 0, 0, 0, 0, 0, 0, 0, 0, 0, 0, 0, 0, 0, 1, 0, 0, 0, 0, 0, 0, 0, 0, 0, 0, 0, 0, 0, 0, 0, 0, 1, 1, 0, 1, 0, 1, 0, 0, 1, 0, 0, 0, 0, 0, 0, 0, 1, 0, 1, 0, 0, 0, 0, 0, 0, 0, 0, 0, 0, 0, 0, 0, 0, 0, 1, 0, 0, 0, 0, 0, 0, 0, 0, 0, 0, 0, 0, 0, 0, 0, 0, 0, 0, 0, 0, 0, 0, 0, 0, 0, 1, 0, 0, 0, 0, 0, 0, 0, 0, 1, 0, 0, 1, 0, 0, 0, 0, 1, 0, 0, 0, 0, 0, 0, 0, 0, 0, 0, 0, 0, 0, 1, 0, 0, 0, 0, 0, 0, 1, 0, 0, 0, 1, 0, 1, 0, 0, 0, 0, 0, 1, 1, 1, 0, 0, 0, 0, 1, 0, 0, 0, 0, 0, 0, 0, 0, 0, 0, 1, 1, 0, 0, 0, 0, 0, 0, 0, 0, 0, 1, 0, 0, 0, 0, 0, 0, 0, 0, 0, 0, 0, 1, 0, 0, 0, 0, 0, 0, 1, 1, 0, 0, 0, 0, 1, 0, 0, 0, 0, 0, 0, 0, 0, 0, 0, 1, 1, 0, 0, 1, 0, 0, 0, 0, 0, 0, 0, 1, 1, 0, 0, 0, 0, 0, 0, 0, 0, 0, 0, 0, 0, 0, 0, 0, 0, 0, 0, 1, 1, 0, 0, 0, 1, 0, 0, 0, 0, 0, 1, 0, 1, 1, 0, 0, 0, 0, 0, 0, 0, 1, 0, 0, 0, 0, 0, 0, 0, 0, 0, 0, 0, 0, 0, 0, 0, 0, 0, 0, 0, 0, 0, 0, 0, 0, 0, 0, 0, 1, 1, 1, 0, 0, 0, 0, 0, 0, 0, 0, 0, 1, 0, 1, 0, 0, 1, 0, 0, 0, 0, 1, 0, 1, 1, 0, 0, 0, 0, 0, 0, 0, 0, 1, 1, 1, 1, 0, 0, 0, 0, 1, 1, 0, 0, 0, 0, 0, 0, 0, 0, 1, 0, 0, 0, 0, 0, 0, 0, 0, 0, 0, 0, 0, 0, 0, 0, 0, 0, 1, 0, 0, 0, 0, 0, 0, 0, 0, 0, 0, 0, 0, 0, 0, 0, 0, 0, 0, 1, 0, 0, 1, 0, 0, 0, 1, 0, 0, 0, 0, 1, 0, 0, 0, 0, 0, 1, 0, 0, 0, 1, 1, 0, 0, 0, 1, 0, 0, 1, 1, 0, 0, 0, 0, 0, 0, 0, 0, 0, 0, 1, 0, 1, 1, 0, 0, 0, 0, 0, 0, 1, 0, 0, 1, 0, 1, 0, 0, 0, 0, 1, 0, 0, 1, 0, 0, 0, 0, 1, 1, 0, 0, 0, 0, 0, 0, 1, 0, 0, 0, 0, 0, 0, 1, 0, 0, 0, 0, 0, 0, 0, 0, 0, 0, 0, 0, 0, 0, 0, 0, 0, 0, 0, 0, 0, 1, 1, 0, 0, 0, 1, 0, 0, 0, 0, 0, 0, 0, 0, 0, 0, 0, 0, 0, 1, 0, 0, 0, 0, 1, 0, 0, 0, 1, 0, 0, 0, 0, 0, 1, 0, 0, 0, 1, 0, 0, 0, 1, 0, 0, 0, 1, 0, 0, 0, 0, 0, 0, 0, 0, 0, 0, 0, 0, 0, 0, 0, 0, 0, 0, 1, 0, 1, 0, 1, 1, 0, 0, 0, 0, 0, 0, 0, 0, 0, 0, 0, 0, 0, 1, 0, 0, 0, 0, 1, 0, 0, 0, 0, 0, 0, 0, 0, 0, 0, 0, 0, 0, 0, 0, 1, 0, 1, 0, 0, 0, 0, 1, 0, 1, 0, 0, 0, 0, 1, 0, 0, 0, 1, 0, 1, 0, 0, 0, 0, 0, 1, 0, 0, 0, 0, 0, 0, 0, 0, 0, 0, 0, 1, 1, 1, 1, 0, 0, 0, 1, 0, 1, 0, 0, 0, 0, 0, 0, 0, 0, 0, 0, 0, 0, 1, 0, 0, 0, 1, 0, 0, 0, 0, 0, 0, 0, 0, 0, 0, 0, 0, 0, 0, 0, 0, 0, 0, 1, 1, 0, 0, 0, 0, 1, 0, 0, 0, 1, 0, 0, 1, 0, 0, 0, 0, 0, 0, 0, 0, 1, 0, 0, 0, 0, 0, 0, 0, 0, 0, 0, 0, 0, 0, 0, 0, 0, 0, 0, 0, 1, 0, 0, 0, 0, 0, 0, 0, 0, 0, 0, 0, 0, 0, 0, 0, 0, 1, 0, 1, 0, 0, 0, 0, 0, 0, 0, 0, 0, 0, 0, 0, 0, 0, 1, 1, 0, 0, 0, 0, 1, 0, 0, 0, 1, 0, 0, 0, 0, 0, 0, 0, 1, 0, 0, 0, 0, 0, 0, 0, 0, 0, 0, 0, 0, 0, 0, 0, 0, 0, 0, 0, 0, 0, 1, 0, 0, 0, 0, 0, 0, 0, 0, 0, 0, 0, 0, 0, 0, 0, 0, 0, 1, 0, 0, 1, 0, 0, 0, 0, 0, 0, 0, 0, 1, 0, 1, 0, 0, 0, 1, 0, 0, 0, 0, 0, 0, 1, 0, 1, 0, 1, 0, 0, 0, 0, 0, 0, 0, 0, 0, 0, 0, 0, 0, 0, 0, 0, 0, 1, 0, 0, 0, 0, 0, 0, 0, 0, 0, 0, 0, 0, 0, 0, 0, 1, 0, 0, 0, 0, 0, 0, 0, 0, 0, 0, 0, 0, 0, 0, 0, 0, 0, 1, 0, 0, 0, 0, 0, 0, 0, 0, 1, 0, 0, 0, 0, 0, 0, 0, 0, 0, 0, 0, 0, 0, 0, 0, 0, 0, 1, 0, 1, 1, 1, 0, 0, 0, 0, 0, 0, 0, 1, 0, 0, 0, 0, 0, 0, 0, 0, 0, 1, 0, 0, 0, 0, 0, 1, 0, 0, 0, 0, 0, 1, 0, 1, 0, 1, 0, 0, 1, 0, 0, 1, 0, 0, 1, 0, 0, 0, 0, 0, 1, 0, 0, 0, 0, 0, 0, 0, 0, 0, 0, 0, 0, 0, 0, 0, 0, 0, 1, 0, 0, 0, 0, 0, 0, 1, 0, 0, 0, 0, 0, 0, 0, 0, 1, 0, 0, 0, 0, 0, 0, 1, 0, 0, 1, 0, 0, 0, 0, 0, 0, 0, 0, 0, 0, 0, 0, 0, 0, 0, 0, 0, 0, 0, 0, 0, 0, 0, 0, 0, 0, 0, 0, 1, 1, 0, 1, 0, 1, 0, 0, 0, 1, 0, 0, 0, 0, 0, 1, 0, 0, 0, 0, 1, 0, 1, 1, 0, 0, 0, 0, 0, 0, 0, 0, 0, 0, 0, 1, 1, 0, 0, 0, 0, 0, 0, 0, 0, 0, 0, 0, 0, 0, 0, 0, 0, 0, 0, 0, 0, 0, 0, 0, 1, 0, 0, 1, 0, 0, 0, 0, 0, 1, 0, 1, 0, 1, 0, 0, 0, 1, 0, 0, 0, 0, 0, 0, 1, 0, 0, 0, 0, 0, 0, 0, 1, 0, 0, 0, 0, 0, 0, 0, 0, 1, 1, 0, 0, 0, 0, 0, 0, 0, 0, 0, 0, 0, 0, 0, 0, 0, 0, 0, 0, 0, 0, 0, 0, 0, 1, 0, 1, 0, 0, 0, 0, 0, 0, 0, 0, 0, 0, 1, 0, 0, 0, 0, 0, 0, 0, 0, 0, 0, 0, 0, 0, 0, 0, 0, 0, 0, 1, 0, 0, 0, 0, 0, 0, 0, 0, 0, 1, 0, 0, 1, 0, 0, 0, 1, 0, 0, 0, 0, 0, 1, 1, 0, 0, 0, 0, 0, 0, 1, 0, 0, 0, 0, 1, 0, 0, 0, 0, 0, 0, 0, 0, 1, 0, 0, 1, 0, 0, 0, 0, 0, 0, 0, 1, 0, 1, 1, 0, 0, 1, 0, 0, 1, 0, 0, 0, 1, 0, 0, 0, 0, 1, 0, 0, 0, 0, 0, 0, 1, 0, 0, 0, 0, 0, 0, 0, 0, 0, 0, 1, 0, 0, 0, 0, 0, 0, 0, 0, 0, 0, 0, 0, 0, 0, 0, 0, 0, 1, 0, 1, 0, 0, 0, 0, 0, 0, 0, 0, 0, 0, 0, 0, 0, 1, 0, 0, 0, 0, 1, 1, 0, 0, 0, 0, 0, 0, 0, 0, 1, 0, 0, 0, 1, 0, 0, 0, 0, 0, 0, 0, 0, 0, 0, 0, 0, 0, 0, 0, 0, 0, 0, 1, 0, 0, 1, 0, 0, 0, 0, 1, 0, 0, 0, 0, 0, 1, 0, 0, 0, 0, 0, 1, 0, 0, 0, 0, 0, 0, 0, 0, 0, 0, 1, 0, 1, 0, 0, 0, 0, 0, 0, 0, 1, 1, 0, 0, 0, 0, 0, 0, 0, 1, 0, 1, 0, 1, 1, 0, 1, 1, 0, 0, 0, 0, 0, 0, 0, 0, 0, 0, 0, 1, 0, 0, 0, 0, 0, 0, 0, 1, 1, 0, 0, 1, 0, 0, 0, 0, 0, 0, 0, 0, 0, 0, 0, 0, 1, 0, 0, 1, 0, 0, 0, 0, 0, 0, 0, 0, 0, 1, 0, 0, 0, 1, 0, 1, 0, 1, 0, 0, 0, 0, 0, 0, 0, 1, 0, 0, 0, 0, 0, 0, 1, 0, 0, 0, 0, 0, 0, 0, 0, 0, 0, 0, 0, 0, 0, 0, 0, 0, 0, 1, 0, 0, 0, 0, 0, 0, 0, 0, 0, 1, 0, 0, 0, 0, 1, 1, 0, 0, 0, 0, 0, 0, 0, 0, 0, 1, 0, 0, 0, 0, 0, 1, 0, 1, 0, 0, 0, 0, 0, 0, 0, 0, 0, 0, 0, 0, 0, 0, 1, 0, 0, 0, 0, 0, 1, 0, 0, 1, 1, 0, 1, 1, 0, 0, 0, 0, 0, 0, 0, 1, 0, 0, 0, 0, 0, 0, 0, 1, 0, 0, 0, 0, 1, 0, 0, 0, 0, 0, 0, 0, 0, 0, 0, 1, 0, 1, 0, 0, 0, 1, 0, 0, 0, 0, 0, 0, 0, 1, 0, 1, 1, 0, 0, 0, 1, 0, 0, 0, 0, 0, 0, 0, 0, 0, 0, 0, 0, 1, 0, 1, 0, 0, 1, 0, 0, 0, 1, 1, 0, 1, 1, 0, 0, 0, 0, 0, 0, 0, 0, 0, 0, 1, 0, 1, 1, 0, 0, 0, 0, 0, 0, 0, 0, 0, 1, 0, 0, 1, 0, 0, 1, 0, 1, 0, 0, 1, 0, 0, 0, 0, 0, 1, 1, 0, 1, 0, 0, 0, 1, 0, 0, 0, 0, 0, 0, 0, 0, 0, 0, 0, 0, 0, 0, 1, 1, 0, 0, 0, 0, 1, 0, 1, 0, 0, 0, 1, 1, 1, 0, 0, 0, 1, 0, 0, 0, 1, 0, 1, 0, 0, 0, 0, 0, 0, 0, 0, 0, 0, 0, 0, 0, 0, 0, 0, 0, 0, 0, 0, 0, 0, 0, 0, 1, 0, 0, 0, 0, 0, 0, 1, 0, 0, 1, 0, 0, 0, 0, 0, 0, 0, 0, 0, 0, 0, 1, 0, 0, 0, 0, 1, 0, 0, 0, 0, 0, 1, 1, 1, 0, 0, 0, 0, 0, 0, 0, 0, 0, 1, 1, 0, 1, 0, 0, 0, 0, 0, 0, 1, 0, 0, 0, 0, 0, 0, 1, 0, 0, 0, 0, 0, 1, 1, 0, 0, 0, 0, 0, 0, 0, 0, 0, 1, 1, 0, 0, 0, 0, 0, 0, 0, 0, 0, 0, 0, 0, 0, 0, 0, 0, 0, 0, 0, 0, 0, 0, 0, 0, 1, 0, 0, 1, 1, 0, 0, 1, 0, 0, 0, 0, 0, 0, 0, 0, 0, 0, 0, 0, 0, 0, 0, 0, 1, 1, 0, 0, 0, 1, 0, 0, 0, 0, 0, 1, 0, 0, 0, 0, 1, 1, 1, 0, 0, 0, 0, 0, 0, 1, 0, 1, 0, 0, 0, 0, 0, 1, 0, 0, 0, 1, 1, 0, 0, 0, 0, 0, 0, 0, 0, 1, 0, 0, 0, 0, 0, 0, 0, 1, 0, 0, 0, 0, 0, 0, 0, 1, 0, 0, 1, 0, 0, 0, 0, 0, 0, 0, 0, 0, 0, 1, 0, 1, 0, 0, 0, 0, 0, 0, 0, 0, 0, 1, 0, 0, 0, 0, 1, 1, 0, 0, 0, 0, 0, 0, 0, 0, 0, 0, 0, 0, 0, 0, 0, 0, 0, 0, 0, 0, 0, 0, 0, 0, 0, 1, 0, 1, 0, 0, 0, 0, 0, 0, 0, 0, 0, 0, 0, 0, 0, 1, 1, 0, 0, 0, 0, 0, 0, 0, 0, 0, 0, 0, 0, 0, 0, 0, 0, 1, 0, 0, 1, 0, 1, 0, 0, 0, 0, 1, 0, 0, 0, 0, 1, 0, 0, 0, 0, 0, 0, 0, 1, 0, 0, 0, 0, 0, 1, 1, 0, 1, 0, 0, 0, 0, 0, 0, 0, 0, 0, 0, 0, 0, 0, 0, 0, 0, 1, 0, 0, 0, 0, 0, 0, 0, 0, 1, 0, 1, 0, 0, 1, 0, 0, 0, 0, 0, 0, 0, 0, 0, 1, 0, 1, 0, 0, 1, 0, 1, 0, 0, 0, 0, 0, 0, 0, 0, 0, 0, 0, 1, 0, 0, 0, 0, 0, 0, 0, 0, 0, 0, 0, 0, 0, 0, 0, 1, 0, 0, 1, 0, 0, 0, 0, 0, 0, 0, 1, 0, 0, 0, 0, 0, 0, 0, 0, 0, 0, 0, 0, 0, 0, 1, 0, 1, 0, 0, 0, 0, 0, 0, 0, 0, 0, 1, 0, 1, 0, 0, 0, 0, 0, 0, 0, 0, 0, 0, 0, 0, 0, 0, 0, 0, 0, 0, 0, 0, 0, 0, 0, 0, 0, 0, 0, 0, 0, 0, 0, 0, 0, 0, 0, 0, 0, 0, 0, 0, 0, 0, 1, 0, 0, 0, 0, 0, 1, 1, 0, 0, 0, 0, 1, 0, 0, 0, 0, 0, 0, 0, 0, 0, 1, 0, 0, 0, 0, 0, 1, 0, 0, 0, 0, 0, 1, 0, 1, 0, 0, 0, 0, 1, 0, 0, 0, 0, 0, 0, 0, 0, 0, 0, 0, 0, 0, 1, 0, 0, 0, 0, 0, 0, 0, 0, 0, 0, 0, 0, 0, 0, 0, 0, 1, 0, 1, 0, 0, 0, 1, 0, 0, 1, 0, 0, 0, 0, 0, 0, 0, 0, 0, 0, 0, 1, 0, 0, 0, 0, 0, 0, 0, 0, 0, 0, 0, 0, 0, 0, 0, 0, 0, 0, 0, 0, 0, 0, 0, 0, 0, 0, 0, 0, 0, 0, 0, 0, 0, 0, 1, 1, 1, 0, 0, 0, 0, 1, 0, 0, 0, 0, 0, 0, 1, 0, 0, 1, 0, 0, 1, 1, 0, 0, 0, 0, 1, 1, 0, 0, 0, 0, 0, 0, 0, 1, 0, 0, 1, 0, 0, 0, 0, 0, 1, 0, 0, 0, 0, 1, 0, 0, 0, 0, 0, 0, 0, 0, 0, 0, 0, 0, 0, 1, 0, 0, 0, 0, 0, 0, 0, 0, 0, 0, 1, 0, 1, 0, 1, 0, 1, 0, 0, 0, 0, 1, 1, 0, 0, 0, 0, 0, 1, 0, 0, 1, 1, 0, 0, 1, 0, 0, 0, 0, 0, 0, 1, 0, 0, 0, 0, 0, 0, 0, 0, 0, 0, 0, 0, 0, 0, 0, 0, 0, 0, 1, 0, 0, 1, 0, 0, 0, 0, 0, 0, 0, 0, 0, 0, 0, 0, 0, 0, 0, 0, 0, 0, 0, 0, 0, 0, 0, 0, 0, 0, 0, 0, 0, 0, 1, 1, 0, 0, 0, 0, 0, 0, 0, 1, 1, 1, 0, 0, 0, 0, 0, 0, 0, 0, 0, 1, 0, 0, 0, 1, 0, 0, 0, 1, 0, 0, 1, 1, 1, 0, 0, 0, 1, 0, 0, 1, 1, 0, 0, 1, 0, 1, 0, 0, 0, 1, 0, 0, 0, 0, 0, 1, 0, 1, 0, 0, 0, 0, 0, 1, 0, 1, 0, 0, 0, 0, 0, 1, 0, 0, 0, 0, 0, 0, 0, 0, 0, 0, 0, 1, 0, 0, 0, 0, 1, 1, 0, 1, 0, 1, 0, 0, 0, 1, 0, 0, 0, 0, 0, 0, 0, 0, 0, 1, 0, 0, 0, 0, 0, 0, 1, 0, 1, 0, 0, 0, 0, 0, 0, 0, 0, 0, 0, 0, 1, 0, 1, 1, 0, 0, 0, 0, 0, 0, 0, 1, 0, 1, 0, 0, 0, 0, 0, 0, 0, 0, 0, 0, 0, 0, 0, 0, 0, 0, 1, 0, 0, 0, 0, 0, 0, 0, 0, 0, 0, 0, 0, 0, 1, 0, 0, 0, 0, 1, 0, 1, 0, 1, 0, 0, 0, 0, 0, 0, 0, 0, 1, 0, 0, 0, 0, 0, 1, 0, 0, 0, 0, 1, 0, 0, 0, 0, 0, 0, 0, 0, 0, 1, 0, 0, 0, 0, 0, 0, 0, 0, 1, 0, 0, 0, 0, 0, 0, 0, 0, 0, 0, 0, 0, 0, 0, 0, 0, 0, 0, 1, 0, 0, 0, 1, 0, 0, 0, 0, 0, 0, 1, 1, 1, 0, 0, 0, 0, 0, 0, 0, 0, 0, 0, 0, 0, 0, 1, 0, 0, 1, 0, 0, 0, 0, 0, 1, 0, 0, 0, 0, 0, 0, 0, 0, 0, 0, 0, 0, 1, 1, 0, 0, 0, 0, 1, 0, 1, 1, 1, 1, 0, 1, 0, 0, 0, 0, 0, 0, 0, 0, 0, 0, 0, 0, 0, 0, 0, 0, 0, 0, 0, 0, 0, 0, 0, 0, 0, 0, 0, 0, 0, 0, 0, 0, 0, 0, 1, 0, 0, 0, 0, 0, 0, 0, 0, 0, 0, 0, 0, 0, 0, 1, 0, 0, 1, 0, 0, 0, 1, 0, 0, 0, 0, 0, 0, 0, 0, 0, 1, 0, 0, 1, 0, 0, 0, 0, 0, 0, 0, 1, 0, 0, 0, 1, 0, 0, 0, 0, 0, 0, 0, 0, 1, 0, 0, 1, 0, 0, 0, 1, 0, 0, 0, 0, 0, 0, 0, 0, 0, 0, 0, 1, 1, 0, 0, 0, 0, 1, 0, 0, 0, 0, 0, 0, 0, 0, 0, 1, 0, 0, 0, 0, 0, 0, 0, 0, 0, 0, 0, 0, 0, 1, 0, 0, 0, 0, 0, 0, 0, 0, 0, 0, 0, 0, 0, 0, 1, 0, 0, 0, 0, 0, 0, 0, 1, 0, 0, 0, 0, 1, 0, 0, 0, 0, 0, 0, 0, 0, 0, 0, 0, 1, 0, 0, 0, 0, 1, 0, 1, 0, 0, 1, 0, 0, 0, 0, 0, 0, 0, 0, 0, 1, 0, 0, 0, 0, 0, 0, 1, 0, 1, 0, 0, 0, 0, 0, 0, 0, 0, 0, 0, 0, 1, 0, 1, 0, 0, 0, 0, 1, 0, 0, 0, 0, 0, 0, 0, 0, 0, 0, 1, 0, 0, 0, 0, 0, 0, 0, 0, 0, 0, 0, 0, 0, 0, 0, 0, 1, 0, 0, 0, 0, 0, 0, 1, 0, 0, 0, 0, 1, 1, 0, 0, 0, 0, 0, 0, 0, 0, 1, 1, 0, 0, 0, 0, 0, 0, 1, 1, 1, 0, 1, 1, 0, 0, 0, 0, 0, 0, 0, 0, 0, 0, 0, 0, 0, 0, 0, 0, 0, 0, 0, 0, 0, 1, 0, 0, 1, 1, 0, 0, 0, 0, 0, 0, 0, 0, 1, 0, 0, 1, 1, 1, 0, 0, 1, 0, 0, 0, 0, 0, 0, 0, 0, 0, 0, 0, 0, 1, 1, 0, 0, 0, 0, 0, 0, 0, 0, 1, 0, 0, 0, 0, 0, 0, 0, 0, 0, 0, 0, 0, 0, 0, 1, 1, 0, 0, 0, 0, 1, 0, 0, 1, 0, 0, 0, 0, 0, 0, 1, 0, 0, 1, 0, 0, 0, 0, 0, 0, 0, 0, 0, 0, 1, 0, 0, 0, 0, 0, 0, 0, 1, 0, 1, 0, 1, 0, 0, 1, 0, 0, 0, 0, 0, 0, 0, 0, 0, 0, 0, 0, 0, 0, 0, 1, 0, 0, 0, 0, 0, 0, 0, 0, 0, 0, 0, 0, 1, 1, 0, 0, 0, 1, 0, 0, 0, 1, 0, 0, 1, 1, 0, 0, 0, 0, 0, 0, 0, 0, 0, 0, 0, 0, 0, 0, 1, 0, 0, 0, 0, 0, 0, 0, 0, 1, 0, 0, 0, 0, 0, 0, 0, 0, 0, 0, 0, 0, 0, 0, 0, 0, 1, 0, 0, 0, 0, 0, 0, 0, 0, 1, 0, 0, 0, 0, 0, 0, 0, 1, 0, 1, 0, 0, 0, 0, 0, 0, 0, 0, 0, 1, 0, 0, 1, 1, 0, 0, 0, 0, 0, 0, 1, 1, 0, 0, 0, 0, 0, 0, 0, 0, 0, 1, 1, 1, 1, 0, 0, 1, 0, 0, 0, 0, 0, 0, 1, 0, 0, 1, 0, 0, 0, 0, 0, 0, 0, 0, 0, 1, 0, 0, 1, 0, 0, 0, 0, 0, 0, 0, 0, 0, 0, 0, 0, 0, 0, 1, 0, 0, 0, 1, 0, 0, 0, 0, 0, 0, 0, 1, 0, 0, 0, 1, 0, 0, 0, 0, 0, 0, 0, 0, 0, 0, 0, 0, 0, 0, 1, 0, 1, 0, 0, 0, 0, 0, 1, 0, 0, 0, 0, 1, 0, 1, 0, 0, 1, 0, 0, 1, 0, 1, 0, 0, 0, 0, 0, 0, 0, 0, 0, 0, 0, 0, 0, 0, 0, 0, 0, 0, 0, 1, 0, 0, 0, 0, 0, 1, 1, 1, 0, 0, 0, 0, 1, 0, 1, 0, 0, 1, 0, 0, 0, 0, 1, 0, 0, 0, 0, 0, 0, 0, 0, 0, 0, 0, 0, 0, 0, 0, 1, 0, 0, 0, 0, 0, 1, 0, 1, 0, 0, 0, 0, 0, 1, 0, 0, 1, 0, 1, 0, 1, 1, 0, 0, 0, 1, 1, 0, 0, 0, 0, 0, 1, 1, 0, 0, 0, 0, 0, 0, 0, 0, 1, 0, 1, 0, 0, 0, 0, 1, 0, 0, 1, 0, 0, 0, 0, 1, 0, 0, 0, 0, 0, 0, 0, 0, 0, 0, 0, 1, 0, 0, 0, 0, 0, 0, 0, 0, 0, 0, 1, 0, 0, 1, 0, 0, 0, 0, 1, 0, 1, 0, 0, 0, 0, 0, 0, 0, 0, 0, 0, 0, 0, 0, 0, 0, 0, 0, 0, 0, 0, 0, 0, 0, 0, 1, 0, 0, 0, 0, 1, 0, 1, 0, 0, 1, 0, 0, 0, 1, 0, 1, 0, 0, 0, 1, 1, 0, 1, 0, 0, 0, 0, 0, 0, 0, 0, 0, 0, 0, 0, 0, 1, 0, 0, 1, 1, 0, 0, 0, 0, 0, 0, 0, 0, 0, 1, 0, 1, 0, 0, 1, 0, 0, 0, 0, 0, 0, 0, 1, 0, 0, 1, 0, 0, 0, 0, 0, 0, 0, 0, 0, 0, 0, 0, 0, 0, 0, 0, 0, 1, 1, 0, 0, 0, 0, 0, 0, 1, 0, 0, 0, 0, 0, 0, 0, 0, 0, 0, 0, 0, 0, 1, 0, 0, 0, 0, 0, 0, 0, 0, 1, 0, 0, 0, 0, 0, 0, 0, 0, 0, 0, 0, 0, 0, 0, 0, 0, 0, 0, 0, 0, 0, 0, 0, 0, 1, 0, 1, 0, 0, 0, 0, 0, 1, 0, 1, 1, 1, 0, 0, 0, 0, 0, 1, 0, 0, 1, 1, 0, 0, 0, 1, 1, 0, 1, 0, 0, 0, 0, 0, 1, 1, 0, 0, 0, 0, 0, 1, 0, 0, 1, 0, 0, 1, 0, 0, 0, 0, 0, 0, 1, 0, 0, 0, 1, 0, 0, 0, 0, 0, 0, 0, 1, 1, 0, 0, 0, 1, 0, 0, 0, 0, 0, 0, 0, 0, 0, 0, 0, 0, 1, 0, 0, 1, 1, 0, 0, 0, 0, 0, 0, 0, 0, 0, 0, 0, 1, 1, 0, 0, 0, 0, 0, 0, 0, 0, 0, 0, 0, 0, 0, 1, 0, 0, 0, 0, 0, 1, 1, 0, 0, 0, 0, 0, 0, 0, 0, 0, 0, 0, 1, 0, 0, 0, 0, 0, 0, 0, 0, 1, 0, 0, 0, 0, 0, 0, 0, 0, 1, 1, 0, 0, 0, 0, 0, 0, 0, 0, 0, 0, 1, 0, 0, 0, 0, 0, 0, 0, 0, 0, 1, 0, 0, 0, 0, 0, 1, 0, 1, 1, 0, 0, 0, 0, 0, 0, 1, 0, 0, 0, 1, 1, 0, 0, 1, 1, 1, 1, 0, 0, 0, 0, 0, 0, 0, 0, 0, 0, 0, 0, 0, 1, 0, 0, 0, 1, 0, 1, 0, 0, 1, 0, 0, 0, 0, 0, 1, 1, 0, 0, 0, 0, 0, 1, 0, 0, 1, 0, 0, 0, 0, 0, 1, 1, 1, 0, 0, 1, 0, 0, 1, 0, 1, 0, 0, 0, 0, 0, 0, 0, 0, 0, 0, 1, 0, 1, 1, 0, 0, 0, 0, 0, 1, 0, 0, 0, 0, 0, 0, 0, 0, 0, 0, 0, 0, 0, 0, 0, 0, 0, 0, 0, 1, 0, 0, 0, 1, 0, 0, 0, 0, 0, 1, 1, 0, 0, 0, 0, 1, 1, 0, 1, 0, 0, 0, 0, 0, 0, 0, 0, 0, 0, 1, 0, 0, 0, 0, 0, 0, 1, 0, 1, 0, 0, 0, 0, 1, 0, 0, 0, 0, 0, 0, 0, 0, 0, 0, 0, 0, 0, 0, 0, 0, 0, 0, 0, 0, 1, 0, 0, 0, 0, 0, 0, 1, 0, 1, 0, 0, 0, 0, 1, 0, 0, 0, 1, 0, 1, 1, 1, 0, 0, 1, 1, 0, 0, 0, 0, 0, 1, 0, 0, 1, 1, 0, 0, 0, 0, 0, 0, 0, 1, 1, 0, 0, 1, 0, 0, 0, 0, 0, 0, 1, 0, 0, 0, 1, 0, 0, 1, 0, 0, 0, 0, 0, 0, 0, 0, 0, 0, 0, 0, 0, 0, 0, 0, 1, 0, 1, 0, 1, 0, 1, 0, 1, 0, 0, 0, 1, 0, 0, 0, 0, 0, 0, 0, 0, 0, 0, 1, 1, 0, 0, 0, 0, 0, 0, 1, 0, 0, 0, 0, 0, 0, 0, 1, 0, 0, 0, 0, 1, 0, 0, 0, 0, 0, 0, 0, 0, 0, 0, 0, 0, 0, 1, 0, 0, 0, 0, 0, 1, 0, 0, 0, 0, 0, 0, 0, 0, 1, 0, 0, 0, 0, 1, 0, 0, 0, 0, 1, 0, 0, 0, 0, 0, 0, 0, 0, 0, 0, 0, 1, 0, 1, 0, 1, 0, 1, 0, 1, 0, 0, 0, 0, 0, 0, 0, 0, 0, 0, 1, 0, 0, 1, 1, 1, 1, 0, 0, 0, 0, 0, 1, 0, 0, 0, 0, 1, 0, 1, 0, 0, 1, 0, 0, 1, 0, 0, 1, 0, 0, 0, 0, 1, 0, 0, 0, 0, 0, 0, 0, 0, 0, 0, 0, 0, 0, 0, 1, 0, 1, 0, 0, 0, 0, 0, 0, 0, 0, 0, 0, 0, 0, 0, 0, 0, 0, 1, 0, 0, 0, 1, 0, 0, 0, 0, 0, 0, 0, 0, 0, 1, 0, 0, 1, 0, 0, 1, 1, 0, 0, 0, 0, 0, 0, 0, 1, 0, 0, 1, 0, 1, 0, 0, 0, 0, 1, 0, 0, 0, 0, 0, 1, 0, 0, 0, 0, 0, 0, 0, 0, 0, 0, 0, 0, 0, 0, 1, 0, 0, 0, 1, 0, 1, 1, 1, 0, 0, 0, 0, 0, 1, 0, 0, 0, 0, 0, 1, 0, 0, 0, 1, 0, 0, 0, 0, 0, 0, 0, 1, 0, 0, 0, 0, 0, 0, 0, 0, 0, 1, 1, 1, 0, 1, 0, 0, 0, 0, 1, 0, 0, 1, 0, 0, 1, 0, 0, 0, 0, 0, 1, 0, 0, 0, 0, 0, 0, 0, 0, 0, 0, 0, 0, 0, 0, 0, 0, 0, 0, 0, 0, 0, 0, 0, 0, 0, 0, 0, 0, 0, 0, 1, 0, 0, 0, 0, 0, 1, 0, 0, 0, 0, 0, 0, 0, 1, 0, 0, 0, 0, 0, 0, 0, 1, 0, 0, 1, 0, 0, 0, 0, 0, 0, 0, 0, 0, 0, 0, 1, 0, 0, 0, 0, 0, 0, 0, 0, 0, 0, 1, 0, 1, 0, 0, 0, 0, 0, 0, 0, 0, 0, 0, 0, 1, 0, 0, 0, 1, 0, 1, 0, 0, 0, 0, 0, 0, 0, 0, 0, 0, 0, 0, 0, 0, 0, 0, 0, 0, 0, 1, 0, 0, 0, 0, 0, 0, 0, 0, 0, 0, 0, 0, 0, 1, 0, 0, 0, 1, 0, 0, 0, 1, 1, 0, 0, 0, 0, 0, 1, 0, 0, 0, 0, 1, 0, 0, 0, 0, 0, 1, 0, 0, 1, 0, 0, 0, 0, 0, 1, 1, 0, 0, 0, 1, 0, 0, 0, 0, 0, 0, 0, 0, 1, 0, 0, 0, 0, 0, 0, 0, 0, 0, 0, 0, 0, 1, 0, 0, 0, 0, 1, 0, 0, 0, 0, 0, 0, 0, 0, 0, 0, 0, 0, 0, 0, 1, 0, 0, 1, 0, 1, 0, 1, 0, 0, 1, 0, 0, 0, 1, 0, 1, 0, 0, 0, 0, 0, 0, 0, 0, 1, 0, 0, 1, 0, 0, 1, 0, 0, 1, 0, 0, 0, 0, 1, 1, 0, 0, 0, 0, 0, 0, 0, 0, 0, 0, 1, 1, 0, 0, 0, 0, 0, 1, 0, 0, 0, 0, 0, 1, 1, 0, 0, 0, 0, 0, 0, 0, 1, 0, 1, 0, 1, 0, 0, 0, 0, 0, 0, 1, 0, 0, 1, 0, 0, 0, 0, 0, 0, 0, 0, 0, 0, 0, 0, 0, 0, 0, 0, 1, 1, 1, 1, 0, 0, 0, 0, 0, 1, 1, 0, 0, 0, 0, 0, 0, 1, 0, 0, 1, 0, 0, 0, 1, 0, 0, 0, 0, 0, 0, 0, 0, 0, 0, 0, 0, 0, 0, 0, 0, 1, 0, 0, 0, 0, 0, 0, 0, 0, 0, 1, 0, 0, 0, 0, 0, 0, 1, 1, 0, 0, 0, 0, 0, 0, 1, 1, 0, 0, 0, 0, 0, 1, 1, 0, 1, 0, 0, 0, 0, 0, 0, 0, 0, 0, 1, 0, 0, 0, 1, 0, 0, 0, 0, 0, 0, 0, 1, 0, 1, 0, 0, 0, 0, 0, 0, 1, 0, 0, 0, 0, 0, 0, 0, 0, 0, 0, 1, 0, 0, 0, 1, 0, 0, 0, 0, 0, 0, 0, 0, 0, 0, 0, 0, 0, 0, 0, 0, 1, 0, 1, 0, 0, 0, 0, 0, 0, 1, 0, 1, 1, 0, 0, 0, 1, 0, 0, 0, 0, 0, 0, 0, 0, 0, 0, 0, 0, 0, 0, 1, 0, 1, 0, 1, 0, 1, 0, 0, 1, 0, 0, 0, 0, 0, 0, 0, 0, 0, 1, 1, 0, 0, 0, 0, 0, 1, 1, 0, 0, 0, 1, 0, 0, 0, 0, 1, 0, 0, 0, 0, 0, 1, 0, 1, 0, 1, 1, 0, 0, 0, 1, 0, 1, 0, 0, 0, 0, 0, 0, 0, 1, 1, 0, 1, 0, 0, 1, 0, 0, 0, 0, 0, 0, 0, 0, 0, 1, 0, 0, 0, 0, 0, 0, 0, 0, 0, 0, 0, 0, 0, 0, 0, 0, 0, 0, 1, 0, 0, 0, 0, 0, 0, 0, 0, 1, 0, 0, 1, 1, 0, 0, 0, 0, 0, 0, 0, 0, 0, 0, 0, 0, 0, 0, 0, 0, 0, 1, 0, 1, 0, 0, 0, 1, 1, 0, 0, 0, 0, 1, 0, 0, 1, 0, 0, 0, 0, 0, 1, 1, 1, 0, 1, 1, 0, 0, 0, 1, 0, 0, 0, 0, 0, 0, 0, 0, 0, 0, 0, 0, 1, 1, 0, 0, 0, 0, 1, 0, 0, 0, 0, 0, 1, 0, 0, 0, 1, 1, 0, 1, 0, 0, 1, 0, 0, 0, 0, 1, 0, 1, 0, 0, 1, 0, 0, 0, 1, 0, 0, 0, 1, 0, 0, 0, 0, 0, 0, 0, 0, 0, 0, 0, 0, 0, 0, 1, 0, 0, 0, 0, 1, 0, 1, 0, 0, 1, 0, 1, 0, 1, 0, 0, 0, 0, 0, 0, 0, 0, 0, 0, 0, 0, 0, 0, 0, 0, 1, 0, 1, 0, 0, 1, 0, 0, 0, 0, 0, 1, 0, 0, 0, 0, 0, 0, 0, 0, 0, 0, 0, 0, 1, 0, 0, 1, 0, 0, 0, 0, 0, 0, 1, 0, 0, 0, 0, 1, 0, 0, 0, 0, 0, 0, 0, 1, 0, 0, 1, 0, 0, 0, 0, 0, 0, 0, 0, 0, 0, 1, 0, 0, 0, 1, 0, 0, 0, 1, 0, 1, 0, 1, 0, 0, 0, 0, 0, 0, 0, 0, 0, 0, 0, 0, 0, 0, 0, 0, 0, 0, 0, 1, 0, 0, 0, 1, 0, 1, 1, 0, 0, 0, 0, 0, 0, 0, 0, 0, 0, 0, 0, 0, 0, 1, 0, 0, 1, 0, 0, 0, 0, 0, 0, 0, 0, 0, 0, 1, 0, 0, 0, 0, 0, 0, 0, 0, 0, 0, 1, 0, 0, 0, 0, 0, 0, 0, 0, 1, 0, 0, 1, 0, 0, 0, 0, 1, 0, 0, 0, 0, 0, 0, 0, 0, 0, 1, 0, 0, 1, 0, 0, 0, 0, 0, 0, 0, 0, 0, 0, 0, 0, 0, 0, 0, 0, 0, 0, 0, 0, 0, 0, 0, 0, 0, 0, 0, 0, 0, 0, 0, 1, 0, 0, 1, 0, 0, 0, 0, 0, 0, 0, 0, 0, 1, 0, 0, 0, 0, 0, 1, 1, 0, 0, 0, 1, 0, 1, 0, 0, 0, 1, 0, 0, 0, 0, 1, 0, 0, 0, 0, 0, 0, 0, 0, 0, 0, 1, 0, 0, 0, 1, 0, 1, 0, 0, 0, 0, 0, 0, 1, 0, 0, 0, 0, 1, 0, 0, 0, 0, 0, 0, 0, 0, 0, 0, 0, 1, 0, 0, 0, 1, 1, 0, 0, 0, 1, 1, 1, 0, 0, 0, 0, 0, 0, 1, 0, 0, 0, 1, 1, 0, 0, 0, 0, 0, 0, 0, 0, 0, 1, 0, 0, 0, 0, 0, 0, 0, 0, 0, 1, 0, 0, 0, 0, 1, 0, 0, 0, 0, 0, 0, 1, 0, 0, 0, 0, 0, 0, 0, 0, 0, 0, 0, 0, 1, 0, 0, 0, 0, 0, 0, 0, 0, 0, 0, 0, 0, 0, 0, 0, 0, 0, 0, 0, 0, 1, 1, 0, 1, 0, 1, 1, 0, 0, 1, 0, 0, 0, 0, 0, 0, 0, 0, 0, 0, 0, 1, 0, 0, 0, 1, 1, 0, 0, 1, 0, 0, 0, 0, 0, 0, 0, 0, 1, 0, 0, 0, 0, 0, 0, 0, 1, 1, 0, 0, 0, 0, 0, 1, 1, 1, 1, 0, 0, 0, 0, 0, 0, 1, 0, 1, 0, 0, 1, 0, 1, 1, 0, 1, 0, 1, 0, 0, 0, 1, 0, 0, 0, 0, 0, 0, 1, 0, 0, 0, 0, 0, 0, 0, 0, 0, 0, 0, 0, 0, 0, 0, 0, 0, 0, 0, 0, 0, 0, 0, 0, 0, 0, 0, 0, 1, 0, 0, 0, 0, 0, 0, 0, 0, 0, 0, 0, 0, 0, 1, 0, 0, 1, 0, 0, 0, 0, 0, 0, 0, 0, 0, 0, 0, 0, 1, 0, 0, 1, 0, 0, 0, 1, 0, 1, 0, 0, 0, 0, 0, 0, 1, 0, 0, 0, 0, 0, 0, 1, 1, 0, 0, 0, 0, 0, 0, 0, 1, 0, 1, 0, 0, 0, 1, 0, 1, 0, 0, 0, 0, 1, 1, 0, 0, 0, 0, 1, 0, 0, 0, 0, 0, 0, 0, 0, 0, 1, 0, 1, 0, 0, 0, 0, 0, 1, 0, 0, 0, 0, 0, 1, 1, 0, 0, 0, 0, 0, 0, 1, 0, 0, 0, 0, 0, 0, 0, 0, 1, 0, 0, 0, 1, 0, 0, 0, 0, 0, 0, 0, 0, 0, 0, 0, 0, 1, 0, 0, 0, 0, 0, 1, 1, 0, 0, 0, 1, 0, 0, 1, 1, 0, 0, 0, 0, 0, 0, 1, 0, 0, 0, 0, 1, 0, 1, 0, 0, 0, 0, 1, 0, 0, 0, 0, 0, 1, 0, 0, 0, 0, 0, 0, 0, 1, 1, 0, 0, 0, 0, 0, 1, 0, 0, 0, 0, 0, 0, 0, 0, 0, 0, 0, 0, 0, 0, 0, 0, 0, 0, 0, 1, 1, 0, 1, 0, 1, 1, 0, 0, 1, 0, 0, 0, 0, 0, 1, 1, 0, 1, 0, 0, 0, 1, 0, 1, 0, 0, 1, 0, 0, 0, 0, 1, 0, 0, 0, 0, 0, 0, 0, 0, 1, 0, 0, 0, 1, 0, 0, 1, 0, 0, 0, 0, 0, 0, 0, 0, 0, 0, 0, 0, 0, 0, 0, 1, 1, 0, 0, 0, 0, 0, 0, 1, 0, 0, 0, 0, 1, 0, 1, 1, 0, 1, 0, 0, 0, 1, 1, 0, 0, 0, 1, 1, 1, 1, 0, 0, 0, 0, 0, 0, 0, 0, 0, 0, 1, 0, 0, 0, 0, 0, 0, 0, 0, 1, 0, 1, 1, 1, 0, 0, 0, 0, 0, 0, 0, 1, 0, 0, 0, 0, 0, 1, 0, 0, 0, 0, 0, 0, 0, 0, 0, 1, 0, 0, 0, 1, 0, 0, 0, 0, 0, 0, 1, 0, 0, 0, 0, 0, 0, 0, 0, 0, 1, 0, 0, 0, 1, 0, 0, 0, 0, 0, 0, 0, 0, 0, 0, 0, 0, 1, 0, 1, 0, 0, 0, 0, 0, 0, 0, 1, 0, 0, 0, 0, 0, 0, 0, 0, 1, 0, 0, 0, 0, 1, 0, 0, 0, 0, 1, 0, 0, 0, 0, 0, 0, 0, 0, 0, 0, 0, 0, 0, 0, 0, 0, 0, 0, 0, 1, 0, 0, 0, 1, 0, 0, 0, 0, 0, 1, 1, 1, 0, 1, 0, 0, 0, 0, 0, 0, 0, 1, 0, 0, 0, 0, 1, 0, 0, 0, 0, 0, 0, 0, 0, 0, 0, 0, 0, 0, 1, 0, 0, 0, 0, 0, 0, 0, 0, 0, 0, 1, 0, 0, 0, 0, 0, 1, 0, 0, 1, 0, 0, 1, 0, 0, 0, 0, 0, 0, 0, 0, 1, 0, 1, 0, 0, 0, 0, 0, 0, 1, 0, 0, 0, 0, 0, 0, 0, 0, 0, 0, 1, 0, 0, 0, 0, 0, 0, 1, 0, 1, 0, 0, 0, 0, 0, 0, 0, 0, 0, 1, 0, 0, 0, 1, 0, 0, 1, 0, 0, 0, 0, 0, 1, 1, 1, 0, 0, 0, 1, 0, 0, 1, 0, 1, 0, 0, 0, 0, 1, 0, 0, 1, 0, 0, 1, 1, 1, 1, 0, 0, 0, 0, 1, 1, 0, 0, 0, 0, 0, 0, 0, 1, 0, 1, 0, 1, 0, 0, 0, 0, 0, 0, 0, 1, 1, 0, 1, 1, 0, 0, 1, 1, 0, 1, 0, 0, 0, 1, 0, 0, 0, 0, 0, 0, 0, 0, 0, 0, 0, 0, 0, 1, 0, 0, 0, 0, 0, 0, 0, 0, 0, 1, 1, 0, 0, 0, 0, 0, 0, 0, 0, 0, 0, 0, 0, 0, 0, 0, 1, 0, 0, 0, 0, 1, 0, 0, 0, 1, 0, 1, 0, 0, 0, 0, 0, 0, 0, 0, 1, 0, 0, 0, 0, 1, 0, 0, 0, 0, 0, 1, 0, 0, 0, 0, 0, 0, 0, 0, 0, 0, 0, 0, 0, 0, 0, 0, 0, 1, 0, 0, 0, 0, 0, 0, 0, 0, 0, 0, 0, 0, 0, 0, 0, 0, 0, 0, 0, 0, 1, 0, 1, 0, 0, 0, 1, 1, 1, 0, 0, 1, 0, 0, 0, 0, 0, 0, 0, 0, 0, 1, 1, 0, 0, 1, 0, 0, 0, 0, 0, 1, 0, 0, 0, 0, 0, 0, 0, 0, 0, 0, 0, 0, 0, 0, 0, 0, 1, 0, 0, 0, 0, 0, 0, 0, 0, 1, 1, 0, 0, 0, 0, 0, 0, 0, 1, 0, 1, 0, 0, 1, 0, 0, 0, 0, 1, 0, 0, 0, 0, 0, 1, 0, 0, 0, 1, 0, 0, 0, 0, 0, 0, 0, 0, 1, 0, 0, 0, 0, 1, 0, 0, 1, 0, 0, 0, 0, 0, 0, 0, 1, 0, 0, 0, 0, 0, 0, 0, 0, 0, 0, 1, 1, 0, 1, 0, 1, 0, 0, 1, 0, 0, 0, 0, 0, 0, 0, 0, 0, 0, 0, 0, 0, 0, 0, 0, 0, 1, 1, 1, 1, 0, 0, 0, 0, 1, 0, 0, 0, 0, 1, 0, 0, 0, 0, 0, 0, 0, 1, 0, 0, 0, 0, 0, 0, 0, 0, 1, 0, 0, 1, 0, 0, 0, 0, 0, 0, 0, 0, 0, 0, 0, 0, 0, 0, 0, 0, 1, 0, 0, 0, 0, 0, 0, 1, 0, 0, 0, 1, 1, 1, 0, 0, 0, 0, 0, 0, 0, 0, 0, 1, 1, 1, 0, 0, 0, 0, 1, 0, 1, 0, 0, 0, 0, 0, 0, 0, 0, 0, 1, 0, 0, 0, 0, 0, 0, 0, 0, 0, 0, 0, 0, 0, 0, 0, 0, 0, 0, 0, 0, 0, 0, 1, 0, 1, 0, 0, 0, 0, 1, 1, 0, 0, 0, 0, 0, 0, 0, 0, 0, 0, 0, 1, 0, 1, 0, 0, 0, 0, 0, 1, 0, 0, 1, 0, 0, 0, 1, 0, 0, 0, 0, 0, 0, 0, 0, 0, 0, 0, 0, 0, 0, 0, 0, 0, 1, 0, 0, 0, 0, 0, 0, 0, 0, 1, 0, 0, 0, 0, 0, 0, 0, 0, 0, 0, 1, 0, 0, 0, 0, 0, 0, 0, 0, 1, 0, 0, 0, 1, 0, 0, 0, 0, 0, 0, 0, 0, 0, 0, 0, 0, 0, 1, 0, 0, 0, 0, 0, 1, 1, 0, 0, 0, 0, 0, 1, 0, 1, 0, 0, 0, 0, 0, 0, 0, 1, 0, 0, 0, 0, 0, 0, 0, 0, 0, 0, 0, 0, 0, 1, 1, 1, 0, 0, 0, 0, 0, 0, 1, 0, 0, 0, 0, 0, 0, 0, 0, 0, 0, 0, 1, 0, 0, 0, 0, 1, 0, 0, 0, 0, 0, 0, 1, 0, 0, 0, 0, 0, 0, 0, 0, 0, 1, 0, 0, 0, 0, 0, 0, 1, 0, 1, 0, 0, 1, 0, 0, 1, 0, 0, 0, 1, 0, 0, 0, 0, 0, 0, 0, 0, 0, 0, 0, 0, 1, 0, 1, 0, 0, 1, 1, 0, 1, 0, 0, 0, 0, 0, 0, 1, 0, 0, 0, 0, 0, 0, 0, 0, 0, 0, 0, 0, 0, 0, 0, 0, 0, 0, 0, 0, 1, 0, 1, 0, 1, 0, 0, 0, 0, 0, 0, 0, 0, 0, 1, 0, 0, 0, 1, 0, 0, 0, 1, 0, 0, 0, 1, 0, 1, 0, 0, 0, 0, 1, 0, 0, 1, 0, 0, 0, 0, 0, 0, 0, 0, 0, 0, 0, 0, 0, 1, 1, 0, 0, 1, 0, 0, 0, 0, 0, 0, 0, 0, 0, 1, 0, 0, 0, 0, 0, 0, 1, 0, 0, 1, 0, 1, 0, 0, 0, 0, 0, 0, 1, 0, 0, 1, 0, 0, 0, 1, 0, 0, 0, 0, 0, 0, 1, 1, 0, 0, 1, 0, 0, 0, 1, 0, 0, 0, 0, 0, 0, 1, 1, 0, 0, 0, 1, 0, 0, 1, 0, 0, 0, 0, 1, 0, 0, 0, 0, 0, 0, 0, 0, 1, 0, 0, 0, 1, 0, 0, 0, 0, 0, 0, 0, 0, 0, 0, 0, 0, 0, 0, 0, 0, 0, 0, 0, 0, 0, 0, 0, 0, 0, 1, 0, 1, 1, 0, 0, 0, 0, 1, 1, 1, 0, 0, 0, 0, 0, 0, 0, 0, 0, 0, 0, 0, 0, 1, 0, 0, 0, 1, 0, 1, 0, 0, 0, 0, 0, 0, 0, 0, 0, 0, 0, 0, 0, 0, 0, 0, 1, 0, 0, 0, 1, 0, 0, 0, 0, 0, 0, 0, 0, 0, 0, 0, 0, 1, 1, 1, 0, 0, 0, 0, 1, 0, 0, 0, 0, 0, 0, 0, 0, 0, 0, 0, 0, 0, 0, 0, 0, 0, 0, 0, 0, 0, 0, 1, 0, 0, 0, 0, 0, 0, 0, 0, 0, 0, 0, 1, 1, 0, 0, 0, 0, 0, 0, 0, 0, 0, 0, 0, 0, 1, 0, 1, 0, 1, 0, 0, 0, 0, 1, 0, 1, 0, 1, 0, 1, 1, 1, 0, 0, 0, 0, 0, 0, 0, 0, 0, 0, 0, 1, 0, 0, 0, 0, 0, 0, 0, 0, 0, 1, 1, 0, 0, 0, 0, 1, 0, 0, 0, 0, 0, 0, 1, 0, 0, 0, 0, 0, 0, 0, 0, 0, 0, 0, 0, 0, 0, 0, 0, 0, 0, 0, 1, 0, 0, 0, 0, 0, 0, 1, 0, 0, 0, 0, 0, 0, 0, 0, 0, 0, 0, 0, 0, 0, 0, 1, 0, 0, 0, 0, 1, 1, 0, 0, 0, 0, 0, 0, 0, 1, 0, 1, 0, 1, 1, 0, 1, 0, 1, 0, 0, 0, 0, 0, 1, 0, 0, 0, 0, 0, 0, 0, 0, 0, 0, 0, 0, 1, 1, 0, 1, 0, 0, 0, 1, 0, 1, 0, 0, 0, 0, 0, 0, 0, 1, 1, 0, 1, 0, 1, 0, 0, 0, 0, 0, 0, 1, 0, 0, 0, 0, 0, 0, 0, 1, 0, 0, 0, 0, 1, 0, 0, 0, 0, 1, 0, 1, 0, 0, 0, 0, 1, 0, 1, 0, 0, 0, 0, 0, 0, 0, 1, 1, 0, 0, 0, 0, 0, 0, 0, 0, 0, 0, 1, 0, 0, 0, 0, 0, 0, 0, 0, 0, 0, 0, 0, 0, 1, 0, 0, 0, 0, 1, 0, 0, 0, 0, 1, 0, 0, 0, 0, 0, 0, 1, 1, 0, 0, 1, 1, 0, 0, 0, 0, 0, 0, 0, 0, 1, 0, 0, 1, 0, 0, 1, 0, 1, 1, 0, 1, 0, 0, 0, 0, 0, 0, 1, 0, 0, 0, 0, 0, 0, 0, 1, 0, 1, 1, 0, 0, 0, 0, 0, 0, 0, 0, 0, 0, 0, 0, 1, 0, 0, 1, 0, 0, 0, 0, 0, 0, 0, 0, 0, 0, 0, 0, 0, 1, 0, 0, 0, 0, 0, 0, 0, 0, 1, 0, 0, 0, 0, 0, 0, 0, 1, 0, 0, 0, 0, 0, 0, 0, 0, 0, 0, 1, 0, 0, 0, 0, 1, 0, 0, 1, 0, 1, 1, 0, 0, 0, 0, 0, 0, 0, 0, 0, 1, 0, 0, 1, 0, 1, 0, 0, 1, 0, 0, 0, 1, 0, 0, 0, 0, 0, 0, 1, 0, 0, 0, 0, 0, 1, 0, 0, 0, 0, 1, 0, 1, 0, 0, 0, 0, 1, 1, 0, 0, 0, 1, 0, 0, 0, 0, 0, 1, 0, 0, 0, 1, 0, 0, 0, 0, 0, 0, 0, 0, 0, 0, 0, 1, 0, 1, 0, 0, 0, 0, 0, 0, 0, 0, 0, 0, 0, 0, 0, 0, 0, 0, 0, 0, 0, 1, 0, 0, 0, 0, 1, 0, 0, 0, 1, 1, 0, 0, 1, 0, 0, 1, 0, 0, 1, 0, 0, 0, 0, 0, 1, 1, 0, 0, 0, 1, 1, 0, 1, 0, 0, 1, 1, 0, 0, 0, 0, 0, 0, 0, 0, 0, 0, 1, 0, 1, 0, 0, 1, 0, 0, 0, 0, 0, 0, 0, 0, 0, 0, 0, 0, 0, 1, 0, 0, 1, 0, 0, 1, 0, 0, 0, 0, 0, 0, 0, 0, 0, 0, 0, 0, 0, 0, 0, 1, 0, 0, 1, 0, 0, 0, 0, 1, 0, 0, 0, 0, 1, 0, 0, 0, 0, 0, 1, 0, 0, 1, 0, 1, 0, 0, 0, 1, 0, 0, 0, 0, 0, 0, 0, 1, 0, 0, 0, 1, 0, 0, 0, 0, 0, 0, 0, 1, 0, 0, 1, 0, 0, 0, 0, 0, 0, 0, 0, 0, 0, 0, 0, 1, 0, 1, 0, 0, 0, 0, 0, 0, 0, 1, 1, 0, 0, 0, 0, 0, 0, 0, 0, 1, 0, 0, 1, 0, 0, 0, 0, 0, 0, 0, 0, 1, 1, 0, 0, 0, 0, 0, 0, 0, 0, 0, 0, 0, 1, 0, 0, 0, 0, 1, 1, 0, 1, 0, 0, 0, 1, 1, 0, 0, 0, 0, 1, 0, 0, 0, 0, 0, 0, 0, 1, 0, 0, 1, 0, 0, 1, 0, 0, 0, 0, 1, 0, 0, 0, 0, 0, 0, 0, 0, 0, 0, 0, 0, 0, 0, 0, 0, 0, 0, 0, 0, 0, 0, 0, 0, 0, 0, 1, 0, 0, 0, 1, 0, 0, 0, 1, 1, 1, 0, 0, 1, 1, 0, 0, 1, 0, 0, 0, 0, 1, 0, 0, 0, 0, 0, 0, 1, 0, 0, 0, 1, 0, 1, 0, 0, 0, 0, 0, 0, 0, 0, 0, 0, 0, 0, 0, 0, 1, 0, 1, 0, 1, 0, 0, 0, 1, 0, 0, 1, 0, 0, 0, 0, 1, 0, 0, 0, 0, 0, 0, 0, 1, 0, 0, 0, 0, 0, 0, 1, 0, 1, 1, 0, 0, 0, 0, 0, 1, 0, 1, 1, 0, 0, 0, 0, 0, 0, 0, 0, 1, 1, 0, 0, 0, 0, 0, 0, 0, 0, 0, 0, 0, 0, 0, 0, 0, 0, 0, 1, 0, 0, 0, 0, 1, 0, 0, 0, 0, 0, 0, 1, 0, 0, 0, 0, 0, 0, 0, 0, 0, 0, 0, 0, 1, 0, 0, 0, 0, 0, 0, 1, 0, 0, 0, 0, 0, 0, 0, 0, 0, 0, 0, 0, 0, 0, 0, 0, 0, 1, 0, 0, 0, 0, 1, 0, 0, 0, 0, 0, 0, 0, 0, 0, 0, 1, 0, 0, 1, 0, 0, 0, 0, 0, 0, 1, 1, 0, 0, 0, 0, 0, 1, 0, 0, 0, 0, 0, 0, 0, 0, 1, 0, 0, 0, 0, 0, 1, 0, 0, 1, 1, 0, 0, 0, 1, 0, 0, 0, 0, 0, 0, 0, 0, 0, 1, 0, 0, 0, 0, 0, 0, 0, 0, 0, 1, 0, 0, 0, 0, 0, 0, 0, 0, 0, 1, 0, 0, 0, 1, 0, 0, 0, 0, 1, 0, 0, 0, 1, 0, 0, 0, 0, 0, 0, 0, 1, 0, 0, 0, 0, 0, 0, 0, 1, 1, 0, 1, 0, 0, 0, 0, 0, 0, 0, 1, 0, 0, 0, 0, 0, 0, 0, 0, 0, 1, 0, 0, 1, 0, 0, 0, 0, 1, 0, 0, 0, 0, 0, 0, 0, 0, 0, 0, 0, 0, 0, 0, 0, 1, 1, 1, 0, 0, 0, 0, 1, 0, 0, 0, 0, 1, 0, 1, 0, 1, 0, 0, 0, 0, 0, 0, 0, 0, 0, 1, 1, 0, 0, 0, 0, 0, 0, 0, 0, 0, 0, 1, 0, 0, 0, 1, 1, 0, 1, 0, 1, 0, 1, 0, 1, 0, 0, 1, 0, 1, 0, 0, 0, 0, 0, 1, 0, 1, 0, 1, 0, 1, 0, 0, 1, 1, 0, 0, 0, 0, 0, 0, 0, 0, 0, 0, 1, 0, 0, 0, 0, 1, 0, 0, 0, 0, 0, 0, 0, 1, 0, 0, 0, 0, 0, 0, 0, 0, 1, 0, 1, 0, 0, 0, 0, 1, 0, 0, 0, 0, 0, 0, 0, 1, 0, 0, 0, 0, 0, 0, 0, 0, 0, 0, 0, 0, 0, 0, 0, 0, 1, 0, 1, 1, 1, 0, 1, 0, 0, 1, 0, 0, 1, 1, 0, 0, 1, 0, 0, 0, 0, 1, 1, 0, 0, 0, 0, 0, 1, 1, 0, 0, 0, 0, 0, 0, 0, 1, 1, 0, 0, 0, 0, 0, 0, 1, 1, 1, 0, 0, 0, 1, 1, 0, 0, 0, 0, 1, 0, 0, 0, 0, 0, 0, 1, 0, 1, 0, 0, 0, 0, 0, 0, 0, 0, 0, 0, 0, 0, 0, 0, 0, 0, 1, 1, 0, 0, 1, 0, 0, 0, 0, 0, 0, 1, 0, 0, 0, 0, 0, 0, 0, 0, 0, 0, 0, 0, 0, 0, 0, 0, 0, 0, 0, 0, 0, 0, 0, 1, 0, 0, 0, 0, 1, 0, 0, 0, 0, 1, 0, 0, 1, 0, 0, 0, 0]\n"
     ]
    }
   ],
   "source": [
    "print(\"SVM Accuracy:\", accuracy_svm)\n",
    "print(\"Naive Bayes Accuracy:\", accuracy_nb)\n",
    "print(\"Logistic Regression Accuracy:\", accuracy_logreg)\n",
    "print(f\"Validation Accuracy: {accuracy * 100:.2f}%\")\n",
    "print(\"BERT Test Predictions:\", test_predictions)"
   ]
  },
  {
   "cell_type": "code",
   "execution_count": 91,
   "id": "9b11130a",
   "metadata": {},
   "outputs": [
    {
     "name": "stdout",
     "output_type": "stream",
     "text": [
      "Length of y_val_binary: 12310\n",
      "Length of predictions_bert: 12310\n"
     ]
    }
   ],
   "source": [
    "# Make sure the lengths of y_val_binary and predictions_bert match\n",
    "print(\"Length of y_val_binary:\", len(y_val_binary))\n",
    "print(\"Length of predictions_bert:\", len(test_predictions))"
   ]
  },
  {
   "cell_type": "code",
   "execution_count": 92,
   "id": "d0020d2a",
   "metadata": {
    "scrolled": true
   },
   "outputs": [],
   "source": [
    "# Calculate precision and recall for SVM model on the validation set\n",
    "precision_svm_val = precision_score(y_val_binary, y_pred_svm_val)\n",
    "recall_svm_val = recall_score(y_val_binary, y_pred_svm_val)"
   ]
  },
  {
   "cell_type": "code",
   "execution_count": 93,
   "id": "db7a24c2",
   "metadata": {},
   "outputs": [],
   "source": [
    "# Calculate precision and recall\n",
    "precision_nb_val = precision_score(y_val_binary, y_pred_nb_val)\n",
    "recall_nb_val = recall_score(y_val_binary, y_pred_nb_val)"
   ]
  },
  {
   "cell_type": "code",
   "execution_count": 94,
   "id": "3b731748",
   "metadata": {},
   "outputs": [],
   "source": [
    "# Calculate precision and recall for Logistic Regression model on the validation set\n",
    "precision_logreg_val = precision_score(y_val_binary, y_pred_logreg_val)\n",
    "recall_logreg_val = recall_score(y_val_binary, y_pred_logreg_val)"
   ]
  },
  {
   "cell_type": "code",
   "execution_count": 95,
   "id": "eb5e81f1",
   "metadata": {},
   "outputs": [],
   "source": [
    "# Calculate precision and recall\n",
    "precision_bert = precision_score(val_labels, val_predictions)\n",
    "recall_bert = recall_score(val_labels, val_predictions)"
   ]
  },
  {
   "cell_type": "code",
   "execution_count": 96,
   "id": "e9aa1df0",
   "metadata": {},
   "outputs": [
    {
     "name": "stdout",
     "output_type": "stream",
     "text": [
      "SVM Precision: 0.0\n",
      "SVM Recall: 0.0\n",
      "Naive Bayes Precision: 0.0\n",
      "Naive Bayes Recall: 0.0\n",
      "Logistic Regression Precision: 0.0\n",
      "Logistic Regression Recall: 0.0\n",
      "BERT Precision: 0.0\n",
      "BERT Recall: 0.0\n"
     ]
    }
   ],
   "source": [
    "# Print precision and recall for each model\n",
    "print(\"SVM Precision:\", precision_svm_val)\n",
    "print(\"SVM Recall:\", recall_svm_val)\n",
    "\n",
    "print(\"Naive Bayes Precision:\", precision_nb_val)\n",
    "print(\"Naive Bayes Recall:\", recall_nb_val)\n",
    "\n",
    "print(\"Logistic Regression Precision:\", precision_logreg_val)\n",
    "print(\"Logistic Regression Recall:\", recall_logreg_val)\n",
    "\n",
    "print(\"BERT Precision:\", precision_bert)\n",
    "print(\"BERT Recall:\", recall_bert)\n"
   ]
  },
  {
   "cell_type": "code",
   "execution_count": 97,
   "id": "b6dd68b2",
   "metadata": {},
   "outputs": [
    {
     "name": "stderr",
     "output_type": "stream",
     "text": [
      "Some weights of BertForSequenceClassification were not initialized from the model checkpoint at bert-base-uncased and are newly initialized: ['classifier.weight', 'classifier.bias']\n",
      "You should probably TRAIN this model on a down-stream task to be able to use it for predictions and inference.\n"
     ]
    }
   ],
   "source": [
    "# Load or initialize the BERT model\n",
    "bert_model = BertForSequenceClassification.from_pretrained('bert-base-uncased', num_labels=2)\n",
    "tokenizer = BertTokenizer.from_pretrained('bert-base-uncased')"
   ]
  },
  {
   "cell_type": "code",
   "execution_count": 98,
   "id": "9901629f",
   "metadata": {},
   "outputs": [
    {
     "name": "stdout",
     "output_type": "stream",
     "text": [
      "The best model is Logistic Regression with accuracy 86.52%.\n"
     ]
    }
   ],
   "source": [
    "# Find the model with the highest accuracy\n",
    "best_model = max([\n",
    "    (\"SVM\", accuracy_svm, svm_model),\n",
    "    (\"Naive Bayes\", accuracy_nb, nb_model),\n",
    "    (\"Logistic Regression\", accuracy_logreg, logreg_model),\n",
    "    (\"BERT\", accuracy, bert_model)\n",
    "], key=lambda x: x[1])\n",
    "\n",
    "best_model_name, best_model_accuracy, best_model_instance = best_model\n",
    "\n",
    "print(f\"The best model is {best_model_name} with accuracy {best_model_accuracy * 100:.2f}%.\")"
   ]
  },
  {
   "cell_type": "code",
   "execution_count": 99,
   "id": "1caa096a",
   "metadata": {},
   "outputs": [],
   "source": [
    "# Calculate confusion matrix\n",
    "conf_matrix = confusion_matrix(val_labels, val_predictions)\n"
   ]
  },
  {
   "cell_type": "code",
   "execution_count": 100,
   "id": "237a32a7",
   "metadata": {},
   "outputs": [
    {
     "name": "stdout",
     "output_type": "stream",
     "text": [
      "Confusion Matrix:\n",
      "[[10337  1973]\n",
      " [    0     0]]\n"
     ]
    }
   ],
   "source": [
    "# Print confusion matrix\n",
    "print(\"Confusion Matrix:\")\n",
    "print(conf_matrix)"
   ]
  },
  {
   "cell_type": "code",
   "execution_count": 101,
   "id": "1c9b080c",
   "metadata": {},
   "outputs": [
    {
     "name": "stdout",
     "output_type": "stream",
     "text": [
      "Classification Report:\n",
      "              precision    recall  f1-score   support\n",
      "\n",
      "           0       1.00      0.84      0.91     12310\n",
      "           1       0.00      0.00      0.00         0\n",
      "\n",
      "    accuracy                           0.84     12310\n",
      "   macro avg       0.50      0.42      0.46     12310\n",
      "weighted avg       1.00      0.84      0.91     12310\n",
      "\n"
     ]
    }
   ],
   "source": [
    "# Print classification report\n",
    "print(\"Classification Report:\")\n",
    "print(classification_report(val_labels, val_predictions))"
   ]
  },
  {
   "cell_type": "code",
   "execution_count": 102,
   "id": "88780268",
   "metadata": {},
   "outputs": [
    {
     "data": {
      "image/png": "[encoded data removed]",
      "text/plain": [
       "<Figure size 800x600 with 1 Axes>"
      ]
     },
     "metadata": {},
     "output_type": "display_data"
    }
   ],
   "source": [
    "fpr, tpr, _ = roc_curve(y_val_binary, val_predictions)\n",
    "roc_auc = auc(fpr, tpr)\n",
    "\n",
    "plt.figure(figsize=(8, 6))\n",
    "plt.plot(fpr, tpr, color='darkorange', lw=2, label='ROC curve (area = {:.2f})'.format(roc_auc))\n",
    "plt.plot([0, 1], [0, 1], color='navy', lw=2, linestyle='--')\n",
    "plt.xlabel('False Positive Rate')\n",
    "plt.ylabel('True Positive Rate')\n",
    "plt.title('Receiver Operating Characteristic (ROC) Curve')\n",
    "plt.legend(loc='lower right')\n",
    "plt.show()"
   ]
  },
  {
   "cell_type": "code",
   "execution_count": null,
   "id": "0382d009",
   "metadata": {},
   "outputs": [],
   "source": []
  },
  {
   "cell_type": "markdown",
   "id": "3087e785",
   "metadata": {},
   "source": [
    "# On the basis of the model evaluation results, the following conclusions can be drawn for our sentiment analysis model:\n",
    "\n",
    "SVM:\n",
    "\n",
    "The accuracy of the SVM model is 86.43%. However, the precision and recall scores are both 0.0, indicating that the model is unable to effectively distinguish between successful and unsuccessful movies.\n",
    "Naive Bayes:\n",
    "\n",
    "Similar to SVM, the Naive Bayes model achieves an accuracy of 86.43%. However, both precision and recall are 0.0, suggesting a lack of effectiveness in predicting successful movies.\n",
    "Logistic Regression:\n",
    "\n",
    "The accuracy of the Logistic Regression model is 86.52%. Precision and recall scores are also 0.0, indicating poor performance in predicting successful movies.\n",
    "BERT:\n",
    "\n",
    "The BERT model, despite having an accuracy of 83.97%, exhibits precision and recall scores of 0.0, suggesting a failure to effectively identify successful movies.\n",
    "Considering the classification report, the overall accuracy is 84%, but precision and recall for predicting successful movies are both 0.0. The macro and weighted averages for precision, recall, and F1-score are also relatively low.\n",
    "\n",
    "In conclusion, none of the models, including SVM, Naive Bayes, Logistic Regression, and BERT, demonstrate significant effectiveness in predicting the success of IMDb movies based on the provided evaluation metrics. The classification report indicates challenges in correctly identifying successful movies, and precision and recall scores are notably low. Further investigation and potential adjustments to the models or features may be necessary for improved performance. The findings are specific to the dataset and evaluation criteria used in this analysis.\n",
    "\n",
    "\n",
    "\n",
    "\n",
    "\n"
   ]
  }
 ],
 "metadata": {
  "kernelspec": {
   "display_name": "Python 3 (ipykernel)",
   "language": "python",
   "name": "python3"
  },
  "language_info": {
   "codemirror_mode": {
    "name": "ipython",
    "version": 3
   },
   "file_extension": ".py",
   "mimetype": "text/x-python",
   "name": "python",
   "nbconvert_exporter": "python",
   "pygments_lexer": "ipython3",
   "version": "3.9.13"
  }
 },
 "nbformat": 4,
 "nbformat_minor": 5
}
